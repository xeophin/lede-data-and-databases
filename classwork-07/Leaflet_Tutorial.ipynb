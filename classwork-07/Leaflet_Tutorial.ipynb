{
 "cells": [
  {
   "cell_type": "markdown",
   "metadata": {},
   "source": [
    "\n",
    "## Working with Leaflet.js\n",
    "\n",
    "Leaflet.js is a JavaScript library that allows you to make interactive maps that includes shapes, markers, pop-up windows and many other built-in interactive capabilities. But, because it's written in JavaScript and running the browser, anyone with knowledge of JavaScript can extend its capabilities as far as that knowledge can take them. \n",
    "\n",
    "What is most important to us is that \"data\" can be attached to these maps via **geojson format**--making the map, and the rest of the browser an interface for the reader to explore and engage with the output of your research.\n",
    "\n",
    "For your final projects--the real goal is producing successful, thoughtful, meaningful **output** that can be discovered through the map. More on the specific output you'll need in a moment: first, in basics about JavaScript and Leaflet.\n",
    "\n",
    "### JavaScript\n",
    "JavaScript is the programming language that was invented in order to make webpages interactive. JavaScript is an odd and quirky language--it began as a necessity for scripting events on web browsers, and now it has been extended in many directions beyond even the browser. There are many JavaScript tutorials out there -- https://www.w3schools.com/js/ is the most basic, and a decent place to start. With your knowledge of Python you could certainly learn JavaScript via tutorials, books like *Javascript & JQuery, interactive front-end web development*, by Jon Duckett, sites/books like http://eloquentjavascript.net/, and, of course, by patrolling stack overflow.\n",
    "\n",
    "A few basic things to know:\n",
    "\n",
    "-All lines in JavaScript are supposed to end with the semi-colon  `;`\n",
    "Not everyone follows this standard, but that's what you're supposed to.\n",
    "\n",
    "-All functions, loops, if statements etc. are enclosed in brackets `{ }`\n",
    "For example, here's a JavaScript loop:\n",
    "\n",
    "`\n",
    "for (var i=0; i < 10; i++) {\n",
    "   console.log(i)\n",
    "}\n",
    "`\n",
    "\n",
    "Here is the JavaScript loop through an array (Python list):\n",
    "\n",
    "`var daysofWeek = ['Sunday', 'Monday', 'Tuesday', 'Wednesday', 'Thursday', 'Friday', 'Saturday'];`\n",
    "\n",
    "`\n",
    "for (var i=0; i < 10; i++) {\n",
    "   console.log(daysofWeek[i])\n",
    "}\n",
    "`\n",
    "\n",
    "\n",
    "**JavaScript console** Notice the `console.log()`, that is the JavaScript version of `print()` The runtime environment for JavaScript is the browser. The console is the JavaScript console that is part of the browser's developer tools. Go to Chrome and select:\n",
    "\n",
    "`View:Developer:JavaScript Console`\n",
    "\n",
    "And you can cut-and-paste each of those loops into the console and run it. The console is very helpful for debugging JavaScript. When you have errors on the the page, the console tells you where they are by line number (or tries to), and you can also log variables into the console to make sure everything is working in your script. **If you try to load your map, you should always check the JavaScript console if you have any trouble.**\n",
    "\n",
    "There's a lot more to know about JavaScript, if you want to learn it. Here a few random things to know:\n",
    "\n",
    "-Indentations are meaningless in JavaScript (but it's good to use them so your code can be read clearly by a human)\n",
    "\n",
    "-JavaScript is a messy language, it tries not to be type-specific: so it will automatically convert numerical variables into strings and back--unless it doesn't.\n",
    "\n",
    "-JavaScript tries not to break--if one part of the script breaks it tries to keep the page going, so sometimes it's hard to debug. \n",
    "\n",
    "-JavaScript cares about the DOM -- it reads the page for elements and allows you to change their contents, styles, and lots of other things. For really robust browser-page effects, you should use the Jquery library--it's like short-hand, superpowered JavaScript.\n",
    "\n",
    "-As I'm sure you all know by now, \"lists\" in Python are \"arrays\" in JavaScript, \"dictionaries\" in Python are \"objects\" in JavaScript.\n",
    "\n",
    "-Finally: **you do not need to learn JavaScript to complete this project.** I have built templates that will allow you to build a geojson file that will plug into the leaflet.js page with only a little bit of work and custom changes.\n"
   ]
  },
  {
   "cell_type": "markdown",
   "metadata": {},
   "source": [
    "\n",
    "## MAPS ON SCREEN\n",
    "\n",
    "### SCREEN SPACE\n",
    "This is the space on the browser, and the screen is measured on an X/Y axis. All of the placement of elements on the screen have a location on these coordinates. The top left-hand corner of the browser Is at (x:0,y:0). The further to the right you go the more pixels 'x' is. The further down you go the more pixels 'y' is. To get an idea of locations try this page: \n",
    "\n",
    "https://www.w3schools.com/jsref/tryit.asp?filename=tryjsref_event_mouse_clientxy2\n",
    "\n",
    "The main thing that a library like Leaflet.js https://leafletjs.com/examples.html does Is translate longitudes and latitudes into screen space...\n",
    "\n",
    "### Templates\n",
    "There are two templates that I am providing for this project. I have created them so you can go very far with almost no customization at all. There are two main templates available on courseworks:\n",
    "\n",
    "`map_shapes_template.zip\n",
    "&\n",
    "map_points_template.zip`\n",
    "\n",
    "These both contain two files:\n",
    "\n",
    "`leaflet_map.html\n",
    "geo-data.js`\n",
    "\n",
    "`leaflet_map.html` contains all of the HTML, CSS, JavaScript to display the map can make it interactive. How much you want to customize the styles, layout, etc is completely optional. \n",
    "\n",
    "`geo-data.js` contains the geojson document that you will export from your data frames. 95% of the work is in building this.\n",
    "\n",
    "### Positioning your map\n",
    "To make your leaflet project work, you only need to make some small changes on the HTML page (your main goal is generating the proper output for geojson--I'll get to that soon). First here are a few things that you can do to the HTML/leaflet code.\n",
    "\n",
    "Center your map and choose your zoom:\n",
    "\n",
    "`var map = L.map('map').setView([37.8, -96], 4);`\n",
    "\n",
    "This is the first JavaScript variable that you will see as the map is constructed. `L.` means you're using the leaflet library to build this map. More importantly `.setView()` tells the browser what latitude and longitude you want the map to be centered on `[37.8, -96]`, and the next number is the zoom level `4)`. 0 is the whole world, around 12 you start zooming in on a city, after 20 you start getting very very close to the street. `map_points_template` uses the  method getBounds() that automatically sets your maps center and zoom--which can be super helpful or make things more complicated--see the template code for details.\n",
    "\n",
    "## Tiles\n",
    "What are tiles? Tiles are the background images that are displayed on an interactive screen map. If you have ever gone to [Google Maps](https://www.google.com/maps), you may have noticed that the world according to Google has a particular look and feel to it--very tan, green and blue. This is the default design for Google Maps' tiles. Notice how when you zoom in or move the mouse around, there is an empty gray space before the details of the map show up. These are tiles: different illustrations of maps that have been created for various levels of zoom, for every part of the earth. Your browser doesn't download all of them at once--that would be a huge download. Instead, these images of the earth are split up into small tiles and served dynamically to you depending on what you're looking at (what level of zoom, and what geographic location).\n",
    "\n",
    "One of the advantages and limitations to Leaflet is that it serves tiles through Mapbox--so your maps can work just like Google Maps. The problem of course is that these tiles greatly influence the look and feel of your map. There are different free tiles out there that you can try to implement to make things look better. (And if you are a designer, and have a lot of time on your hands, you can custom-make tiles.)\n",
    "\n",
    "Choose your tiles:\n",
    "\n",
    "`id: 'mapbox.light'`\n",
    "\n",
    "This line lets you access a free tile library from MapBox, are other free tiles include:\n",
    "\n",
    "`mapbox.dark, mapbox.streets, mapbox.satellite`\n",
    "\n",
    "Full list of the out-of-the-box stuff: https://www.mapbox.com/api-documentation/#maps\n",
    "\n",
    "There is a slightly better range of less offensive map tiles here. If you choose these, you need to copy the JavaScript provided in the pop-up window when you select the map:\n",
    "\n",
    "https://leaflet-extras.github.io/leaflet-providers/preview/\n",
    "\n",
    "You can do some searching for others if you'd like--some cost money, some you can design yourself, but you don't have time for that right now. (Also note: we are using the default access token from the leaflet tutorials--if you want to get more serious about this, I recommend that you get your own axis token.)\n",
    "\n",
    "Those are the super basics--you can go a lot deeper on your own if you want to pursue this project beyond the next two weeks.\n",
    "\n",
    "### OUTPUT!\n",
    "\n",
    "Finally, this is really what matters the next 10 days. You are now scraping cleaning and aggregating your data. The question will be, **what do you want people to see?** Here are the main categories need to focus on in order to get the output you need.  All of these outputs will be constructed in Python, and exported to geojson.\n",
    "\n",
    "## geojson\n",
    "\n",
    "The **geojson format** is a standardized form of JSON (JavaScript object notation)--specifically set up to be read by mapping programs (not just Leaflet but all mapping programs). The main thing to understand is that each point or shape on a map is considered a feature. Each feature is held in an array (list) called featuresCollection. Each feature has two important properties (keys)--**geometry**, which contains the longitude and latitude as well as type of shape-- and **properties**, which attaches any additional data to that shape. Here's a simple example of a feature:\n",
    "`\n",
    "{\n",
    "\"type\": \"Feature\",\n",
    "\"properties\": {\"party\": \"Democrat\"},\n",
    "\"geometry\": {\n",
    "\"type\": \"Polygon\",\n",
    "\"coordinates\": [[\n",
    "[-109.05, 41.00],\n",
    "[-102.06, 40.99],\n",
    "[-102.03, 36.99],\n",
    "[-109.04, 36.99],\n",
    "[-109.05, 41.00]\n",
    "]]\n",
    "}\n",
    "`\n",
    "\n",
    "For your project it is the properties that are 95% of the challenge--but you will need some geometry so that you have interactive shapes on your map.\n",
    "\n",
    "## Geometry\n",
    "This is critical to building your GEOJSON object--**geometry** is the property that uses longitude and latitude to plot points or draw shapes on the map. What kind of geometry will you need? There're two aspects of geometry you need to decide on--first what geographical level are you studying (Country, State, City, Address), and second, what kind of shape do you need?\n",
    "\n",
    "The two templates for this project do imply that you have to make a choice between to main categories of shapes: **polygons** or **points**. Polygons are shapes like the shape of the state or a country. Points are specific locations (like an address) defined by a single set of longitude and latitude. (Usually these different categories of shapes imply different levels of knowledge. You can try to combine them for the project, and the templates may or may not behave...) Most of you will need polygons and multi polygons for Country/State level projects. A few of you will need points (which is simple latitude and longitude). \n",
    "\n",
    "Here is Leaflet's tutorial on what shapes are:\n",
    "\n",
    "http://leafletjs.com/examples/geojson/\n",
    "\n",
    "But rather than reading a boring tutorial, let's just make some shapes! For a class today we are going to build a very quick point map, and make it work in the points template.\n",
    "\n",
    "Go to this site, and make some points:\n",
    "\n",
    "http://geojson.io/\n",
    "\n",
    "This site allows you to dynamically construct a geojson document. Zoom into whatever you like and start making points. As you might begin to understand as you build your random point map, the real trick with a program like leaflet is that it translates longitude and latitude coordinates to the X and Y grid of the screen space.\n",
    "\n",
    "Once you have constructed your document's geometry, you can now add the properties from our template:\n",
    "\n",
    "`{\"article\": \"<p>text</p>\", \"color\": \"#FFFF00\", \"group_id\": 1, \"group_name\": \" \", \"headline\":\"\", \"name\": \" \"}`\n",
    "\n",
    "While geometry is critical, at this point you only need to know which kind of geometry you'll need--the last step of your project should be locating shapefiles/lng-lats and merging them with your output data that will all be in the \"properties\" object/dictionary of your final geojson document. (Today's later tutorials begin to take you through those exact steps.)\n",
    "\n",
    "\n",
    "## Properties \n",
    "This is what you should be focusing on building. As you will see, there are only about four or five dictionary keys that you need to build. But you need to build them well.\n",
    "\n",
    "### Informational properties\n",
    "**name:** State/Country/City/Court district--the main unit of study/geometry\n",
    "\n",
    "**headline:** a simple short summary of the information attached to the layer (State/City/Point)--like a headline. This will appear in the pop-up window when you roll over a layer.\n",
    "\n",
    "**article:** text displayed in the browser, outside of the map--this can be an entire article in HTML. This text will be displayed when you click on a layer.\n",
    "\n",
    "### Visual grouping properties\n",
    "**color:** in a hexadecimal (\"#660066\") or RGB (\"rgb(120,0,120)\") string -- for more on defining colors, check this out: https://color.adobe.com/create/color-wheel/\n",
    "Think about how many colors do you need, and what kind of colors would be the most representative, appropriate, effective.\n",
    "\n",
    "**radius**: This only works with points geometry. You can set the radius of each point in pixels.\n",
    "\n",
    "**group_id:** and **groud_name:** different groupings of data to be displayed separately as multiple layers on the map--this will allow you to display/study multiple aspects of the data.\n",
    "\n",
    "### geojson row:\n",
    "Here's an example one row in geojson format that will work with the template:\n",
    "`\n",
    "{\n",
    "      \"type\": \"Feature\",\n",
    "      \"properties\":{ \"name\": \"My House\", \"group_name\": \"best\", \"group_id\": 1, \"headline\": \"home\", \"article\": \"<p>What I like about my house is ...,<\\/p>\", \"color\": \"#660000\", \"radius\": \"7\" },\n",
    "      \"geometry\": {\n",
    "        \"type\": \"Point\",\n",
    "        \"coordinates\": [\n",
    "          -73.96416664123535,\n",
    "          40.78950978441437\n",
    "        ]\n",
    "      }\n",
    "    }\n",
    "`\n",
    "\n",
    "You will have a number of these rows. You want to build them in pandas, and then export them as json document format--See below for how to do this.\n",
    "\n",
    "## Plugging in your geojson document\n",
    "In the world of best practices, your exported json document could be served directly into the leaflet_map.html page using omnivore:\n",
    "\n",
    "https://github.com/mapbox/leaflet-omnivore\n",
    "\n",
    "But setting this up entails running the server on your computer that you access through your browser. \n",
    "\n",
    "So, the much easier way to do this just to take the geojson document, paste the whole thing into the geo-data.js file, directly following the variable:\n",
    "\n",
    "`infoData = `\n",
    "\n",
    "So that your first line begins like this:\n",
    "\n",
    "`infoData = {\"type\": \"FeatureCollection\", \"features\": `\n",
    "\n",
    "... Continuing on with the entirety of the exported document.\n",
    "\n",
    "\n"
   ]
  },
  {
   "cell_type": "markdown",
   "metadata": {},
   "source": [
    "\n",
    "## The process: from shapefiles to dataframes to leaflet"
   ]
  },
  {
   "cell_type": "markdown",
   "metadata": {},
   "source": [
    "### Shapefiles\n",
    "\n",
    "Sometimes the biggest challenge is finding the right shapes for your project.\n",
    "\n",
    "If you simply need country shapes, this is a possible resource:\n",
    "\n",
    "https://geojson-maps.ash.ms/\n",
    "\n",
    "If you need to get latitude and longitude's, your best bet is the Google maps API:\n",
    "\n",
    "https://developers.google.com/maps/documentation/geocoding/start\n",
    "\n",
    "Some other general US shapes are here:\n",
    "\n",
    "https://www.census.gov/geo/maps-data/data/tiger-cart-boundary.html\n",
    "\n",
    "If you are doing federal court districts, you are in luck, I found them for you! This is not the easiest search in the world, but eventually I came upon the shape files here:\n",
    "\n",
    "https://hifld-geoplatform.opendata.arcgis.com/datasets/us-district-court-jurisdictions\n",
    "\n",
    "Since you have begun QGIS in foundations, you might have some shortcuts for setting up shapefiles and getting them into pandas, but this method will get you there as well. Using the District Court's shapefile as an example.\n"
   ]
  },
  {
   "cell_type": "markdown",
   "metadata": {},
   "source": [
    "### Mapshaper\n",
    "\n",
    "This is an online tool for processing, formatting, and exporting shape files. \n",
    "\n",
    "http://mapshaper.org/\n",
    "\n",
    "You drag and drop the shapefile that you downloaded--and, most importantly for the District Court, you want to downsize that so it's not too big. \n",
    "\n",
    "Then you export it as geojson..."
   ]
  },
  {
   "cell_type": "markdown",
   "metadata": {},
   "source": [
    "### geojson > pandas > leaflet\n",
    "\n",
    "There are many ways to do this, but this process takes your geojson document, and transforms it to the architecture you need for the leaflet templates."
   ]
  },
  {
   "cell_type": "code",
   "execution_count": null,
   "metadata": {
    "collapsed": true
   },
   "outputs": [],
   "source": [
    "#Some nice imports\n",
    "import requests\n",
    "import json\n",
    "import numpy as np\n",
    "import pandas as pd\n",
    "from pandas.io.json import json_normalize\n"
   ]
  },
  {
   "cell_type": "code",
   "execution_count": null,
   "metadata": {
    "collapsed": true
   },
   "outputs": [],
   "source": [
    "##Load the geojson file Exported from Mapshaper\n",
    "\n",
    "with open('US_JD_simply.json') as json_data:\n",
    "    geometry_data = json.load(json_data)\n"
   ]
  },
  {
   "cell_type": "code",
   "execution_count": null,
   "metadata": {
    "collapsed": true
   },
   "outputs": [],
   "source": [
    "##Normalize the hierarchy  so you have simple rows in a dataframe\n",
    "##Note that you need to extract it from geometry_data['features']\n",
    "df = pd.DataFrame.from_dict(json_normalize(geometry_data['features']), orient='columns')\n"
   ]
  },
  {
   "cell_type": "code",
   "execution_count": null,
   "metadata": {},
   "outputs": [],
   "source": [
    "df.head()"
   ]
  },
  {
   "cell_type": "markdown",
   "metadata": {},
   "source": [
    "Note that the hierarchy of **properties.** and **geometry.** are maintained by the dot notation in the headers, this will help us when we turn it back into a geojson document.\n",
    "\n",
    "Ideally, you would have another data frame with some nice columns to join with this. But instead, I'm just going to build out the columns we need.\n",
    "\n",
    "But first, I'm going to get **rid of some the columns** I don't want--probably good idea to save them on some level, but for the purposes of the template they are useless!"
   ]
  },
  {
   "cell_type": "code",
   "execution_count": null,
   "metadata": {
    "collapsed": true
   },
   "outputs": [],
   "source": [
    "df2 = df.drop(df.columns[[6, 7, 8, 9,10]], axis=1)"
   ]
  },
  {
   "cell_type": "code",
   "execution_count": null,
   "metadata": {},
   "outputs": [],
   "source": [
    "df2.head()"
   ]
  },
  {
   "cell_type": "markdown",
   "metadata": {},
   "source": [
    "Now we begin **building the properties** necessary for the template.\n",
    "\n",
    "**name:** This is the name of the location that shows up when you rollover the shape.\n",
    "\n",
    "(*lambda* Which you will see a lot of below, Is what is called an anonymous function or one-line function. It allows you to do transformations on iterated values, along with other stuff...Here it changes the line to title case)\n"
   ]
  },
  {
   "cell_type": "code",
   "execution_count": null,
   "metadata": {
    "collapsed": true
   },
   "outputs": [],
   "source": [
    "df2['properties.name'] = df2['properties.DISTRICT'].apply(lambda x: x.title())"
   ]
  },
  {
   "cell_type": "markdown",
   "metadata": {},
   "source": [
    "\n",
    "**headline:** This is the lead sentence or bullet point displayed when you rollover the shape.\n"
   ]
  },
  {
   "cell_type": "code",
   "execution_count": null,
   "metadata": {
    "collapsed": true
   },
   "outputs": [],
   "source": [
    "df2['properties.headline'] = df2['properties.District_N'].apply(lambda x: \"This is in district \" + x)"
   ]
  },
  {
   "cell_type": "markdown",
   "metadata": {},
   "source": [
    "\n",
    "**article:** This should be a great deal of aggregated text output, but for now we put in dummy text.\n",
    "\n",
    "Oh, and you can call a function from *lambda*--which is convenient.\n"
   ]
  },
  {
   "cell_type": "code",
   "execution_count": null,
   "metadata": {
    "collapsed": true
   },
   "outputs": [],
   "source": [
    "def nice_text(district):\n",
    "    d = district.title()\n",
    "    return d + \" is great. But you really want to do a join here with your real information...\""
   ]
  },
  {
   "cell_type": "code",
   "execution_count": null,
   "metadata": {
    "collapsed": true
   },
   "outputs": [],
   "source": [
    "df2['properties.article'] = df2['properties.DISTRICT'].apply(lambda x: nice_text(x))"
   ]
  },
  {
   "cell_type": "code",
   "execution_count": null,
   "metadata": {},
   "outputs": [],
   "source": [
    "df2.head()"
   ]
  },
  {
   "cell_type": "markdown",
   "metadata": {},
   "source": [
    "\n",
    "**color:** This will set the color for every shape. Here we are making semi-random colors for every single shape...Not a good thing to do. But definitely have a lot of funWith your color algorithms here. You want the colors to Reflect different ranges of values. Random is the last thing you want to do. But the function below builds random hexadecimal color values.\n"
   ]
  },
  {
   "cell_type": "code",
   "execution_count": null,
   "metadata": {
    "collapsed": true
   },
   "outputs": [],
   "source": [
    "def rand_color():\n",
    "    letters = 'ABCDEF'\n",
    "    import random\n",
    "    from random import randint\n",
    "    this_letter = random.choice(letters)\n",
    "    random_num1 = randint(0,9)\n",
    "    random_num2 = randint(0,9)\n",
    "    hexColor = '#' + this_letter + this_letter + str(random_num1)+ str(random_num1)+ str(random_num2)+ str(random_num2)\n",
    "    return hexColor"
   ]
  },
  {
   "cell_type": "code",
   "execution_count": null,
   "metadata": {
    "collapsed": true
   },
   "outputs": [],
   "source": [
    "df2['properties.color'] = df2.apply(lambda x: rand_color(), axis=1)"
   ]
  },
  {
   "cell_type": "code",
   "execution_count": null,
   "metadata": {},
   "outputs": [],
   "source": [
    "df2.head()"
   ]
  },
  {
   "cell_type": "markdown",
   "metadata": {},
   "source": [
    "\n",
    "**group_id:** This separates different groups with the pulldown menu. Showing everything should be groups 0, Individual groups should begin at 1 And go up in order (2, 3, 4). If you want to have completely different groupsShowing different information but in the same place, talk to me about that.\n",
    "\n",
    "**group_name:** should correspond to **group_id:** It is the name that shows up in the menubar."
   ]
  },
  {
   "cell_type": "code",
   "execution_count": null,
   "metadata": {
    "collapsed": true
   },
   "outputs": [],
   "source": [
    "def dis_num(district):\n",
    "    if district == 'District of Columbia':\n",
    "        return '12'\n",
    "    else:\n",
    "        return district\n",
    "\n",
    "def dis_name(district):\n",
    "    if district == 'District of Columbia':\n",
    "        return district\n",
    "    else:\n",
    "        return \"District \" + district\n"
   ]
  },
  {
   "cell_type": "code",
   "execution_count": null,
   "metadata": {
    "collapsed": true
   },
   "outputs": [],
   "source": [
    "df2['properties.group_id'] = df2['properties.District_N'].apply(lambda x: dis_num(x))"
   ]
  },
  {
   "cell_type": "code",
   "execution_count": null,
   "metadata": {
    "collapsed": true
   },
   "outputs": [],
   "source": [
    "df2['properties.group_name'] = df2['properties.District_N'].apply(lambda x: dis_name(x))"
   ]
  },
  {
   "cell_type": "code",
   "execution_count": null,
   "metadata": {},
   "outputs": [],
   "source": [
    "df2.head()"
   ]
  },
  {
   "cell_type": "markdown",
   "metadata": {},
   "source": [
    "Great! Now we have built a out all of our special properties for the template.\n",
    "\n",
    "It's time to turn this back into **json format** we orient by records because that gives us an array of dictionaries.\n"
   ]
  },
  {
   "cell_type": "code",
   "execution_count": null,
   "metadata": {
    "collapsed": true
   },
   "outputs": [],
   "source": [
    "ok_json = json.loads(df2.to_json(orient='records'))\n"
   ]
  },
  {
   "cell_type": "markdown",
   "metadata": {},
   "source": [
    "But because we had to normalize the hierarchy of the geojson document we now have to rebuild the hierarchy so this json document becomes geojson, the function below does just that:\n"
   ]
  },
  {
   "cell_type": "code",
   "execution_count": null,
   "metadata": {
    "collapsed": true
   },
   "outputs": [],
   "source": [
    "def process_to_geojson(file):\n",
    "    geo_data = {\"type\": \"FeatureCollection\", \"features\":[]}\n",
    "    for row in file:\n",
    "        this_dict = {\"type\": \"Feature\", \"properties\":{}, \"geometry\": {}}\n",
    "        for key, value in row.items():\n",
    "            key_names = key.split('.')\n",
    "            if key_names[0] == 'geometry':\n",
    "                this_dict['geometry'][key_names[1]] = value\n",
    "            if str(key_names[0]) == 'properties':\n",
    "                this_dict['properties'][key_names[1]] = value\n",
    "        geo_data['features'].append(this_dict)\n",
    "    return geo_data\n",
    "            \n"
   ]
  },
  {
   "cell_type": "code",
   "execution_count": null,
   "metadata": {
    "collapsed": true
   },
   "outputs": [],
   "source": [
    "geo_format = process_to_geojson(ok_json)"
   ]
  },
  {
   "cell_type": "markdown",
   "metadata": {},
   "source": [
    "Now we can export this to a file! And Don't forget to open it and prepend this variable assignment to the beginning of the file:\n",
    "\n",
    "`infoData = `"
   ]
  },
  {
   "cell_type": "code",
   "execution_count": null,
   "metadata": {
    "collapsed": true
   },
   "outputs": [],
   "source": [
    "with open('geo-data.js', 'w') as outfile:\n",
    "    json.dump(geo_format, outfile)"
   ]
  },
  {
   "cell_type": "code",
   "execution_count": null,
   "metadata": {
    "collapsed": true
   },
   "outputs": [],
   "source": []
  }
 ],
 "metadata": {
  "kernelspec": {
   "display_name": "Python 3",
   "language": "python",
   "name": "python3"
  },
  "language_info": {
   "codemirror_mode": {
    "name": "ipython",
    "version": 3
   },
   "file_extension": ".py",
   "mimetype": "text/x-python",
   "name": "python",
   "nbconvert_exporter": "python",
   "pygments_lexer": "ipython3",
   "version": "3.6.5"
  }
 },
 "nbformat": 4,
 "nbformat_minor": 2
}
