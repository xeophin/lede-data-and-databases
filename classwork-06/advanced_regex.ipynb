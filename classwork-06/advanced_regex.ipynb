{
 "cells": [
  {
   "cell_type": "markdown",
   "metadata": {
    "collapsed": true
   },
   "source": [
    "## Regular expressions\n",
    "More ways to use regular expressions...\n",
    "\n",
    "More ways to think about parsing and reading unstructured texts..."
   ]
  },
  {
   "cell_type": "code",
   "execution_count": null,
   "metadata": {
    "collapsed": true
   },
   "outputs": [],
   "source": [
    "import re"
   ]
  },
  {
   "cell_type": "markdown",
   "metadata": {},
   "source": [
    "**Parsing an entire text** with groups and split"
   ]
  },
  {
   "cell_type": "code",
   "execution_count": null,
   "metadata": {
    "collapsed": true
   },
   "outputs": [],
   "source": [
    "f = open('hamlet.txt', 'r')\n",
    "play = f.read()\n",
    "play[:500]"
   ]
  },
  {
   "cell_type": "code",
   "execution_count": null,
   "metadata": {
    "collapsed": true
   },
   "outputs": [],
   "source": [
    "all_chars = re.findall(r\"[\\n]([A-Z]+)[\\n]\",play)\n",
    "# all_chars = re.findall(r\"[\\n](ACT [IV]+)[\\n]\",play)\n",
    "# all_chars = re.findall(r\"[\\n](ACT [IV]+[\\n]+SCENE [IVX]+.)\",play)\n",
    "# all_chars = re.findall(r\"(SCENE [IVX]+)\",play)\n",
    "# all_chars = re.findall(r\"(ACT [IV]+)*[\\n]+(SCENE [IVX]+)\",play)\n",
    "# all_chars = re.findall(r\"(ACT [IV]+)*[\\n]+(SCENE [IVX]+)(.*)\",play)\n",
    "# acts = re.split(r\"(ACT [IV]+)*[\\n]+(SCENE [IVX]+)\",play)\n",
    "all_chars\n",
    "# acts[8]"
   ]
  },
  {
   "cell_type": "markdown",
   "metadata": {},
   "source": [
    "**Groups for data type**"
   ]
  },
  {
   "cell_type": "code",
   "execution_count": null,
   "metadata": {
    "collapsed": true
   },
   "outputs": [],
   "source": [
    "house_reps = '''1st Zeldin, Lee R 1517 LHOB (202) 225-3826 Financial Services Foreign Affairs \n",
    "2nd King, Pete R 339 CHOB (202) 225-7896  Financial Services Homeland Security Intelligence \n",
    "3rd Suozzi, Thomas D 226 CHOB (202) 225-3335  Armed Services Foreign Affairs \n",
    "4th Rice, Kathleen D 1508 LHOB (202) 225-5516  Homeland Security Veterans' Affairs \n",
    "5th Meeks, Gregory W. D 2234 RHOB (202) 225-3461  Financial Services Foreign Affairs \n",
    "6th Meng, Grace D 1317 LHOB (202) 225-2601  Appropriations \n",
    "7th Velázquez, Nydia M. D 2302 RHOB (202) 225-2361  Financial Services Natural Resources Small Business \n",
    "8th Jeffries, Hakeem D 1607 LHOB (202) 225-5936  Budget Judiciary \n",
    "9th Clarke, Yvette D. D 2058 RHOB (202) 225-6231  Energy and Commerce Small Business Ethics \n",
    "10th Nadler, Jerrold D 2109 RHOB (202) 225-5635  Judiciary \n",
    "11th Donovan, Daniel R 1541 LHOB (202) 225-3371  Foreign Affairs Homeland Security \n",
    "12th Maloney, Carolyn D 2308 RHOB (202) 225-7944  Financial Services Oversight and Government Reform \n",
    "13th Espaillat, Adriano D 1630 LHOB (202) 225-4365  Education and the Workforce Foreign Affairs Small Business \n",
    "14th Crowley, Joseph D 1035 LHOB (202) 225-3965  Ways and Means \n",
    "15th Serrano, José E. D 2354 RHOB (202) 225-4361  Appropriations \n",
    "16th Engel, Eliot D 2462 RHOB (202) 225-2464  Foreign Affairs Energy and Commerce \n",
    "17th Lowey, Nita D 2365 RHOB (202) 225-6506  Appropriations Joint Select Committee on Budget and APPNs Process Reform \n",
    "18th Maloney, Sean Patrick D 1027 LHOB (202) 225-5441  Agriculture Transportation and Infrastructure \n",
    "19th Faso, John R 1616 LHOB (202) 225-5614  Agriculture Budget Transportation and Infrastructure \n",
    "20th Tonko, Paul D. D 2463 RHOB (202) 225-5076  Energy and Commerce Science, Space, and Technology \n",
    "21st Stefanik, Elise R 318 CHOB (202) 225-4611  Armed Services Education and the Workforce Intelligence \n",
    "22nd Tenney, Claudia R 512 CHOB (202) 225-3665  Financial Services \n",
    "23rd Reed, Tom R 2437 RHOB (202) 225-3161  Ways and Means \n",
    "24th Katko, John R 1620 LHOB (202) 225-3701  Homeland Security Transportation and Infrastructure \n",
    "25th Slaughter, Louise McIntosh - Vacancy D 2469 RHOB (202) 225-3615  \n",
    "26th Higgins, Brian D 2459 RHOB (202) 225-3306  Budget Ways and Means \n",
    "27th Collins, Chris R 1117 LHOB (202) 225-5265  Energy and Commerce\n",
    "'''"
   ]
  },
  {
   "cell_type": "code",
   "execution_count": null,
   "metadata": {
    "collapsed": true
   },
   "outputs": [],
   "source": [
    "house_list = house_reps.splitlines()\n",
    "house_list"
   ]
  },
  {
   "cell_type": "code",
   "execution_count": null,
   "metadata": {},
   "outputs": [],
   "source": [
    "#Multiline flag\n",
    "dists = re.findall(r\"^\\d\",house_reps,re.M) \n",
    "dists"
   ]
  },
  {
   "cell_type": "code",
   "execution_count": null,
   "metadata": {
    "collapsed": true
   },
   "outputs": [],
   "source": [
    "#[re.findall(r\"^\\d+\",line) for line in house_list]\n",
    "#[re.findall(r\"(^\\d+[nrst][dht])\",line) for line in house_list]\n",
    "#[re.findall(r\" [A-Z][\\w]+, [A-Z][\\w]+\",line) for line in house_list]\n",
    "#[re.findall(r\"^\\d+[nrst][dht] [A-Z][\\w]+,\",line) for line in house_list]\n",
    "#[re.findall(r\"[(]\\d+[)][ 0-9\\-]+\",line) for line in house_list]\n",
    "#[re.findall(r\"[(]\\d+[)] \\d{3}-\\d{4}\",line) for line in house_list]\n",
    "#[re.findall(r\"[(]\\d+[)] \\d+-*\\d+\",line) for line in house_list]\n",
    "#[re.findall(r\"\\D+$\",line) for line in house_list]\n",
    "#[re.findall(r\" [DR] \\d\",line) for line in house_list]\n",
    "#[re.findall(r\", ([A-Z]\\w+) ([A-Z]\\w+ )*([A-Z][.])*\",line) for line in house_list]\n",
    "[re.findall(r\", Jo[hs]\",line) for line in house_list]\n"
   ]
  },
  {
   "cell_type": "markdown",
   "metadata": {},
   "source": [
    "**Phrase search and ? (look ahead)**"
   ]
  },
  {
   "cell_type": "code",
   "execution_count": null,
   "metadata": {
    "collapsed": true
   },
   "outputs": [],
   "source": [
    "phrases = re.findall(r\"\\w{2}\",\"hello\") \n",
    "phrases = re.findall(r\"(?=(\\w{2}))\",\"hello\") \n",
    "phrases"
   ]
  },
  {
   "cell_type": "code",
   "execution_count": null,
   "metadata": {
    "collapsed": true
   },
   "outputs": [],
   "source": [
    "speech = '''Tomorrow, and tomorrow, and tomorrow,\n",
    "Creeps in this petty pace from day to day,\n",
    "To the last syllable of recorded time;\n",
    "And all our yesterdays have lighted fools\n",
    "The way to dusty death. Out, out, brief candle!\n",
    "Life's but a walking shadow, a poor player,\n",
    "That struts and frets his hour upon the stage,\n",
    "And then is heard no more. It is a tale\n",
    "Told by an idiot, full of sound and fury,\n",
    "Signifying nothing.'''"
   ]
  },
  {
   "cell_type": "code",
   "execution_count": null,
   "metadata": {
    "collapsed": true
   },
   "outputs": [],
   "source": [
    "# three-word phrases that begin with two-letter words\n",
    "phrases = re.findall(r\"\\b\\w{2}\\W+\\w+\\W+\\w+\",speech)\n",
    "#overlapping\n",
    "#phrases = re.findall(r\"(?=(\\b\\w{2}\\W+\\w+\\W+\\w+))\",speech) \n",
    "#groups\n",
    "#phrases = re.findall(r\"(\\b\\w{2})\\W+(\\w+)\\W+(\\w+)\",speech)\n",
    "#phrases = re.findall(r\"(?=(\\b\\w{2})\\W+(\\w+)\\W+(\\w+))\",speech)\n",
    "\n",
    "phrases"
   ]
  },
  {
   "cell_type": "markdown",
   "metadata": {
    "collapsed": true
   },
   "source": [
    "**Splitting a sentence**"
   ]
  },
  {
   "cell_type": "code",
   "execution_count": null,
   "metadata": {
    "collapsed": true
   },
   "outputs": [],
   "source": [
    "to_sentence = '''\n",
    "Mr. Smith bought cheapsite.com for 1.5 million \n",
    "dollars, i.e. he paid a lot for it. Did he \n",
    "mind? Adam Jones Jr. thinks he didn't. In any \n",
    "case, this isn't true... Well, with a \n",
    "probability of .9 it isn't. Right?! Mr. Comey of \n",
    "the F.B.I. thinks not. \n",
    "'''"
   ]
  },
  {
   "cell_type": "code",
   "execution_count": 2,
   "metadata": {
    "collapsed": true
   },
   "outputs": [],
   "source": [
    "#Write a regex that accurately splits \n",
    "#the paragraph above into sentences"
   ]
  },
  {
   "cell_type": "markdown",
   "metadata": {},
   "source": [
    "**More problems with text: The Waste Land**"
   ]
  },
  {
   "cell_type": "code",
   "execution_count": null,
   "metadata": {
    "collapsed": true
   },
   "outputs": [],
   "source": [
    "f = open('wasteland.txt', 'r')\n",
    "wasteland = f.read()"
   ]
  },
  {
   "cell_type": "code",
   "execution_count": null,
   "metadata": {
    "collapsed": true
   },
   "outputs": [],
   "source": [
    "#?! Looked ahead for something not containing\n",
    "# Homework example of 2 occurrences \"ow\" "
   ]
  },
  {
   "cell_type": "markdown",
   "metadata": {},
   "source": [
    "**Sometimes phrases are more useful than word searches**"
   ]
  },
  {
   "cell_type": "code",
   "execution_count": null,
   "metadata": {
    "collapsed": true
   },
   "outputs": [],
   "source": [
    "#phrases = re.findall(r\"\\b\\w{2}\\W+\\w+\\W+\\w+\",wasteland)\n",
    "phrases = re.findall(r\"\\bof\\W+the\\W+\\w+\",wasteland,re.IGNORECASE)\n",
    "phrases"
   ]
  },
  {
   "cell_type": "markdown",
   "metadata": {},
   "source": [
    "**Writing a Most Frequent Words script**"
   ]
  },
  {
   "cell_type": "code",
   "execution_count": null,
   "metadata": {
    "collapsed": true
   },
   "outputs": [],
   "source": [
    "waste_words = wasteland.lower()\n",
    "#waste_words1 = re.split(r\"\\W+\",waste_words)\n",
    "waste_words2 = re.findall(r\"\\b\\w+\\b\",waste_words)"
   ]
  },
  {
   "cell_type": "code",
   "execution_count": null,
   "metadata": {
    "collapsed": true
   },
   "outputs": [],
   "source": [
    "waste_words2"
   ]
  },
  {
   "cell_type": "code",
   "execution_count": null,
   "metadata": {
    "collapsed": true
   },
   "outputs": [],
   "source": [
    "sortwords = waste_words2.copy()\n",
    "sortwords.sort()\n",
    "sortwords"
   ]
  },
  {
   "cell_type": "code",
   "execution_count": null,
   "metadata": {
    "collapsed": true
   },
   "outputs": [],
   "source": [
    "all_words = []\n",
    "counter = 1\n",
    "this_word = \"\"\n",
    "for word in sortwords:\n",
    "    if word != this_word:\n",
    "        all_words.append({'word':this_word,'count':counter})\n",
    "        counter = 1\n",
    "        this_word = word\n",
    "    else:\n",
    "        counter +=1"
   ]
  },
  {
   "cell_type": "code",
   "execution_count": null,
   "metadata": {
    "collapsed": true
   },
   "outputs": [],
   "source": [
    "all_words"
   ]
  },
  {
   "cell_type": "code",
   "execution_count": null,
   "metadata": {
    "collapsed": true
   },
   "outputs": [],
   "source": [
    "order_words = sorted(all_words, key=lambda d: d['count'], reverse=True)\n",
    "order_words"
   ]
  },
  {
   "cell_type": "code",
   "execution_count": null,
   "metadata": {
    "collapsed": true
   },
   "outputs": [],
   "source": [
    "#Built-in version\n",
    "from collections import Counter\n",
    "wordcount = Counter(waste_words2)"
   ]
  },
  {
   "cell_type": "code",
   "execution_count": null,
   "metadata": {
    "collapsed": true
   },
   "outputs": [],
   "source": [
    "wordcount.most_common()"
   ]
  },
  {
   "cell_type": "code",
   "execution_count": null,
   "metadata": {
    "collapsed": true
   },
   "outputs": [],
   "source": []
  }
 ],
 "metadata": {
  "kernelspec": {
   "display_name": "Python 3",
   "language": "python",
   "name": "python3"
  },
  "language_info": {
   "codemirror_mode": {
    "name": "ipython",
    "version": 3
   },
   "file_extension": ".py",
   "mimetype": "text/x-python",
   "name": "python",
   "nbconvert_exporter": "python",
   "pygments_lexer": "ipython3",
   "version": "3.6.1"
  }
 },
 "nbformat": 4,
 "nbformat_minor": 2
}
