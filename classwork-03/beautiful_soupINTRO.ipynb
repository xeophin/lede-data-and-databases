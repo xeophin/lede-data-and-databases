{
 "cells": [
  {
   "cell_type": "markdown",
   "metadata": {},
   "source": [
    "## SCRAPING HTML\n",
    "HTML (\"Hypertext Mark-up Language\") is the language of the Internet, more specifically the World Wide Web. It is a very simple language that uses containers (like `<HTML>`content`</HTML>`) to tell a browser what up to display and how to display it.\n",
    "\n",
    "A note on browsers: from now on you should be using Chrome. If you do not have chrome installed on your computer, do that now before you go any further. Chrome's developers tools are solid and reliable (Firefox is good too, but if you want to be on the same page with everyone please use Chrome.)\n",
    "\n",
    "This is how the Internet works (in a simplified way): you go to a page by typing a URL into the browser. The URL is an HTTP request for a file on a server. The file that arrives at your browser is an HTML file--the browser reads the HTML and displays what is supposed to be displayed, and also runs some scripts in the background. Most often, the page you see on your browser is an HTML page. (There are many exceptions, like direct PDF files, as well as data accessed via APIs.)\n",
    "\n",
    "HTML is the raw text source code of what you see in a browser. In Chrome you can view the raw HTML by either going to the menu bar and choosing--View: Developer: View Source -- or right-clicking (control-clicking) the mouse on a page and choosing View Source. Like so:\n",
    "\n",
    "<img src=\"http://floatingmedia.com/columbia/viewsource.png\">\n",
    "\n",
    "Don't panic! While HTML can be very disorienting at first look, there are more targeted and helpful ways to investigate it. The best one is through Chrome's \"inspect\" function. Right-click (or control-click) on the part the page that interests you, and select \"Inspect\" or \"Inspect Element\"--and you get the much more friendly developers tools way of navigating through the DOM tree:\n",
    "\n",
    "<img src=\"http://floatingmedia.com/columbia/inspect2.png\">\n",
    "\n",
    "Did I say DOM tree? Yes, the DOM [document object model](https://www.w3schools.com/js/js_htmldom.asp) is a term for the hierarchical structure of HTML elements on a page. It is a tree, because each of the elements on a page is nested within groups of HTML tags. \n",
    "\n",
    "<img src=\"http://floatingmedia.com/columbia/treeStructure.png\">\n",
    "\n",
    "That is very simple DOM tree. Here is a somewhat more complicated version. Often it is much more complicated than even this. But the trick, when scraping a Web page, is learning how to navigate a hierarchy of the tree to find the levels information you want to extract, isolate, and/or restructure. \n",
    "\n",
    "<img src=\"http://floatingmedia.com/columbia/domtree2.png\">\n",
    "\n",
    "Here are the most common tags, and often the most helpful tags to use when navigating through an HTML page.\n",
    "\n",
    "`<h1>`, `<h2>`, `<h3>` headers\n",
    "`<p>` paragraph\n",
    "`<b>`, `<i>`, `<strong>` styles, like bold, italics...\n",
    "`<table><tr><td>` table elements including rows and cells\n",
    "`<a href=\"url\">` links\n",
    "`<div>`, `<span>` larger Element containers, these often have an id=\"name\" and/or class=\"name\" attached to them.\n",
    "`<ol>`,`<ul>`,`<li>` ordered and unordered lists\n",
    "\n",
    "For example: `<p>This would be a paragraph</p>`\n",
    "`<p>This would be a <b>paragraph</b></p>` Same thing but the word paragraph is bold\n",
    "\n",
    "Sometimes important information is hidden inside these tags:\n",
    "\n",
    "\n",
    "`<span class=\"year\">`2010`</span>`\n",
    "\n",
    "or \n",
    "\n",
    "`<a href=\"http://www.boxofficemojo.com/movies/?id=avengers11.htm\">`more info`</a>`\n",
    "\n",
    "In this case the \"class\" tag is likely adding styling information (see CSS), whereas the \"href\" tag holds a hyperlinked url. [For a more complete list of HTML tags click here](https://www.w3schools.com/tags/ref_byfunc.asp)\n",
    "\n",
    "\n",
    "**Why does this matter to us?**\n",
    "\n",
    "Note that each tag begins with `<tagname>` and ends with `</tagname>`. So these HTML tags are structuring the text. The reason for the structure is just to tell the browser how everything should look, but we can also use the structure of HTML to programmatically traverse the data on a webpage and scrape out the information we need. This is what scraping is. HTML is not a reliable data structure, but often it is consistent from page to page on a particular website. If you can learn how to navigate the dom tree, you can turn information on a messy webpage into reliable and searchable data.\n"
   ]
  },
  {
   "cell_type": "markdown",
   "metadata": {},
   "source": [
    "## This brings us to Beautiful Soup\n",
    "Beautiful Soup is a Python library that parses HTML, allowing us to navigate through the elements of a webpage using the HTML tags embedded in it. [Here is the link to the documentation,](https://www.crummy.com/software/BeautifulSoup/bs4/doc/) there are examples and extensions beyond what is demonstrated below.\n",
    "\n",
    "Now it's time to install Beautiful soup. Go to your terminal/shell/bash and type:\n",
    "\n",
    "`pip install beautifulsoup4` or `pip install bs4`\n",
    "\n",
    "We will begin by navigating a very simple HTML page I have posted on my website. [Please follow this link](http://floatingmedia.com/columbia/topfivelists.html) and try inspecting the HTML using Chrome. (p.s. The information on this page comes from [http://www.boxofficemojo.com/genres/chart/?id=comicbookadaptation.htm]"
   ]
  },
  {
   "cell_type": "markdown",
   "metadata": {},
   "source": [
    "The cell below uses the built in URL Library to import the file from the web. `raw_html` holds the text of that file.\n",
    "\n",
    "In the following cell, printing raw_html gives us all the text that was in the file."
   ]
  },
  {
   "cell_type": "code",
   "execution_count": 6,
   "metadata": {
    "collapsed": true
   },
   "outputs": [],
   "source": [
    "import requests\n",
    "\n",
    "raw_html = requests.get(\n",
    "  \"http://floatingmedia.com/columbia/topfivelists.html\").content\n"
   ]
  },
  {
   "cell_type": "code",
   "execution_count": 2,
   "metadata": {},
   "outputs": [
    {
     "name": "stdout",
     "output_type": "stream",
     "text": [
      "<class 'bytes'>\n"
     ]
    }
   ],
   "source": [
    "print(type(raw_html))"
   ]
  },
  {
   "cell_type": "code",
   "execution_count": 3,
   "metadata": {},
   "outputs": [
    {
     "name": "stdout",
     "output_type": "stream",
     "text": [
      "b'<!DOCTYPE html>\\n<html>\\n<head>\\n<title> best and worst comic book box office</title>\\n<style>\\n.year {color: #DD0000}\\n#favorite {background-color: #FFFFDD;\\n</style>\\n</head>\\n<body>\\n<p> comic book box office</p>\\n\\n<div>\\n<h1> Top Five Movies</h1>\\n<p><b> The Avengers</b> <span class=\"year\">2010</span> <a href=\"http://www.boxofficemojo.com/movies/?id=avengers11.htm\">more info</a></p>\\n<p><b> The Dark Knight</b> <span class=\"year\">2008</span></p>\\n<p><b> Avengers: Age Of Ultron</b> <span class=\"year\">2015</span></p>\\n<p><b> The Dark Knight Rises</b> <span class=\"year\">2012</span></p>\\n<p><b> Iron Man 3</b> <span class=\"year\">2013</span></p>\\n</div>\\n<div>\\n<h1> Middle Five Movies 47-51</h1>\\n<p><b> The Incredible Hulk</b> <span class=\"year\">2008</span> <a href=\"http://www.boxofficemojo.com/movies/?id=incrediblehulk.htm\">more info</a></p>\\n<p><b> Wanted</b> <span class=\"year\">2008</span></p>\\n<p id=\"favorite\"><b> Superman</b> <span class=\"year\">1978</span></p>\\n<p> The Wolverine<span class=\"year\">2013</span></p>\\n<p><b> Hulk</b> <span class=\"year\">2003</span></p>\\n</div>\\n<div>\\n<h1> Bottom Five Movies</h1>\\n <ul>\\n<li> The Rocketeer <span class=\"year\">1991</span></li>\\n<li> Timecop <span class=\"year\">1994</span></li>\\n<li> Teenage Mutant Ninja Turtles III <span class=\"year\">1993</span></li>\\n<li> Ghost In The Shell <span class=\"year\">2017</span></li>\\n<li> Catwoman <span class=\"year\">2004</span></li>\\n</ul>\\n<h2> Most Terrible 137-141</h2>\\n\\t<p>Snowpiercer</p>\\n\\t<p>Tank Girl</p>\\n\\t<p>Barb Wire</p>\\n\\t<p>Batman: kilpng joke</p>\\n\\t<p>Blue is the warmest color</p>\\n<h3>that\\'s all</h3>\\n</div>\\n\\n</body>\\n</html>\\n'\n"
     ]
    }
   ],
   "source": [
    "print(raw_html)"
   ]
  },
  {
   "cell_type": "markdown",
   "metadata": {},
   "source": [
    "Now we import Beautiful soup and create a new variable called soup_doc. In that variable we transform the text that we downloaded from the URL (the text in raw_html) into a beautiful soup object that we can investigate with built in functions (like .find())"
   ]
  },
  {
   "cell_type": "code",
   "execution_count": 4,
   "metadata": {
    "collapsed": true
   },
   "outputs": [],
   "source": [
    "from bs4 import BeautifulSoup"
   ]
  },
  {
   "cell_type": "code",
   "execution_count": 5,
   "metadata": {},
   "outputs": [
    {
     "name": "stdout",
     "output_type": "stream",
     "text": [
      "<class 'bs4.BeautifulSoup'>\n"
     ]
    }
   ],
   "source": [
    "soup_doc = BeautifulSoup(raw_html, \"html.parser\")\n",
    "print(type(soup_doc))"
   ]
  },
  {
   "cell_type": "code",
   "execution_count": 7,
   "metadata": {},
   "outputs": [
    {
     "name": "stdout",
     "output_type": "stream",
     "text": [
      "<!DOCTYPE html>\n<html>\n <head>\n  <title>\n   best and worst comic book box office\n  </title>\n  <style>\n   .year {color: #DD0000}\n#favorite {background-color: #FFFFDD;\n  </style>\n </head>\n <body>\n  <p>\n   comic book box office\n  </p>\n  <div>\n   <h1>\n    Top Five Movies\n   </h1>\n   <p>\n    <b>\n     The Avengers\n    </b>\n    <span class=\"year\">\n     2010\n    </span>\n    <a href=\"http://www.boxofficemojo.com/movies/?id=avengers11.htm\">\n     more info\n    </a>\n   </p>\n   <p>\n    <b>\n     The Dark Knight\n    </b>\n    <span class=\"year\">\n     2008\n    </span>\n   </p>\n   <p>\n    <b>\n     Avengers: Age Of Ultron\n    </b>\n    <span class=\"year\">\n     2015\n    </span>\n   </p>\n   <p>\n    <b>\n     The Dark Knight Rises\n    </b>\n    <span class=\"year\">\n     2012\n    </span>\n   </p>\n   <p>\n    <b>\n     Iron Man 3\n    </b>\n    <span class=\"year\">\n     2013\n    </span>\n   </p>\n  </div>\n  <div>\n   <h1>\n    Middle Five Movies 47-51\n   </h1>\n   <p>\n    <b>\n     The Incredible Hulk\n    </b>\n    <span class=\"year\">\n     2008\n    </span>\n    <a href=\"http://www.boxofficemojo.com/movies/?id=incrediblehulk.htm\">\n     more info\n    </a>\n   </p>\n   <p>\n    <b>\n     Wanted\n    </b>\n    <span class=\"year\">\n     2008\n    </span>\n   </p>\n   <p id=\"favorite\">\n    <b>\n     Superman\n    </b>\n    <span class=\"year\">\n     1978\n    </span>\n   </p>\n   <p>\n    The Wolverine\n    <span class=\"year\">\n     2013\n    </span>\n   </p>\n   <p>\n    <b>\n     Hulk\n    </b>\n    <span class=\"year\">\n     2003\n    </span>\n   </p>\n  </div>\n  <div>\n   <h1>\n    Bottom Five Movies\n   </h1>\n   <ul>\n    <li>\n     The Rocketeer\n     <span class=\"year\">\n      1991\n     </span>\n    </li>\n    <li>\n     Timecop\n     <span class=\"year\">\n      1994\n     </span>\n    </li>\n    <li>\n     Teenage Mutant Ninja Turtles III\n     <span class=\"year\">\n      1993\n     </span>\n    </li>\n    <li>\n     Ghost In The Shell\n     <span class=\"year\">\n      2017\n     </span>\n    </li>\n    <li>\n     Catwoman\n     <span class=\"year\">\n      2004\n     </span>\n    </li>\n   </ul>\n   <h2>\n    Most Terrible 137-141\n   </h2>\n   <p>\n    Snowpiercer\n   </p>\n   <p>\n    Tank Girl\n   </p>\n   <p>\n    Barb Wire\n   </p>\n   <p>\n    Batman: kilpng joke\n   </p>\n   <p>\n    Blue is the warmest color\n   </p>\n   <h3>\n    that's all\n   </h3>\n  </div>\n </body>\n</html>\n\n"
     ]
    }
   ],
   "source": [
    "print(soup_doc.prettify())\n",
    "#print(soup_doc)"
   ]
  },
  {
   "cell_type": "markdown",
   "metadata": {},
   "source": [
    "Here is a very simple example of beautiful soup's built in functions. .title is shorthand for .find('title'). It finds the first title tag in the document. If we append .string we get the text inside the tag. `soup_doc` is the variable we just made that contains the parsed HTML"
   ]
  },
  {
   "cell_type": "code",
   "execution_count": 8,
   "metadata": {},
   "outputs": [
    {
     "data": {
      "text/plain": [
       "<title> best and worst comic book box office</title>"
      ]
     },
     "execution_count": 8,
     "metadata": {},
     "output_type": "execute_result"
    }
   ],
   "source": [
    "soup_doc.title"
   ]
  },
  {
   "cell_type": "code",
   "execution_count": 9,
   "metadata": {},
   "outputs": [
    {
     "data": {
      "text/plain": [
       "' best and worst comic book box office'"
      ]
     },
     "execution_count": 9,
     "metadata": {},
     "output_type": "execute_result"
    }
   ],
   "source": [
    "soup_doc.title.string"
   ]
  },
  {
   "cell_type": "markdown",
   "metadata": {},
   "source": [
    "When you are first getting comfortable with beautiful soup, it is wise to use the .find() notation. find() searches for the first instance of a tag, and returns the contents of the tag as well as its tags. (Remember .string strips away the tags)"
   ]
  },
  {
   "cell_type": "code",
   "execution_count": 10,
   "metadata": {},
   "outputs": [
    {
     "data": {
      "text/plain": [
       "<p> comic book box office</p>"
      ]
     },
     "execution_count": 10,
     "metadata": {},
     "output_type": "execute_result"
    }
   ],
   "source": [
    "soup_doc.find('p')"
   ]
  },
  {
   "cell_type": "markdown",
   "metadata": {
    "collapsed": true
   },
   "source": [
    "Most often when we are scraping HTML simply finding one tag will not do the trick. We need to navigate hierarchically down the tree of nested tags. We'll begin by searching the first list that is contained in the first `<div>` tag. Since we are looking for the first occurrence, we can use .find()"
   ]
  },
  {
   "cell_type": "code",
   "execution_count": 11,
   "metadata": {},
   "outputs": [
    {
     "data": {
      "text/plain": [
       "<div>\n<h1> Top Five Movies</h1>\n<p><b> The Avengers</b> <span class=\"year\">2010</span> <a href=\"http://www.boxofficemojo.com/movies/?id=avengers11.htm\">more info</a></p>\n<p><b> The Dark Knight</b> <span class=\"year\">2008</span></p>\n<p><b> Avengers: Age Of Ultron</b> <span class=\"year\">2015</span></p>\n<p><b> The Dark Knight Rises</b> <span class=\"year\">2012</span></p>\n<p><b> Iron Man 3</b> <span class=\"year\">2013</span></p>\n</div>"
      ]
     },
     "execution_count": 11,
     "metadata": {},
     "output_type": "execute_result"
    }
   ],
   "source": [
    "soup_doc.find('div')\n",
    "#soup_doc.div  # would also work"
   ]
  },
  {
   "cell_type": "markdown",
   "metadata": {},
   "source": [
    "Below, we navigate the tree: starting at the outer `<div>` tag, and then we use find_all() to get a list of every `<p>` tag nested inside. After that we loop through the list of `<p>` tags, and pull out the text that is inside the `<b>` tag, using `string` to get us just the name of the movies with no tags around it."
   ]
  },
  {
   "cell_type": "code",
   "execution_count": 12,
   "metadata": {},
   "outputs": [
    {
     "name": "stdout",
     "output_type": "stream",
     "text": [
      " The Avengers\n The Dark Knight\n Avengers: Age Of Ultron\n The Dark Knight Rises\n Iron Man 3\n"
     ]
    }
   ],
   "source": [
    "first_div = soup_doc.find('div')\n",
    "#first_div Is a variable that contains all HTML in the first div \n",
    "all_paragraphs = first_div.find_all('p')\n",
    "#.find_all() gives us a list\n",
    "#so to search elements inside that list \n",
    "#we now need to loop through it\n",
    "for movies in all_paragraphs:\n",
    "    print(movies.find('b').string)"
   ]
  },
  {
   "cell_type": "markdown",
   "metadata": {},
   "source": [
    "**More on find_all()**\n",
    "\n",
    "If there are more than one of the same tags, find_all() gives us a list. We can use list notation to get a specific element in the list. The first cell below gives us a list of every single `<p>` tag in the document. In the following cell, we get a list of all of the `<p>` tags inside the first `<div>`. Try changing the index number `[0]` for each of these lists to see what you get."
   ]
  },
  {
   "cell_type": "code",
   "execution_count": 13,
   "metadata": {},
   "outputs": [
    {
     "data": {
      "text/plain": [
       "<p> comic book box office</p>"
      ]
     },
     "execution_count": 13,
     "metadata": {},
     "output_type": "execute_result"
    }
   ],
   "source": [
    "soup_doc.find_all('p')[0]\n",
    "# uncomment the line below to see the full list\n",
    "#soup_doc.find_all('p')"
   ]
  },
  {
   "cell_type": "code",
   "execution_count": 14,
   "metadata": {},
   "outputs": [
    {
     "data": {
      "text/plain": [
       "<p><b> The Avengers</b> <span class=\"year\">2010</span> <a href=\"http://www.boxofficemojo.com/movies/?id=avengers11.htm\">more info</a></p>"
      ]
     },
     "execution_count": 14,
     "metadata": {},
     "output_type": "execute_result"
    }
   ],
   "source": [
    "soup_doc.find('div').find_all('p')[0]\n",
    "#soup_doc.find('div').find_all('p')"
   ]
  },
  {
   "cell_type": "markdown",
   "metadata": {},
   "source": [
    "Here is a one-line search down the tree. Note that I specify the index number of the `<p>` tag I want to search further. Again, if I wanted to search all of the `<p>` tags, I would need to use a loop."
   ]
  },
  {
   "cell_type": "code",
   "execution_count": 15,
   "metadata": {},
   "outputs": [
    {
     "data": {
      "text/plain": [
       "' Avengers: Age Of Ultron'"
      ]
     },
     "execution_count": 15,
     "metadata": {},
     "output_type": "execute_result"
    }
   ],
   "source": [
    "soup_doc.find('div').find_all('p')[2].find('b').string\n",
    "#soup_doc.div.find_all('p')[2].b.string ##Same thing but shorter"
   ]
  },
  {
   "cell_type": "markdown",
   "metadata": {},
   "source": [
    "These are two examples of searching the first list and pulling it out the name and date of the third movie in the list [2] -- try changing that index number to get movies in the list."
   ]
  },
  {
   "cell_type": "code",
   "execution_count": 16,
   "metadata": {},
   "outputs": [
    {
     "name": "stdout",
     "output_type": "stream",
     "text": [
      "<b> Avengers: Age Of Ultron</b> <span class=\"year\">2015</span>\n"
     ]
    }
   ],
   "source": [
    "that_movie = soup_doc.find('div').find_all('p')[2]\n",
    "movie_name = that_movie.find('b')\n",
    "movie_year = that_movie.find('span')\n",
    "print(movie_name, movie_year)"
   ]
  },
  {
   "cell_type": "code",
   "execution_count": 17,
   "metadata": {},
   "outputs": [
    {
     "name": "stdout",
     "output_type": "stream",
     "text": [
      " Avengers: Age Of Ultron || 2015\n"
     ]
    }
   ],
   "source": [
    "that_movie = soup_doc.find('div').find_all('p')[2]\n",
    "movie_name = that_movie.b\n",
    "movie_year = that_movie.find('span')\n",
    "print(movie_name.string, \"||\", movie_year.string)"
   ]
  },
  {
   "cell_type": "markdown",
   "metadata": {},
   "source": [
    "Now we get the next list (the second `<div>` or list element [1]) and then pull out all of the names and dates by using a loop."
   ]
  },
  {
   "cell_type": "code",
   "execution_count": 18,
   "metadata": {},
   "outputs": [
    {
     "name": "stdout",
     "output_type": "stream",
     "text": [
      "<div>\n<h1> Middle Five Movies 47-51</h1>\n<p><b> The Incredible Hulk</b> <span class=\"year\">2008</span> <a href=\"http://www.boxofficemojo.com/movies/?id=incrediblehulk.htm\">more info</a></p>\n<p><b> Wanted</b> <span class=\"year\">2008</span></p>\n<p id=\"favorite\"><b> Superman</b> <span class=\"year\">1978</span></p>\n<p> The Wolverine<span class=\"year\">2013</span></p>\n<p><b> Hulk</b> <span class=\"year\">2003</span></p>\n</div>\n[<p><b> The Incredible Hulk</b> <span class=\"year\">2008</span> <a href=\"http://www.boxofficemojo.com/movies/?id=incrediblehulk.htm\">more info</a></p>, <p><b> Wanted</b> <span class=\"year\">2008</span></p>, <p id=\"favorite\"><b> Superman</b> <span class=\"year\">1978</span></p>, <p> The Wolverine<span class=\"year\">2013</span></p>, <p><b> Hulk</b> <span class=\"year\">2003</span></p>]\n"
     ]
    }
   ],
   "source": [
    "next_list = soup_doc.find_all('div')[1]\n",
    "print(next_list)\n",
    "next_movies = next_list.find_all('p')\n",
    "print(next_movies)"
   ]
  },
  {
   "cell_type": "code",
   "execution_count": 19,
   "metadata": {},
   "outputs": [
    {
     "name": "stdout",
     "output_type": "stream",
     "text": [
      " The Incredible Hulk || 2008\n Wanted || 2008\n Superman || 1978\n"
     ]
    },
    {
     "ename": "AttributeError",
     "evalue": "'NoneType' object has no attribute 'string'",
     "traceback": [
      "\u001b[0;31m---------------------------------------------------------------------------\u001b[0m",
      "\u001b[0;31mAttributeError\u001b[0m                            Traceback (most recent call last)",
      "\u001b[0;32m<ipython-input-19-d6457671f490>\u001b[0m in \u001b[0;36m<module>\u001b[0;34m()\u001b[0m\n\u001b[1;32m      2\u001b[0m     \u001b[0mmovie_name\u001b[0m \u001b[0;34m=\u001b[0m \u001b[0mmovie\u001b[0m\u001b[0;34m.\u001b[0m\u001b[0mb\u001b[0m\u001b[0;34m\u001b[0m\u001b[0m\n\u001b[1;32m      3\u001b[0m     \u001b[0mmovie_year\u001b[0m \u001b[0;34m=\u001b[0m \u001b[0mmovie\u001b[0m\u001b[0;34m.\u001b[0m\u001b[0mfind\u001b[0m\u001b[0;34m(\u001b[0m\u001b[0;34m'span'\u001b[0m\u001b[0;34m)\u001b[0m\u001b[0;34m\u001b[0m\u001b[0m\n\u001b[0;32m----> 4\u001b[0;31m     \u001b[0mprint\u001b[0m\u001b[0;34m(\u001b[0m\u001b[0mmovie_name\u001b[0m\u001b[0;34m.\u001b[0m\u001b[0mstring\u001b[0m\u001b[0;34m,\u001b[0m \u001b[0;34m\"||\"\u001b[0m\u001b[0;34m,\u001b[0m \u001b[0mmovie_year\u001b[0m\u001b[0;34m.\u001b[0m\u001b[0mstring\u001b[0m\u001b[0;34m)\u001b[0m\u001b[0;34m\u001b[0m\u001b[0m\n\u001b[0m",
      "\u001b[0;31mAttributeError\u001b[0m: 'NoneType' object has no attribute 'string'"
     ],
     "output_type": "error"
    }
   ],
   "source": [
    "for movie in next_movies:\n",
    "    movie_name = movie.b\n",
    "    movie_year = movie.find('span')\n",
    "    print(movie_name.string, \"||\", movie_year.string)"
   ]
  },
  {
   "cell_type": "markdown",
   "metadata": {},
   "source": [
    "Oh no! What just happened? I mean, yay, an error--something to learn from! What might have gone wrong? 'NoneType'  means that something wasn't successfully found. Well it worked all the way to Superman, but it broke on The Wolverine. Why? Think about it, and then look at the following way to deal with this problem."
   ]
  },
  {
   "cell_type": "code",
   "execution_count": 20,
   "metadata": {},
   "outputs": [
    {
     "name": "stdout",
     "output_type": "stream",
     "text": [
      " The Incredible Hulk || 2008\n Wanted || 2008\n Superman || 1978\nproblem || 2013\n Hulk || 2003\n"
     ]
    }
   ],
   "source": [
    "for movie in next_movies:\n",
    "    movie_name = movie.b\n",
    "    if movie_name is None: \n",
    "        movie_name = 'problem'\n",
    "    else:\n",
    "        movie_name = movie_name.string\n",
    "    movie_year = movie.find('span')\n",
    "    print(movie_name, \"||\", movie_year.string)"
   ]
  },
  {
   "cell_type": "markdown",
   "metadata": {},
   "source": [
    "Now the loop isn't breaking!  But what was the problem, and how do we fix it? Think about it. Or try doing the next thing and come back to this."
   ]
  },
  {
   "cell_type": "code",
   "execution_count": 21,
   "metadata": {
    "collapsed": true
   },
   "outputs": [
    {
     "name": "stdout",
     "output_type": "stream",
     "text": [
      " The Incredible Hulk || 2008\n Wanted || 2008\n Superman || 1978\n The Wolverine || 2013\n Hulk || 2003\n"
     ]
    }
   ],
   "source": [
    "# edit that loop above to get the missing movie name in there.\n",
    "for movie in next_movies:\n",
    "  movie_name = movie.b\n",
    "  if movie_name is None:\n",
    "    movie_name = movie.span.previous\n",
    "  else:\n",
    "    movie_name = movie_name.string\n",
    "  movie_year = movie.find('span')\n",
    "  print(movie_name, \"||\", movie_year.string)\n"
   ]
  },
  {
   "cell_type": "markdown",
   "metadata": {},
   "source": [
    "**get_text() vs string=True vs stripped_string**\n",
    "\n",
    "Sometimes HTML tags are more trouble than they are worth. Especially when they are inconsistent, they can cause problems and get in the way. There are few ways to grab out the text. It becomes less structured--we have less control over its format--which may cause  different problems. \n",
    "\n",
    "Here are three different ways to grab text out of the tags, each with its own fun complications."
   ]
  },
  {
   "cell_type": "code",
   "execution_count": 24,
   "metadata": {},
   "outputs": [
    {
     "name": "stdout",
     "output_type": "stream",
     "text": [
      "The Incredible Hulk|2008|more info\nWanted|2008\nSuperman|1978\nThe Wolverine|2013\nHulk|2003\n"
     ]
    }
   ],
   "source": [
    "#strings\n",
    "for movie in next_movies:\n",
    "  # movie_stuff = movie.get_text()\n",
    "  movie_stuff = movie.get_text('|', strip=True)\n",
    "  #append!!!\n",
    "  print(movie_stuff)\n"
   ]
  },
  {
   "cell_type": "code",
   "execution_count": 25,
   "metadata": {},
   "outputs": [
    {
     "name": "stdout",
     "output_type": "stream",
     "text": [
      "[' The Incredible Hulk', ' ', '2008', ' ', 'more info']\n[' Wanted', ' ', '2008']\n[' Superman', ' ', '1978']\n[' The Wolverine', '2013']\n[' Hulk', ' ', '2003']\n"
     ]
    }
   ],
   "source": [
    "#list\n",
    "for movie in next_movies:\n",
    "    movie_stuff = movie.find_all(string=True)\n",
    "    print(movie_stuff)"
   ]
  },
  {
   "cell_type": "code",
   "execution_count": 27,
   "metadata": {},
   "outputs": [
    {
     "name": "stdout",
     "output_type": "stream",
     "text": [
      "The Incredible Hulk\n2008\nmore info\nWanted\n2008\nSuperman\n1978\nThe Wolverine\n2013\nHulk\n2003\n"
     ]
    }
   ],
   "source": [
    "# generator\n",
    "for movie in next_movies:\n",
    "    for string in movie.stripped_strings:\n",
    "        print(string)"
   ]
  },
  {
   "cell_type": "markdown",
   "metadata": {},
   "source": [
    "**next_element and previous_element / find_next and find_previous**\n",
    "\n",
    "Sometimes things are less nicely defined and less easy to find, and you just want to look for next-door neighbors. These can be very handy, moving forward and backwards along the parsed elements."
   ]
  },
  {
   "cell_type": "markdown",
   "metadata": {},
   "source": [
    "To get the third list, we could have gotten `<div>` [2], but because it has a unique `<ul>` parent tag--we go straight for that.\n",
    "\n",
    "Now try this: get 'Ghost in the Shell' out of that list. Hint: next/previous will help."
   ]
  },
  {
   "cell_type": "code",
   "execution_count": 28,
   "metadata": {},
   "outputs": [
    {
     "name": "stdout",
     "output_type": "stream",
     "text": [
      "<ul>\n<li> The Rocketeer <span class=\"year\">1991</span></li>\n<li> Timecop <span class=\"year\">1994</span></li>\n<li> Teenage Mutant Ninja Turtles III <span class=\"year\">1993</span></li>\n<li> Ghost In The Shell <span class=\"year\">2017</span></li>\n<li> Catwoman <span class=\"year\">2004</span></li>\n</ul>\n"
     ]
    }
   ],
   "source": [
    "#third_list = soup_doc.find_all('div')[2].find('li')\n",
    "third_list = soup_doc.find('ul')\n",
    "print(third_list)\n",
    "\n"
   ]
  },
  {
   "cell_type": "code",
   "execution_count": 31,
   "metadata": {
    "collapsed": true
   },
   "outputs": [
    {
     "data": {
      "text/plain": [
       "' Ghost In The Shell '"
      ]
     },
     "execution_count": 31,
     "metadata": {},
     "output_type": "execute_result"
    }
   ],
   "source": [
    "#ghost = ??\n",
    "third_list.find_all('li')[3].span.previous\n",
    "third_list.find_all('li')[3].next"
   ]
  },
  {
   "cell_type": "markdown",
   "metadata": {},
   "source": [
    "**Parents, children, and siblings**\n",
    "\n",
    "So far we have navigated the DOM tree from parent to child-- div > p > b \n",
    "\n",
    "And we've seen that we can move side-to-side generally. But the NEXT elements ignore hierarchy, which can be useful.\n",
    "\n",
    "Sometimes you want to go the opposite direction, find a unique identifier inside a container and then get everything in the container. For example, as we saw the third list has a unique `<ul>` tag. If he wanted to get everything that is inside the same parent container (the `<div>`) we could do something like this:"
   ]
  },
  {
   "cell_type": "code",
   "execution_count": 32,
   "metadata": {},
   "outputs": [
    {
     "data": {
      "text/plain": [
       "<div>\n<h1> Bottom Five Movies</h1>\n<ul>\n<li> The Rocketeer <span class=\"year\">1991</span></li>\n<li> Timecop <span class=\"year\">1994</span></li>\n<li> Teenage Mutant Ninja Turtles III <span class=\"year\">1993</span></li>\n<li> Ghost In The Shell <span class=\"year\">2017</span></li>\n<li> Catwoman <span class=\"year\">2004</span></li>\n</ul>\n<h2> Most Terrible 137-141</h2>\n<p>Snowpiercer</p>\n<p>Tank Girl</p>\n<p>Barb Wire</p>\n<p>Batman: kilpng joke</p>\n<p>Blue is the warmest color</p>\n<h3>that's all</h3>\n</div>"
      ]
     },
     "execution_count": 32,
     "metadata": {},
     "output_type": "execute_result"
    }
   ],
   "source": [
    "soup_doc.find('ul').parent"
   ]
  },
  {
   "cell_type": "markdown",
   "metadata": {},
   "source": [
    "You can also go sideways, meaning finding siblings--elements that are in the same container at the same level of the hierarchy. As you've seen, the fourth list is not in its own div. To get the fourth list we could use the unique `<h2>` to get all of the siblings that come after it."
   ]
  },
  {
   "cell_type": "code",
   "execution_count": 33,
   "metadata": {},
   "outputs": [
    {
     "data": {
      "text/plain": [
       "[<p>Snowpiercer</p>,\n <p>Tank Girl</p>,\n <p>Barb Wire</p>,\n <p>Batman: kilpng joke</p>,\n <p>Blue is the warmest color</p>,\n <h3>that's all</h3>]"
      ]
     },
     "execution_count": 33,
     "metadata": {},
     "output_type": "execute_result"
    }
   ],
   "source": [
    "last_head = soup_doc.find('h2')\n",
    "last_list = last_head.find_next_siblings()\n",
    "last_list\n"
   ]
  },
  {
   "cell_type": "markdown",
   "metadata": {},
   "source": [
    "We can even specify what kind siblings you want to find--notice how that's final \"that's all\" showed up. We can search for all of the next `<p>` tags. (There is also a previous_siblings function goes backwards.)"
   ]
  },
  {
   "cell_type": "code",
   "execution_count": 34,
   "metadata": {},
   "outputs": [
    {
     "data": {
      "text/plain": [
       "[<p>Snowpiercer</p>,\n <p>Tank Girl</p>,\n <p>Barb Wire</p>,\n <p>Batman: kilpng joke</p>,\n <p>Blue is the warmest color</p>]"
      ]
     },
     "execution_count": 34,
     "metadata": {},
     "output_type": "execute_result"
    }
   ],
   "source": [
    "last_head = soup_doc.find('h2')\n",
    "last_list = last_head.find_next_siblings('p')\n",
    "last_list"
   ]
  },
  {
   "cell_type": "markdown",
   "metadata": {},
   "source": [
    "**Searching id and class**\n",
    "\n",
    "Most websites these days use id and class attributes to style (and run code) on their webpages. These can be some of the most helpful attributes to search for to find certain types/groups of information."
   ]
  },
  {
   "cell_type": "code",
   "execution_count": 35,
   "metadata": {},
   "outputs": [
    {
     "name": "stdout",
     "output_type": "stream",
     "text": [
      "[<span class=\"year\">2010</span>, <span class=\"year\">2008</span>, <span class=\"year\">2015</span>, <span class=\"year\">2012</span>, <span class=\"year\">2013</span>, <span class=\"year\">2008</span>, <span class=\"year\">2008</span>, <span class=\"year\">1978</span>, <span class=\"year\">2013</span>, <span class=\"year\">2003</span>, <span class=\"year\">1991</span>, <span class=\"year\">1994</span>, <span class=\"year\">1993</span>, <span class=\"year\">2017</span>, <span class=\"year\">2004</span>]\n"
     ]
    }
   ],
   "source": [
    "#Finds all classes named \"year\"\n",
    "all_years = soup_doc.find_all(class_=\"year\")\n",
    "print(all_years)\n",
    "#Try printing out just the years without any tags around them"
   ]
  },
  {
   "cell_type": "code",
   "execution_count": 36,
   "metadata": {},
   "outputs": [
    {
     "name": "stdout",
     "output_type": "stream",
     "text": [
      "[<p id=\"favorite\"><b> Superman</b> <span class=\"year\">1978</span></p>]\n"
     ]
    }
   ],
   "source": [
    "#Finds any tag that has an id attribute in it\n",
    "fav = soup_doc.find_all(id=True)\n",
    "print(fav)"
   ]
  },
  {
   "cell_type": "code",
   "execution_count": 37,
   "metadata": {},
   "outputs": [
    {
     "name": "stdout",
     "output_type": "stream",
     "text": [
      "[<p id=\"favorite\"><b> Superman</b> <span class=\"year\">1978</span></p>]\n"
     ]
    }
   ],
   "source": [
    "fav = soup_doc.find_all(id='favorite')\n",
    "print(fav)"
   ]
  },
  {
   "cell_type": "markdown",
   "metadata": {},
   "source": [
    "You can also search for any kind of attribute beyond id and class, and you can specify what kind of tag you want to look for that attribute in. This is very helpful for zoning in on specific parts of the webpage."
   ]
  },
  {
   "cell_type": "code",
   "execution_count": 38,
   "metadata": {},
   "outputs": [
    {
     "name": "stdout",
     "output_type": "stream",
     "text": [
      "[<p id=\"favorite\"><b> Superman</b> <span class=\"year\">1978</span></p>]\n"
     ]
    }
   ],
   "source": [
    "fav = soup_doc.find_all('p', attrs={'id': 'favorite'})\n",
    "print(fav)"
   ]
  },
  {
   "cell_type": "markdown",
   "metadata": {
    "collapsed": true
   },
   "source": [
    "**Pulling out attributes**\n",
    "\n",
    "Not only can you search by attributes but you can pull out the information hidden inside a tag. The most common information you will want to get is a link. Like in this tag: \n",
    "`<a href=\"http://www.boxofficemojo.com/movies/?id=avengers11.htm\">more info</a>`\n",
    "\n",
    "URLs are found in `<a>` tags inside the `href` attribute."
   ]
  },
  {
   "cell_type": "code",
   "execution_count": 39,
   "metadata": {},
   "outputs": [
    {
     "name": "stdout",
     "output_type": "stream",
     "text": [
      "http://www.boxofficemojo.com/movies/?id=avengers11.htm\n"
     ]
    }
   ],
   "source": [
    "first_link = soup_doc.find('a')\n",
    "get_url = first_link['href']\n",
    "#Note that this works just like a key in a dictionary\n",
    "print(get_url)"
   ]
  },
  {
   "cell_type": "markdown",
   "metadata": {},
   "source": [
    "**Using that link!**\n",
    "\n",
    "Here I am taking a real link to box office mojo and scraping a table with some basic information about the movie--and turning that info into a dictionary!"
   ]
  },
  {
   "cell_type": "code",
   "execution_count": 41,
   "metadata": {
    "collapsed": false
   },
   "outputs": [
    {
     "name": "stdout",
     "output_type": "stream",
     "text": [
      "<!DOCTYPE html PUBLIC \"-//W3C//DTD HTML 4.01 Transitional//EN\" \"http://www.w3.org/TR/html4/loose.dtd\">\n<html lang=\"en\">\n <head>\n  <meta content=\"text/html;charset=utf-8\" http-equiv=\"Content-type\"/>\n  <title>\n   Marvel's The Avengers (2012) - Box Office Mojo\n  </title>\n  <style type=\"text/css\">\n   table.chart-wide { width: 100%; }\n  </style>\n  <meta content=\"marvel's the avengers, movie, film, box office, result, records, charts, revenue, opening weekend, gross, worldwide, overseas, foreign, news, reviews, articles, stories, story, analysis, revenue, release date, mpaa rating, genre, running time, length, budget, production budget, distributor, studio, buena vista, theatrical summary, theatrical, showtimes, tickets, show times, theaters, playing, daily box office results, weekend box office results, weekly box office, weekly box office, international box office summary, worldwide box office summary, similar movies, image gallery, images, pictures, photos, box office mojo\" name=\"keywords\"/>\n  <meta content=\"Marvel's The Avengers summary of box office results, charts and release information and related links.\" name=\"description\"/>\n  <link charset=\"utf-8\" href=\"/css/mojo.css?1\" media=\"screen\" rel=\"stylesheet\" title=\"no title\" type=\"text/css\"/>\n  <link charset=\"utf-8\" href=\"/css/mojo.css?1\" media=\"print\" rel=\"stylesheet\" title=\"no title\" type=\"text/css\"/>\n  <script src=\"/js/jscharts.js\" type=\"text/javascript\">\n  </script>\n </head>\n <body>\n  <iframe frameborder=\"0\" height=\"1\" id=\"sis_pixel_sitewide\" marginheight=\"0\" marginwidth=\"0\" style=\"display: none;\" width=\"1\">\n  </iframe>\n  <script>\n   setTimeout(function(){\n        try{\n            //sis3.0 pixel\n            var cacheBust = Math.random() * 10000000000000000,\n                url_sis3 = 'http://s.amazon-adsystem.com/iu3?',\n                params_sis3 = [\n                    \"d=boxofficemojo.com\",\n                    \"cb=\" + cacheBust\n                ];\n\n            (document.getElementById('sis_pixel_sitewide')).src = url_sis3 + params_sis3.join('&');\n        }catch(e){\n            if (window.ueLogError) { \n                window.ueLogError(e);\n            }\n        }\n    }, 5);\n  </script>\n  <div id=\"container\">\n   <div>\n    <script type=\"text/javascript\">\n     var googletag = googletag || {};\n    googletag.cmd = googletag.cmd || [];\n\n    (function() {\n        var gads = document.createElement(\"script\");\n        gads.async = true;\n        gads.type = \"text/javascript\";\n\n        var useSSL = \"https:\" == document.location.protocol;\n        gads.src = (useSSL ? \"https:\" : \"http:\") + \"//www.googletagservices.com/tag/js/gpt.js\";\n\n        var node = document.getElementsByTagName(\"script\")[0];\n        node.parentNode.insertBefore(gads, node);\n    })();\n    </script>\n    <script type=\"text/javascript\">\n     var _gaq = _gaq || [];\n  _gaq.push(['_setAccount', 'UA-2831726-1']);\n  _gaq.push(['_trackPageview']);\n\n  (function() {\n    var ga = document.createElement('script'); ga.type = 'text/javascript'; ga.async = true;\n    ga.src = ('https:' == document.location.protocol ? 'https://ssl' : 'http://www') + '.google-analytics.com/ga.js';\n    (document.getElementsByTagName('head')[0] || document.getElementsByTagName('body')[0]).appendChild(ga);\n  })();\n    </script>\n    <div id=\"hp_banner\">\n     <div id=\"top_links\">\n      <div style=\"float: left\">\n       <a href=\"/daily/chart/\">\n        Daily Box Office (Tue.)\n       </a>\n       |\n       <a href=\"/weekend/chart/\">\n        Weekend Box Office (Jun. 1–3)\n       </a>\n       |\n       <a href=\"/movies/?id=untitledhansolostarwarsanthologyfilm.htm\">\n        #1 Movie: 'Solo: A Star Wars Story'\n       </a>\n       |\n       <a href=\"http://www.imdb.com/showtimes/?ref_=mojo\">\n        Showtimes\n       </a>\n      </div>\n      <div style=\"float: right\">\n       Updated 6/6/2018 2:56 P.M. Pacific Time\n      </div>\n      <div style=\"clear:both; height: 0px\">\n      </div>\n     </div>\n    </div>\n    <div id=\"header\">\n     <div id=\"leaderboard\">\n      <script src=\"http://bs.serving-sys.com/Serving/adServer.bs?c=28&amp;cn=display&amp;pli=1073982656&amp;w=728&amp;h=90&amp;ord=1528389789&amp;z=0\">\n      </script>\n      <noscript>\n       <a href=\"http://bs.serving-sys.com/Serving/adServer.bs?cn=brd&amp;pli=1073982656&amp;Page=&amp;Pos=668343950\" target=\"_blank\">\n        <img border=\"0\" height=\"90\" src=\"http://bs.serving-sys.com/Serving/adServer.bs?c=8&amp;cn=display&amp;pli=1073982656&amp;Page=&amp;Pos=668343950\" width=\"728\"/>\n       </a>\n      </noscript>\n     </div>\n     <div id=\"leaderboard\">\n      <script type=\"text/javascript\">\n       googletag.cmd.push(function() {\n        googletag.defineSlot(\"/4215/imdb2.bom.movie\", [[728, 90]], \"ad-slot-1\").addService(googletag.pubads().setTargeting(\"p\", \"t\"));\n        googletag.pubads().enableSingleRequest();\n        googletag.enableServices();\n    });\n    googletag.cmd.push(function() { googletag.display(\"ad-slot-1\"); });\n      </script>\n     </div>\n     <div id=\"hp_logo\">\n      <a href=\"/\">\n       <img alt=\"Box Office Mojo\" height=\"56\" src=\"/img/misc/bom_logo1.png\" width=\"245\"/>\n      </a>\n     </div>\n     <div style=\"clear:both; height: 0px\">\n     </div>\n    </div>\n   </div>\n   <div class=\"connect_nav\">\n    <ul>\n     <li class=\"nl_link\">\n      <a href=\"http://pro.imdb.com/signup/index.html?rf=mojo_nb_hm&amp;ref_=mojo_nb_hm\" target=\"_blank\">\n       <img alt=\"Get industry info at IMDbPro\" height=\"20\" src=\"/images/IMDbPro.png\">\n       </img>\n      </a>\n     </li>\n     <li class=\"nl_link\">\n      <a href=\"http://twitter.com/boxofficemojo\" target=\"_blank\">\n       <img alt=\"Follow us on Twitter\" height=\"18\" src=\"/images/glyphicons-social-32-twitter@2x.png\">\n       </img>\n      </a>\n     </li>\n     <li class=\"nl_link\">\n      <a href=\"http://facebook.com/boxofficemojo\" target=\"_blank\">\n       <img alt=\"Follow us on Facebook\" height=\"18\" src=\"/images/glyphicons-social-31-facebook@2x.png\"/>\n      </a>\n     </li>\n    </ul>\n   </div>\n   <div id=\"main\">\n    <!-- COLUMN 1 of 4 -->\n    <div id=\"leftnav\">\n     <!-- google_ad_section_start(weight=ignore) -->\n     <!-- <table id=\"navleft\" cellspacing=\"0\" cellpadding=\"2\" border=\"0\"> -->\n     <ul id=\"leftnav\">\n      <li class=\"nl_section\">\n       Search Site\n      </li>\n      <li class=\"nl_link\" style=\"padding-left:0px\">\n       <form action=\"/search/q.php\" method=\"POST\" name=\"searchbox\">\n        <input name=\"q\" style=\"font-size: 9 pt; font-weight: bold; width: 90px;\" type=\"text\"/>\n        <br/>\n        <input type=\"submit\" value=\"Search...\"/>\n       </form>\n      </li>\n      <li class=\"nl_section\">\n       Features\n      </li>\n      <li class=\"nl_link\">\n       <a href=\"/news/\">\n        News\n       </a>\n      </li>\n      <li class=\"nl_link\">\n       <a href=\"/schedule/\">\n        Release Sched.\n       </a>\n      </li>\n      <li class=\"nl_link\">\n       <a href=\"http://www.imdb.com/showtimes?ref_=mojo\">\n        Showtimes\n        <br>\n         <span style=\"margin-left:7px;color: #999999; font-size: 9px;\">\n          at\n          <img src=\"/images/mojo_imdb_sm.png\"/>\n         </span>\n        </br>\n       </a>\n      </li>\n      <li class=\"nl_section\">\n       Box Office\n      </li>\n      <li class=\"nl_link\">\n       <a href=\"/daily/\">\n        Daily\n       </a>\n      </li>\n      <li class=\"nl_link\">\n       <a href=\"/weekend/\">\n        Weekend\n       </a>\n      </li>\n      <li class=\"nl_link\">\n       <a href=\"/weekly/\">\n        Weekly\n       </a>\n      </li>\n      <li class=\"nl_link\">\n       <a href=\"/monthly/\">\n        Monthly\n       </a>\n      </li>\n      <li class=\"nl_link\">\n       <a href=\"/quarterly/\">\n        Quarterly\n       </a>\n      </li>\n      <li class=\"nl_link\">\n       <a href=\"/seasonal/\">\n        Seasonal\n       </a>\n      </li>\n      <li class=\"nl_link\">\n       <a href=\"/yearly/\">\n        Yearly\n       </a>\n      </li>\n      <li class=\"nl_link\">\n       <a href=\"/alltime/\">\n        All Time\n       </a>\n      </li>\n      <li class=\"nl_link\">\n       <a href=\"/intl/\">\n        International\n       </a>\n      </li>\n      <li class=\"nl_section\">\n       Indices\n      </li>\n      <li class=\"nl_link\">\n       <a href=\"/studio/\">\n        Studios\n       </a>\n      </li>\n      <li class=\"nl_link\">\n       <a href=\"/people/\">\n        People\n       </a>\n      </li>\n      <li class=\"nl_link\">\n       <a href=\"/genres/\">\n        Genres\n       </a>\n      </li>\n      <li class=\"nl_link\">\n       <a href=\"/franchises/\">\n        Franchises\n       </a>\n      </li>\n      <li class=\"nl_link\">\n       <a href=\"/showdowns/\">\n        Showdowns\n       </a>\n      </li>\n      <li class=\"nl_link\">\n       <a href=\"/counts/\">\n        Theater Counts\n       </a>\n      </li>\n     </ul>\n    </div>\n    <div id=\"body\">\n     <table border=\"0\" cellspacing=\"0\" width=\"878px\">\n      <tr>\n       <td align=\"right\" style=\"whitespace:nowrap;\">\n        <table border=\"0\" cellpadding=\"0\" cellspacing=\"0\">\n         <tr>\n          <form action=\"/adjuster.php\" method=\"POST\" name=\"adjuster\">\n           <input name=\"returnURL\" type=\"hidden\" value=\"/movies/?id=avengers11.htm\"/>\n           <td valign=\"center\">\n            <font face=\"Verdana\" size=\"2\">\n             <a href=\"/about/adjuster.htm\">\n              <b>\n               Adjuster:\n              </b>\n             </a>\n            </font>\n            <select name=\"ticketyr\" size=\"1\" style=\"font-family: Verdana; font-size: 10pt\">\n             <option selected=\"\" value=\"0\">\n              Actuals\n             </option>\n             <option value=\"1\">\n              Est. Tckts\n             </option>\n             <script language=\"javascript\">\n              for(i=2018; i>=1933; i--) {\r\n  \tdocument.write('<option value=\"' + i + '\"');\r\n\tif(i=='0') document.write(' selected');\r\n\tdocument.write('>' + i );\r\n\tif(i=='0') document.write(', $' + '0.00');\r\n\tdocument.write('</option>');\r\n  }\n             </script>\n             <option value=\"1929\">\n              1929\n             </option>\n             <option value=\"1924\">\n              1924\n             </option>\n             <option value=\"1910\">\n              1910\n             </option>\n            </select>\n            <input name=\"Go\" style=\"font-size: 10pt; height: 22\" type=\"submit\" value=\"Go\"/>\n           </td>\n          </form>\n         </tr>\n        </table>\n       </td>\n      </tr>\n      <!--------------------------Site Body---------------------------------->\n      <tr>\n      </tr>\n     </table>\n    </div>\n   </div>\n  </div>\n </body>\n</html>\n<table border=\"0\" cellpadding=\"0\" cellspacing=\"0\" width=\"100%\">\n <tr>\n  <td valign=\"top\">\n   <table border=\"0\" cellpadding=\"0\" cellspacing=\"0\" style=\"padding-top: 5px;\" width=\"100%\">\n    <tr>\n     <td align=\"center\" valign=\"top\">\n      <a href=\"/movies/?page=media&amp;id=avengers11.htm\">\n       <img border=\"1\" src=\"https://m.media-amazon.com/images/M/MV5BNDYxNjQyMjAtNTdiOS00NGYwLWFmNTAtNThmYjU5ZGI2YTI1XkEyXkFqcGdeQXVyMTMxODk2OTU@._V1_UY222_CR0,0,150,222_AL.jpg\" style=\"border-color: 000000\"/>\n      </a>\n     </td>\n     <td align=\"center\" valign=\"top\">\n      <br/>\n      <font face=\"Verdana\" size=\"6\">\n       <b>\n        Marvel's The Avengers\n       </b>\n      </font>\n      <br/>\n      <br/>\n      <table border=\"0\" cellpadding=\"0\" cellspacing=\"0\">\n       <tr>\n        <td>\n         <center>\n          <table bgcolor=\"#dcdcdc\" border=\"0\" cellpadding=\"4\" cellspacing=\"1\" width=\"95%\">\n           <tr bgcolor=\"#ffffff\">\n            <td align=\"center\" colspan=\"2\">\n             <font size=\"4\">\n              Domestic Total Gross:\n              <b>\n               $623,357,910\n              </b>\n             </font>\n            </td>\n           </tr>\n           <tr bgcolor=\"#ffffff\">\n            <td valign=\"top\">\n             Distributor:\n             <b>\n              <a href=\"/studio/chart/?studio=buenavista.htm\">\n               Buena Vista\n              </a>\n             </b>\n            </td>\n            <td valign=\"top\">\n             Release Date:\n             <b>\n              <nobr>\n               <a href=\"/schedule/?view=bydate&amp;release=theatrical&amp;date=2012-05-04&amp;p=.htm\">\n                May 4, 2012\n               </a>\n              </nobr>\n             </b>\n            </td>\n           </tr>\n           <tr bgcolor=\"#ffffff\">\n            <td valign=\"top\">\n             Genre:\n             <b>\n              Action / Adventure\n             </b>\n            </td>\n            <td valign=\"top\">\n             Runtime:\n             <b>\n              2 hrs. 22 min.\n             </b>\n            </td>\n           </tr>\n           <tr bgcolor=\"#ffffff\">\n            <td valign=\"top\">\n             MPAA Rating:\n             <b>\n              PG-13\n             </b>\n            </td>\n            <td valign=\"top\">\n             Production Budget:\n             <b>\n              $220 million\n             </b>\n            </td>\n           </tr>\n          </table>\n          <table border=\"0\" cellpadding=\"2\" cellspacing=\"0\" width=\"95%\">\n           <form action=\"/showtimes/savelocation.php\" method=\"POST\" name=\"movietimesbox\">\n            <input name=\"return\" type=\"hidden\" value=\"bymovie|avengers11.htm\"/>\n            <tr>\n             <td nowrap=\"\" style=\"padding-top: 10px\">\n              <a href=\"http://www.imdb.com/showtimes?ref_=mojo\">\n               <img src=\"/images/mojo_imdb_med.png\" style=\"vertical-align:middle\"/>\n              </a>\n              <a href=\"http://www.imdb.com/showtimes?ref_=mojo\">\n               Get local showtimes at IMDb\n              </a>\n             </td>\n            </tr>\n           </form>\n          </table>\n         </center>\n        </td>\n       </tr>\n      </table>\n     </td>\n     <td align=\"right\">\n      <script type=\"text/javascript\">\n       googletag.cmd.push(function() {\n        googletag.defineSlot(\"/4215/imdb2.bom.movie\", [[300, 250]], \"ad-slot-2\").addService(googletag.pubads().setTargeting(\"p\", \"rh\"));\n        googletag.pubads().enableSingleRequest();\n        googletag.enableServices();\n    });\n    googletag.cmd.push(function() { googletag.display(\"ad-slot-2\"); });\n      </script>\n     </td>\n    </tr>\n   </table>\n   <table border=\"0\" cellpadding=\"0\" cellspacing=\"0\" width=\"878px\">\n    <tr>\n     <td>\n      <ul class=\"nav_tabs\">\n       <li class=\"nav_tab_current\">\n        <a href=\"/movies/?page=main&amp;id=avengers11.htm\">\n         Summary\n        </a>\n       </li>\n       <li>\n        <a href=\"/movies/?page=daily&amp;id=avengers11.htm\">\n         Daily\n        </a>\n       </li>\n       <li>\n        <a href=\"/movies/?page=weekend&amp;id=avengers11.htm\">\n         Weekend\n        </a>\n       </li>\n       <li>\n        <a href=\"/movies/?page=weekly&amp;id=avengers11.htm\">\n         Weekly\n        </a>\n       </li>\n       <li>\n        <a href=\"/movies/?page=intl&amp;id=avengers11.htm\">\n         Foreign\n        </a>\n       </li>\n       <li>\n        <a href=\"/movies/?page=similar&amp;id=avengers11.htm\">\n         Similar Movies\n        </a>\n       </li>\n      </ul>\n      <br>\n      </br>\n     </td>\n    </tr>\n    <tr>\n     <td>\n      <table border=\"0\" cellpadding=\"0\" cellspacing=\"0\" width=\"100%\">\n       <tr>\n        <td valign=\"top\" width=\"434px\">\n         <table border=\"0\" cellpadding=\"0\" cellspacing=\"0\" width=\"100%\">\n          <tr>\n           <td valign=\"top\" width=\"50%\">\n            <div class=\"mp_box\">\n             <div class=\"mp_box_tab\">\n              Total Lifetime Grosses\n             </div>\n            </div>\n           </td>\n          </tr>\n         </table>\n        </td>\n       </tr>\n      </table>\n     </td>\n    </tr>\n   </table>\n  </td>\n </tr>\n</table>\n<div class=\"mp_box_content\">\n <table border=\"0\" cellpadding=\"0\" cellspacing=\"0\">\n  <tr>\n   <td width=\"40%\">\n    <b>\n     Domestic:\n    </b>\n   </td>\n   <td align=\"right\" width=\"35%\">\n    <b>\n     $623,357,910\n    </b>\n   </td>\n   <td align=\"right\" width=\"25%\">\n    <b>\n     41.0%\n    </b>\n   </td>\n  </tr>\n  <tr>\n   <td width=\"40%\">\n    +\n    <a href=\"/movies/?page=intl&amp;id=avengers11.htm\">\n     Foreign:\n    </a>\n   </td>\n   <td align=\"right\" width=\"35%\">\n    $895,455,078\n   </td>\n   <td align=\"right\" width=\"25%\">\n    59.0%\n   </td>\n  </tr>\n  <tr>\n   <td colspan=\"3\" width=\"100%\">\n    <hr/>\n   </td>\n  </tr>\n  <tr>\n   <td width=\"40%\">\n    =\n    <b>\n     Worldwide:\n    </b>\n   </td>\n   <td align=\"right\" width=\"35%\">\n    <b>\n     $1,518,812,988\n    </b>\n   </td>\n   <td width=\"25%\">\n   </td>\n  </tr>\n </table>\n</div>\n<div class=\"mp_box\">\n <div class=\"mp_box_tab\">\n  Domestic Summary\n </div>\n</div>\n<div class=\"mp_box_content\">\n <table border=\"0\" cellpadding=\"0\" cellspacing=\"0\">\n  <tr>\n   <td align=\"center\">\n    <a href=\"/weekend/chart/?yr=2012&amp;wknd=18&amp;p=.htm\">\n     Opening Weekend:\n    </a>\n   </td>\n   <td>\n    $207,438,708\n   </td>\n  </tr>\n  <tr>\n   <td align=\"center\" colspan=\"2\">\n    <font size=\"2\">\n     (#1 rank, 4,349 theaters, $47,698 average)\n    </font>\n   </td>\n  </tr>\n  <tr>\n   <td align=\"right\">\n    % of Total Gross:\n   </td>\n   <td>\n    33.3%\n   </td>\n  </tr>\n  <tr>\n   <td align=\"right\" colspan=\"2\">\n    <font face=\"Helvetica, Arial, Sans-Serif\" size=\"1\">\n     <a href=\"/movies/?page=weekend&amp;id=avengers11.htm\">\n      <b>\n       &gt; View All 22 Weekends\n      </b>\n     </a>\n    </font>\n   </td>\n  </tr>\n </table>\n <table border=\"0\" cellpadding=\"0\" cellspacing=\"0\">\n  <tr>\n   <td>\n    Widest Release:\n   </td>\n   <td>\n    4,349 theaters\n   </td>\n  </tr>\n </table>\n <table border=\"0\" cellpadding=\"0\" cellspacing=\"0\">\n  <tr>\n   <td>\n    Close Date:\n   </td>\n   <td>\n    October 4, 2012\n   </td>\n  </tr>\n </table>\n <table border=\"0\" cellpadding=\"0\" cellspacing=\"0\">\n  <tr>\n   <td>\n    In Release:\n   </td>\n   <td>\n    154 days / 22 weeks\n   </td>\n  </tr>\n </table>\n</div>\n<td style=\"padding-left: 10px;\" valign=\"top\">\n <div class=\"mp_box\">\n  <div class=\"mp_box_tab\">\n   The Players\n  </div>\n  <div class=\"mp_box_content\">\n   <table>\n   </table>\n  </div>\n </div>\n</td>\n<tr>\n <td align=\"right\" valign=\"top\">\n  <font size=\"2\">\n   <a href=\"/people/?view=Director&amp;p=.htm\">\n    Director:\n   </a>\n  </font>\n </td>\n</tr>\n<td>\n <font size=\"2\">\n  <a href=\"/people/chart/?view=Director&amp;id=josswhedon.htm\">\n   Joss Whedon\n  </a>\n </font>\n</td>\n<tr>\n <td align=\"right\" valign=\"top\">\n  <font size=\"2\">\n   <a href=\"/people/?view=Writer&amp;p=.htm\">\n    Writers:\n   </a>\n  </font>\n </td>\n</tr>\n<td>\n <font size=\"2\">\n  <a href=\"/people/chart/?view=Writer&amp;id=zakpenn.htm\">\n   Zak Penn\n  </a>\n  <font size=\"2\">\n   (story)\n  </font>\n  <br/>\n  <a href=\"/people/chart/?view=Writer&amp;id=josswhedon.htm\">\n   Joss Whedon\n  </a>\n </font>\n</td>\n<tr>\n <td align=\"right\" valign=\"top\">\n  <font size=\"2\">\n   <a href=\"/people/?view=Actor&amp;p=.htm\">\n    Actors:\n   </a>\n  </font>\n </td>\n</tr>\n<td>\n <font size=\"2\">\n  <a href=\"/people/chart/?view=Actor&amp;id=robertdowneyjr.htm\">\n   Robert Downey, Jr.\n  </a>\n  <br/>\n  <a href=\"/people/chart/?view=Actor&amp;id=chrishemsworth.htm\">\n   Chris Hemsworth\n  </a>\n  <br/>\n  <a href=\"/people/chart/?view=Actor&amp;id=chrisevans.htm\">\n   Chris Evans\n  </a>\n  <br/>\n  <a href=\"/people/chart/?view=Actor&amp;id=jeremyrenner.htm\">\n   Jeremy Renner\n  </a>\n  <br/>\n  <a href=\"/people/chart/?view=Actor&amp;id=markruffalo.htm\">\n   Mark Ruffalo\n  </a>\n  <br/>\n  <a href=\"/people/chart/?view=Actor&amp;id=scarlettjohansson.htm\">\n   Scarlett Johansson\n  </a>\n  <br/>\n  <a href=\"/people/chart/?view=Actor&amp;id=clarkgregg.htm\">\n   Clark Gregg\n  </a>\n  <br/>\n  <a href=\"/people/chart/?view=Actor&amp;id=samuelljackson.htm\">\n   Samuel L. Jackson\n  </a>\n  <br/>\n  Cobie Smulders\n  <br/>\n  <a href=\"/people/chart/?view=Actor&amp;id=tomhiddleston.htm\">\n   Tom Hiddleston\n  </a>\n  <br/>\n  <a href=\"/people/chart/?view=Actor&amp;id=stellanskarsgard.htm\">\n   Stellan Skarsgard\n  </a>\n  <br/>\n  <a href=\"/people/chart/?view=Actor&amp;id=gwynethpaltrow.htm\">\n   Gwyneth Paltrow*\n  </a>\n  <br/>\n  <a href=\"/people/chart/?view=Actor&amp;id=paulbettany.htm\">\n   Paul Bettany*\n  </a>\n  <font size=\"2\">\n   (Voice)\n  </font>\n </font>\n</td>\n<tr>\n <td align=\"right\" valign=\"top\">\n  <font size=\"2\">\n   <a href=\"/people/?view=Producer&amp;p=.htm\">\n    Producers:\n   </a>\n  </font>\n </td>\n</tr>\n<td>\n <font size=\"2\">\n  <a href=\"/people/chart/?view=Producer&amp;id=victoriaalonso.htm\">\n   Victoria Alonso\n  </a>\n  <font size=\"2\">\n   (executive)\n  </font>\n  <br/>\n  <a href=\"/people/chart/?view=Producer&amp;id=louisdesposito.htm\">\n   Louis D'Esposito\n  </a>\n  <font size=\"2\">\n   (executive)\n  </font>\n  <br/>\n  <a href=\"/people/chart/?view=Producer&amp;id=jonfavreau.htm\">\n   Jon Favreau\n  </a>\n  <font size=\"2\">\n   (executive)\n  </font>\n  <br/>\n  <a href=\"/people/chart/?view=Producer&amp;id=kevinfeige.htm\">\n   Kevin Feige\n  </a>\n  <br/>\n  <a href=\"/people/chart/?view=Producer&amp;id=alanfine.htm\">\n   Alan Fine\n  </a>\n  <font size=\"2\">\n   (executive)\n  </font>\n  <br/>\n  Jeremy Latcham\n  <font size=\"2\">\n   (executive)\n  </font>\n  <br/>\n  <a href=\"/people/chart/?view=Producer&amp;id=stanlee.htm\">\n   Stan Lee\n  </a>\n  <font size=\"2\">\n   (executive)\n  </font>\n  <br/>\n  <a href=\"/people/chart/?view=Producer&amp;id=patriciawhitcher.htm\">\n   Patricia Whitcher\n  </a>\n  <font size=\"2\">\n   (executive)\n  </font>\n </font>\n</td>\n<tr>\n <td align=\"right\" valign=\"top\">\n  <font size=\"2\">\n   <a href=\"/people/?view=Cinematographer&amp;p=.htm\">\n    <font size=\"2\">\n     Cinematographer\n    </font>\n    :\n   </a>\n  </font>\n </td>\n</tr>\n<td>\n <font size=\"2\">\n  <a href=\"/people/chart/?view=Cinematographer&amp;id=seamusmcgarvey.htm\">\n   Seamus McGarvey\n  </a>\n </font>\n</td>\n<tr>\n <td align=\"right\" valign=\"top\">\n  <font size=\"2\">\n   <a href=\"/people/?view=Composer&amp;p=.htm\">\n    Composer:\n   </a>\n  </font>\n </td>\n</tr>\n<td>\n <font size=\"2\">\n  <a href=\"/people/chart/?view=Composer&amp;id=alansilvestri.htm\">\n   Alan Silvestri\n  </a>\n </font>\n</td>\n<tr>\n <td align=\"right\" colspan=\"2\">\n  <i>\n   <small>\n    * Denotes minor role\n   </small>\n  </i>\n </td>\n</tr>\n<div class=\"mp_box\">\n <div class=\"mp_box_tab\">\n  2012 Academy Awards®\n </div>\n <div class=\"mp_box_content\">\n  <table border=\"0\" cellpadding=\"5\" cellspacing=\"0\" width=\"100%\">\n   <tr>\n    <td>\n     <a href=\"/oscar/movies/?id=avengers11.htm\">\n      <b>\n       Nominated for One Oscar.\n      </b>\n      <br>\n       View full award breakdown...\n      </br>\n     </a>\n    </td>\n   </tr>\n  </table>\n </div>\n</div>\n<div class=\"mp_box\">\n <div class=\"mp_box_tab\">\n  Genres\n </div>\n <div class=\"mp_box_content\">\n  <table border=\"0\" cellpadding=\"5\" cellspacing=\"1\" style=\"border-collapse: collapse\" width=\"100%\">\n   <tr>\n    <th>\n     Genre\n    </th>\n    <th>\n     Rank\n    </th>\n   </tr>\n   <tr bgcolor=\"#ffffff\">\n    <td>\n     <font size=\"2\">\n      <a href=\"/genres/chart/?id=3d.htm\">\n       <b>\n        3D\n       </b>\n      </a>\n     </font>\n    </td>\n    <td align=\"center\">\n     <font size=\"2\">\n      <b>\n       6\n      </b>\n     </font>\n    </td>\n   </tr>\n   <tr bgcolor=\"#f4f4ff\">\n    <td>\n     <font size=\"2\">\n      <a href=\"/genres/chart/?id=comicbookadaptation.htm\">\n       <b>\n        Comic Book Adaptation\n       </b>\n      </a>\n     </font>\n    </td>\n    <td align=\"center\">\n     <font size=\"2\">\n      <b>\n       3\n      </b>\n     </font>\n    </td>\n   </tr>\n   <tr bgcolor=\"#ffffff\">\n    <td>\n     <font size=\"2\">\n      <a href=\"/genres/chart/?id=imax.htm\">\n       <b>\n        IMAX (Feature-length)\n       </b>\n      </a>\n     </font>\n    </td>\n    <td align=\"center\">\n     <font size=\"2\">\n      <b>\n       6\n      </b>\n     </font>\n    </td>\n   </tr>\n   <tr bgcolor=\"#f4f4ff\">\n    <td>\n     <font size=\"2\">\n      <a href=\"/genres/chart/?id=scifialieninvasion.htm\">\n       <b>\n        Sci-Fi - Alien Invasion\n       </b>\n      </a>\n     </font>\n    </td>\n    <td align=\"center\">\n     <font size=\"2\">\n      <b>\n       1\n      </b>\n     </font>\n    </td>\n   </tr>\n   <tr bgcolor=\"#ffffff\">\n    <td>\n     <font size=\"2\">\n      <a href=\"/genres/chart/?id=superhero.htm\">\n       <b>\n        Superhero\n       </b>\n      </a>\n     </font>\n    </td>\n    <td align=\"center\">\n     <font size=\"2\">\n      <b>\n       3\n      </b>\n     </font>\n    </td>\n   </tr>\n  </table>\n </div>\n</div>\n<div class=\"mp_box\">\n <div class=\"mp_box_tab\">\n  Franchises\n </div>\n <div class=\"mp_box_content\">\n  <table border=\"0\" cellpadding=\"5\" cellspacing=\"1\" style=\"border-collapse: collapse\" width=\"100%\">\n   <tr>\n    <th>\n     Franchise\n    </th>\n    <th>\n     Rank\n    </th>\n   </tr>\n   <tr bgcolor=\"#f4f4ff\">\n    <td>\n     <font size=\"2\">\n      <a href=\"/franchises/chart/?id=avengersfranchise.htm\">\n       <b>\n        Series: Avengers\n       </b>\n      </a>\n     </font>\n    </td>\n    <td align=\"center\">\n     <font size=\"2\">\n      <b>\n       2\n      </b>\n     </font>\n    </td>\n   </tr>\n   <tr bgcolor=\"#ffffff\">\n    <td>\n     <font size=\"2\">\n      <a href=\"/franchises/chart/?id=avengers.htm\">\n       <b>\n        Series: Marvel Cinematic Universe\n       </b>\n      </a>\n     </font>\n    </td>\n    <td align=\"center\">\n     <font size=\"2\">\n      <b>\n       3\n      </b>\n     </font>\n    </td>\n   </tr>\n   <tr bgcolor=\"#f4f4ff\">\n    <td>\n     <font size=\"2\">\n      <a href=\"/franchises/chart/?id=marvelcomics.htm\">\n       <b>\n        Brand: Marvel Comics\n       </b>\n      </a>\n     </font>\n    </td>\n    <td align=\"center\">\n     <font size=\"2\">\n      <b>\n       3\n      </b>\n     </font>\n    </td>\n   </tr>\n   <tr bgcolor=\"#ffffff\">\n    <td>\n     <font size=\"2\">\n      <a href=\"/showdowns/chart/?id=avengersironman.htm\">\n       <b>\n        Showdown: 'Avengers' Vs. 'Iron Man 3'\n       </b>\n      </a>\n     </font>\n    </td>\n    <td align=\"center\">\n     <font size=\"2\">\n      <b>\n       1\n      </b>\n     </font>\n    </td>\n   </tr>\n   <tr bgcolor=\"#f4f4ff\">\n    <td>\n     <font size=\"2\">\n      <a href=\"/showdowns/chart/?id=alltimegrossvs.htm\">\n       <b>\n        Showdown: All Time Grossers\n       </b>\n      </a>\n     </font>\n    </td>\n    <td align=\"center\">\n     <font size=\"2\">\n      <b>\n       4\n      </b>\n     </font>\n    </td>\n   </tr>\n   <tr bgcolor=\"#ffffff\">\n    <td>\n     <font size=\"2\">\n      <a href=\"/showdowns/chart/?id=usblockbuster.htm\">\n       <b>\n        Showdown: Avatar vs. Avengers vs. Jurassic World\n       </b>\n      </a>\n     </font>\n    </td>\n    <td align=\"center\">\n     <font size=\"2\">\n      <b>\n       3\n      </b>\n     </font>\n    </td>\n   </tr>\n   <tr bgcolor=\"#f4f4ff\">\n    <td>\n     <font size=\"2\">\n      <a href=\"/showdowns/chart/?id=avengersassemble.htm\">\n       <b>\n        Showdown: Avengers Assemble\n       </b>\n      </a>\n     </font>\n    </td>\n    <td align=\"center\">\n     <font size=\"2\">\n      <b>\n       1\n      </b>\n     </font>\n    </td>\n   </tr>\n   <tr bgcolor=\"#ffffff\">\n    <td>\n     <font size=\"2\">\n      <a href=\"/showdowns/chart/?id=avengerssd.htm\">\n       <b>\n        Showdown: Avengers Showdown\n       </b>\n      </a>\n     </font>\n    </td>\n    <td align=\"center\">\n     <font size=\"2\">\n      <b>\n       2\n      </b>\n     </font>\n    </td>\n   </tr>\n   <tr bgcolor=\"#f4f4ff\">\n    <td>\n     <font size=\"2\">\n      <a href=\"/showdowns/chart/?id=topsuperhero.htm\">\n       <b>\n        Showdown: Blockbuster Superhero Showdown\n       </b>\n      </a>\n     </font>\n    </td>\n    <td align=\"center\">\n     <font size=\"2\">\n      <b>\n       1\n      </b>\n     </font>\n    </td>\n   </tr>\n   <tr bgcolor=\"#ffffff\">\n    <td>\n     <font size=\"2\">\n      <a href=\"/showdowns/chart/?id=liberge.htm\">\n       <b>\n        Showdown: King Size Domestic Grosses\n       </b>\n      </a>\n     </font>\n    </td>\n    <td align=\"center\">\n     <font size=\"2\">\n      <b>\n       4\n      </b>\n     </font>\n    </td>\n   </tr>\n   <tr bgcolor=\"#f4f4ff\">\n    <td>\n     <font size=\"2\">\n      <a href=\"/showdowns/chart/?id=vs-marvel.htm\">\n       <b>\n        Showdown: Marvel Comics Showdown\n       </b>\n      </a>\n     </font>\n    </td>\n    <td align=\"center\">\n     <font size=\"2\">\n      <b>\n       1\n      </b>\n     </font>\n    </td>\n   </tr>\n   <tr bgcolor=\"#ffffff\">\n    <td>\n     <font size=\"2\">\n      <a href=\"/showdowns/chart/?id=marvelopeners.htm\">\n       <b>\n        Showdown: MCU Top Openers\n       </b>\n      </a>\n     </font>\n    </td>\n    <td align=\"center\">\n     <font size=\"2\">\n      <b>\n       3\n      </b>\n     </font>\n    </td>\n   </tr>\n   <tr bgcolor=\"#f4f4ff\">\n    <td>\n     <font size=\"2\">\n      <a href=\"/showdowns/chart/?id=openingweekendshowdown.htm\">\n       <b>\n        Showdown: Opening Weekend Showdown\n       </b>\n      </a>\n     </font>\n    </td>\n    <td align=\"center\">\n     <font size=\"2\">\n      <b>\n       5\n      </b>\n     </font>\n    </td>\n   </tr>\n   <tr bgcolor=\"#ffffff\">\n    <td>\n     <font size=\"2\">\n      <a href=\"/showdowns/chart/?id=summerstartvs.htm\">\n       <b>\n        Showdown: Summer Starter Skirmish\n       </b>\n      </a>\n     </font>\n    </td>\n    <td align=\"center\">\n     <font size=\"2\">\n      <b>\n       1\n      </b>\n     </font>\n    </td>\n   </tr>\n  </table>\n </div>\n</div>\n<div class=\"mp_box\">\n <div class=\"mp_box_tab\">\n  Charts\n </div>\n <div class=\"mp_box_content\">\n  <table border=\"0\" cellpadding=\"5\" cellspacing=\"1\" style=\"border-collapse: collapse\" width=\"100%\">\n   <tr>\n    <td bgcolor=\"\">\n     <b>\n      Chart\n     </b>\n    </td>\n    <td align=\"center\">\n     <b>\n      Rank\n     </b>\n    </td>\n   </tr>\n   <tr bgcolor=\"#ffffff\">\n    <td>\n     <font size=\"2\">\n      <a href=\"/alltime/domestic.htm\">\n       <b>\n        All Time Domestic\n       </b>\n      </a>\n     </font>\n    </td>\n    <td align=\"center\">\n     <font size=\"2\">\n      <b>\n       7\n      </b>\n     </font>\n    </td>\n   </tr>\n   <tr bgcolor=\"#f4f4ff\">\n    <td>\n     <font size=\"2\">\n      <a href=\"/alltime/adjusted.htm\">\n       All Time Adjusted\n      </a>\n     </font>\n    </td>\n    <td align=\"center\">\n     <font size=\"2\">\n      29\n     </font>\n    </td>\n   </tr>\n   <tr bgcolor=\"#ffffff\">\n    <td>\n     <font size=\"2\">\n      <a href=\"/alltime/world/\">\n       <b>\n        All Time Worldwide\n       </b>\n      </a>\n     </font>\n    </td>\n    <td align=\"center\">\n     <font size=\"2\">\n      <b>\n       6\n      </b>\n     </font>\n    </td>\n   </tr>\n   <tr bgcolor=\"#f4f4ff\">\n    <td>\n     <font size=\"2\">\n      <a href=\"/alltime/world/worldwideopenings.htm\">\n       <b>\n        Worldwide Openings\n       </b>\n      </a>\n     </font>\n    </td>\n    <td align=\"center\">\n     <font size=\"2\">\n      <b>\n       10\n      </b>\n     </font>\n    </td>\n   </tr>\n   <tr bgcolor=\"#ffffff\">\n    <td>\n     <font size=\"2\">\n      <a href=\"/intl/weekend/opening/\">\n       Foreign Opening Weekends\n      </a>\n     </font>\n    </td>\n    <td align=\"center\">\n     <font size=\"2\">\n      22\n     </font>\n    </td>\n   </tr>\n   <tr bgcolor=\"#f4f4ff\">\n    <td>\n     <font size=\"2\">\n      <a href=\"/alltime/openingweeks.htm\">\n       <b>\n        Opening Weeks\n       </b>\n      </a>\n     </font>\n    </td>\n    <td align=\"center\">\n     <font size=\"2\">\n      <b>\n       6\n      </b>\n     </font>\n    </td>\n   </tr>\n   <tr bgcolor=\"#ffffff\">\n    <td>\n     <font size=\"2\">\n      <a href=\"/alltime/days/?page=open&amp;p.htm\">\n       <b>\n        Opening Day Gross\n       </b>\n      </a>\n     </font>\n    </td>\n    <td align=\"center\">\n     <font size=\"2\">\n      <b>\n       8\n      </b>\n     </font>\n    </td>\n   </tr>\n   <tr bgcolor=\"#f4f4ff\">\n    <td>\n     <font size=\"2\">\n      <a href=\"/alltime/days/?page=single&amp;p=.htm\">\n       <b>\n        Single Day Gross\n       </b>\n      </a>\n     </font>\n    </td>\n    <td align=\"center\">\n     <font size=\"2\">\n      <b>\n       9\n      </b>\n     </font>\n    </td>\n   </tr>\n   <tr bgcolor=\"#ffffff\">\n    <td>\n     <font size=\"2\">\n      <a href=\"/alltime/days/nonopening.htm?page=Fri&amp;p=.htm\">\n       Non-Opening Friday Gross\n      </a>\n     </font>\n    </td>\n    <td align=\"center\">\n     <font size=\"2\">\n      14\n     </font>\n    </td>\n   </tr>\n   <tr bgcolor=\"#f4f4ff\">\n    <td>\n     <font size=\"2\">\n      <a href=\"/alltime/days/nonopening.htm?page=Thu&amp;p=.htm\">\n       Non-Opening Thursday Gross\n      </a>\n     </font>\n    </td>\n    <td align=\"center\">\n     <font size=\"2\">\n      41\n     </font>\n    </td>\n   </tr>\n   <tr bgcolor=\"#ffffff\">\n    <td>\n     <font size=\"2\">\n      <a href=\"/alltime/days/nonopening.htm?page=Tue&amp;p=.htm\">\n       Non-Opening Tuesday Gross\n      </a>\n     </font>\n    </td>\n    <td align=\"center\">\n     <font size=\"2\">\n      14\n     </font>\n    </td>\n   </tr>\n   <tr bgcolor=\"#f4f4ff\">\n    <td>\n     <font size=\"2\">\n      <a href=\"/alltime/days/nonopening.htm?page=Wed&amp;p=.htm\">\n       Non-Opening Wednesday Gross\n      </a>\n     </font>\n    </td>\n    <td align=\"center\">\n     <font size=\"2\">\n      27\n     </font>\n    </td>\n   </tr>\n   <tr bgcolor=\"#ffffff\">\n    <td>\n     <font size=\"2\">\n      <a href=\"/alltime/days/f-th.htm?page=Fri&amp;p=.htm\">\n       <b>\n        Single Day Friday Gross\n       </b>\n      </a>\n     </font>\n    </td>\n    <td align=\"center\">\n     <font size=\"2\">\n      <b>\n       8\n      </b>\n     </font>\n    </td>\n   </tr>\n   <tr bgcolor=\"#f4f4ff\">\n    <td>\n     <font size=\"2\">\n      <a href=\"/alltime/days/f-th.htm?page=Mon&amp;p=.htm\">\n       Single Day Monday Gross\n      </a>\n     </font>\n    </td>\n    <td align=\"center\">\n     <font size=\"2\">\n      23\n     </font>\n    </td>\n   </tr>\n   <tr bgcolor=\"#ffffff\">\n    <td>\n     <font size=\"2\">\n      <a href=\"/alltime/days/f-th.htm?page=Sat&amp;p=.htm\">\n       <b>\n        Single Day Saturday Gross\n       </b>\n      </a>\n     </font>\n    </td>\n    <td align=\"center\">\n     <font size=\"2\">\n      <b>\n       3\n      </b>\n     </font>\n    </td>\n   </tr>\n   <tr bgcolor=\"#f4f4ff\">\n    <td>\n     <font size=\"2\">\n      <a href=\"/alltime/days/f-th.htm?page=Sun&amp;p=.htm\">\n       <b>\n        Single Day Sunday Gross\n       </b>\n      </a>\n     </font>\n    </td>\n    <td align=\"center\">\n     <font size=\"2\">\n      <b>\n       5\n      </b>\n     </font>\n    </td>\n   </tr>\n   <tr bgcolor=\"#ffffff\">\n    <td>\n     <font size=\"2\">\n      <a href=\"/alltime/days/f-th.htm?page=Thu&amp;p=.htm\">\n       Single Day Thursday Gross\n      </a>\n     </font>\n    </td>\n    <td align=\"center\">\n     <font size=\"2\">\n      53\n     </font>\n    </td>\n   </tr>\n   <tr bgcolor=\"#f4f4ff\">\n    <td>\n     <font size=\"2\">\n      <a href=\"/alltime/days/f-th.htm?page=Tue&amp;p=.htm\">\n       Single Day Tuesday Gross\n      </a>\n     </font>\n    </td>\n    <td align=\"center\">\n     <font size=\"2\">\n      17\n     </font>\n    </td>\n   </tr>\n   <tr bgcolor=\"#ffffff\">\n    <td>\n     <font size=\"2\">\n      <a href=\"/alltime/days/f-th.htm?page=Wed&amp;p=.htm\">\n       Single Day Wednesday Gross\n      </a>\n     </font>\n    </td>\n    <td align=\"center\">\n     <font size=\"2\">\n      53\n     </font>\n    </td>\n   </tr>\n   <tr bgcolor=\"#f4f4ff\">\n    <td>\n     <font size=\"2\">\n      <a href=\"/alltime/days/nonholiday.htm\">\n       Non-Holiday Monday Gross\n      </a>\n     </font>\n    </td>\n    <td align=\"center\">\n     <font size=\"2\">\n      12\n     </font>\n    </td>\n   </tr>\n   <tr bgcolor=\"#ffffff\">\n    <td>\n     <font size=\"2\">\n      <a href=\"/alltime/weekends/theateravg.htm?page=THTRWAVG&amp;p=.htm\">\n       <b>\n        Theater Averages (Wide Releases) - All Time\n       </b>\n      </a>\n     </font>\n    </td>\n    <td align=\"center\">\n     <font size=\"2\">\n      <b>\n       6\n      </b>\n     </font>\n    </td>\n   </tr>\n   <tr bgcolor=\"#f4f4ff\">\n    <td>\n     <font size=\"2\">\n      <a href=\"/alltime/weekends/theateravg.htm?page=THTRWAVG&amp;p=.htm\">\n       Theater Averages (Wide Releases) - All Time\n      </a>\n     </font>\n    </td>\n    <td align=\"center\">\n     <font size=\"2\">\n      73\n     </font>\n    </td>\n   </tr>\n   <tr bgcolor=\"#ffffff\">\n    <td>\n     <font size=\"2\">\n      <a href=\"/alltime/weekends/theateravg.htm?page=THTRAVG&amp;p=.htm\">\n       Theater Averages - All Time Adjusted\n      </a>\n     </font>\n    </td>\n    <td align=\"center\">\n     <font size=\"2\">\n      176\n     </font>\n    </td>\n   </tr>\n   <tr bgcolor=\"#f4f4ff\">\n    <td>\n     <font size=\"2\">\n      <a href=\"/alltime/weekends/theateravg.htm?page=THTRAVOPN&amp;p=.htm\">\n       Theater Averages - Opening Weekends\n      </a>\n     </font>\n    </td>\n    <td align=\"center\">\n     <font size=\"2\">\n      139\n     </font>\n    </td>\n   </tr>\n   <tr bgcolor=\"#ffffff\">\n    <td>\n     <font size=\"2\">\n      <a href=\"/alltime/weekends/theateravg.htm?page=THTRAWOPN&amp;p=.htm\">\n       <b>\n        Theater Averages - Wide Opening Weekends\n       </b>\n      </a>\n     </font>\n    </td>\n    <td align=\"center\">\n     <font size=\"2\">\n      <b>\n       6\n      </b>\n     </font>\n    </td>\n   </tr>\n   <tr bgcolor=\"#f4f4ff\">\n    <td>\n     <font size=\"2\">\n      <a href=\"/alltime/weekends/summerstarts.htm\">\n       <b>\n        Summer Starts\n       </b>\n      </a>\n     </font>\n    </td>\n    <td align=\"center\">\n     <font size=\"2\">\n      <b>\n       1\n      </b>\n     </font>\n    </td>\n   </tr>\n   <tr bgcolor=\"#ffffff\">\n    <td>\n     <font size=\"2\">\n      <a href=\"/alltime/weekends/\">\n       <b>\n        Opening Weekends\n       </b>\n      </a>\n     </font>\n    </td>\n    <td align=\"center\">\n     <font size=\"2\">\n      <b>\n       5\n      </b>\n     </font>\n    </td>\n   </tr>\n   <tr bgcolor=\"#f4f4ff\">\n    <td>\n     <font size=\"2\">\n      <a href=\"/alltime/weekends/month/?mo=05&amp;p=.htm\">\n       <b>\n        Opening Weekends - May\n       </b>\n      </a>\n     </font>\n    </td>\n    <td align=\"center\">\n     <font size=\"2\">\n      <b>\n       1\n      </b>\n     </font>\n    </td>\n   </tr>\n   <tr bgcolor=\"#ffffff\">\n    <td>\n     <font size=\"2\">\n      <a href=\"/alltime/weekends/byseason.htm?season=Summer&amp;p=.htm\">\n       <b>\n        Opening Weekends - Summer\n       </b>\n      </a>\n     </font>\n    </td>\n    <td align=\"center\">\n     <font size=\"2\">\n      <b>\n       2\n      </b>\n     </font>\n    </td>\n   </tr>\n   <tr bgcolor=\"#f4f4ff\">\n    <td>\n     <font size=\"2\">\n      <a href=\"/alltime/weekends/moreweekends.htm?page=11&amp;p=.htm\">\n       Eleventh Weekends\n      </a>\n     </font>\n    </td>\n    <td align=\"center\">\n     <font size=\"2\">\n      149\n     </font>\n    </td>\n   </tr>\n   <tr bgcolor=\"#ffffff\">\n    <td>\n     <font size=\"2\">\n      <a href=\"/alltime/weekends/moreweekends.htm?page=9&amp;p=.htm\">\n       Ninth Weekends\n      </a>\n     </font>\n    </td>\n    <td align=\"center\">\n     <font size=\"2\">\n      51\n     </font>\n    </td>\n   </tr>\n   <tr bgcolor=\"#f4f4ff\">\n    <td>\n     <font size=\"2\">\n      <a href=\"/alltime/weekends/moreweekends.htm?page=10&amp;p=.htm\">\n       Tenth Weekends\n      </a>\n     </font>\n    </td>\n    <td align=\"center\">\n     <font size=\"2\">\n      129\n     </font>\n    </td>\n   </tr>\n   <tr bgcolor=\"#ffffff\">\n    <td>\n     <font size=\"2\">\n      <a href=\"/alltime/grossbydays.htm?days=10&amp;p=.htm\">\n       <b>\n        Top 10-Day Grosses\n       </b>\n      </a>\n     </font>\n    </td>\n    <td align=\"center\">\n     <font size=\"2\">\n      <b>\n       5\n      </b>\n     </font>\n    </td>\n   </tr>\n   <tr bgcolor=\"#f4f4ff\">\n    <td>\n     <font size=\"2\">\n      <a href=\"/alltime/grossbydays.htm?days=3&amp;p=.htm\">\n       <b>\n        Top 3-Day Grosses\n       </b>\n      </a>\n     </font>\n    </td>\n    <td align=\"center\">\n     <font size=\"2\">\n      <b>\n       5\n      </b>\n     </font>\n    </td>\n   </tr>\n   <tr bgcolor=\"#ffffff\">\n    <td>\n     <font size=\"2\">\n      <a href=\"/alltime/grossbydays.htm?days=4&amp;p=.htm\">\n       <b>\n        Top 4-Day Grosses\n       </b>\n      </a>\n     </font>\n    </td>\n    <td align=\"center\">\n     <font size=\"2\">\n      <b>\n       6\n      </b>\n     </font>\n    </td>\n   </tr>\n   <tr bgcolor=\"#f4f4ff\">\n    <td>\n     <font size=\"2\">\n      <a href=\"/alltime/grossbydays.htm?days=6&amp;p=.htm\">\n       <b>\n        Top 6-Day Grosses\n       </b>\n      </a>\n     </font>\n    </td>\n    <td align=\"center\">\n     <font size=\"2\">\n      <b>\n       6\n      </b>\n     </font>\n    </td>\n   </tr>\n   <tr bgcolor=\"#ffffff\">\n    <td>\n     <font size=\"2\">\n      <a href=\"/alltime/grossbydays.htm?days=7&amp;p=.htm\">\n       <b>\n        Top 7-Day Grosses\n       </b>\n      </a>\n     </font>\n    </td>\n    <td align=\"center\">\n     <font size=\"2\">\n      <b>\n       6\n      </b>\n     </font>\n    </td>\n   </tr>\n   <tr bgcolor=\"#f4f4ff\">\n    <td>\n     <font size=\"2\">\n      <a href=\"/alltime/grossbydays.htm?days=8&amp;p=.htm\">\n       <b>\n        Top 8-Day Grosses\n       </b>\n      </a>\n     </font>\n    </td>\n    <td align=\"center\">\n     <font size=\"2\">\n      <b>\n       6\n      </b>\n     </font>\n    </td>\n   </tr>\n   <tr bgcolor=\"#ffffff\">\n    <td>\n     <font size=\"2\">\n      <a href=\"/alltime/grossbydays.htm?days=9&amp;p=.htm\">\n       <b>\n        Top 9-Day Grosses\n       </b>\n      </a>\n     </font>\n    </td>\n    <td align=\"center\">\n     <font size=\"2\">\n      <b>\n       6\n      </b>\n     </font>\n    </td>\n   </tr>\n   <tr bgcolor=\"#f4f4ff\">\n    <td>\n     <font size=\"2\">\n      <a href=\"/alltime/grossbydays.htm?days=5&amp;p=.htm\">\n       <b>\n        Top 5-Day Grosses\n       </b>\n      </a>\n     </font>\n    </td>\n    <td align=\"center\">\n     <font size=\"2\">\n      <b>\n       6\n      </b>\n     </font>\n    </td>\n   </tr>\n   <tr bgcolor=\"#ffffff\">\n    <td>\n     <font size=\"2\">\n      <a href=\"/alltime/weekends/bestranked.htm?page=WKNDSAT1&amp;p=.htm\">\n       Most Weekends at #1 (non-consecutive)\n      </a>\n     </font>\n    </td>\n    <td align=\"center\">\n     <font size=\"2\">\n      81\n     </font>\n    </td>\n   </tr>\n   <tr bgcolor=\"#f4f4ff\">\n    <td>\n     <font size=\"2\">\n      <a href=\"/alltime/weekends/bestranked.htm?page=WKNDSCAT1&amp;p=.htm\">\n       Consecutive Weekends At #1\n      </a>\n     </font>\n    </td>\n    <td align=\"center\">\n     <font size=\"2\">\n      63\n     </font>\n    </td>\n   </tr>\n   <tr bgcolor=\"#ffffff\">\n    <td>\n     <font size=\"2\">\n      <a href=\"/alltime/weekends/md.htm?page=MEMDAY&amp;p=.htm\">\n       Memorial Day 4-Day Holiday Weekends\n      </a>\n     </font>\n    </td>\n    <td align=\"center\">\n     <font size=\"2\">\n      33\n     </font>\n    </td>\n   </tr>\n   <tr bgcolor=\"#f4f4ff\">\n    <td>\n     <font size=\"2\">\n      <a href=\"/alltime/weekends/moreweekends.htm?page=2&amp;p=.htm\">\n       <b>\n        Second Weekends\n       </b>\n      </a>\n     </font>\n    </td>\n    <td align=\"center\">\n     <font size=\"2\">\n      <b>\n       5\n      </b>\n     </font>\n    </td>\n   </tr>\n   <tr bgcolor=\"#ffffff\">\n    <td>\n     <font size=\"2\">\n      <a href=\"/alltime/weekends/moreweekends.htm?page=3&amp;p=.htm\">\n       <b>\n        Third Weekends\n       </b>\n      </a>\n     </font>\n    </td>\n    <td align=\"center\">\n     <font size=\"2\">\n      <b>\n       5\n      </b>\n     </font>\n    </td>\n   </tr>\n   <tr bgcolor=\"#f4f4ff\">\n    <td>\n     <font size=\"2\">\n      <a href=\"/alltime/weekends/moreweekends.htm?page=4&amp;p=.htm\">\n       <b>\n        Fourth Weekends\n       </b>\n      </a>\n     </font>\n    </td>\n    <td align=\"center\">\n     <font size=\"2\">\n      <b>\n       4\n      </b>\n     </font>\n    </td>\n   </tr>\n   <tr bgcolor=\"#ffffff\">\n    <td>\n     <font size=\"2\">\n      <a href=\"/alltime/weekends/moreweekends.htm?page=5&amp;p=.htm\">\n       <b>\n        Fifth Weekends\n       </b>\n      </a>\n     </font>\n    </td>\n    <td align=\"center\">\n     <font size=\"2\">\n      <b>\n       7\n      </b>\n     </font>\n    </td>\n   </tr>\n   <tr bgcolor=\"#f4f4ff\">\n    <td>\n     <font size=\"2\">\n      <a href=\"/alltime/weekends/moreweekends.htm?page=6&amp;p=.htm\">\n       Sixth Weekends\n      </a>\n     </font>\n    </td>\n    <td align=\"center\">\n     <font size=\"2\">\n      20\n     </font>\n    </td>\n   </tr>\n   <tr bgcolor=\"#ffffff\">\n    <td>\n     <font size=\"2\">\n      <a href=\"/alltime/weekends/moreweekends.htm?page=7&amp;p=.htm\">\n       Seventh Weekends\n      </a>\n     </font>\n    </td>\n    <td align=\"center\">\n     <font size=\"2\">\n      17\n     </font>\n    </td>\n   </tr>\n   <tr bgcolor=\"#f4f4ff\">\n    <td>\n     <font size=\"2\">\n      <a href=\"/alltime/weekends/moreweekends.htm?page=8&amp;p=.htm\">\n       Eighth Weekends\n      </a>\n     </font>\n    </td>\n    <td align=\"center\">\n     <font size=\"2\">\n      23\n     </font>\n    </td>\n   </tr>\n   <tr bgcolor=\"#ffffff\">\n    <td>\n     <font size=\"2\">\n      <a href=\"/alltime/weekends/smallestdrops.htm?page=DROP3000&amp;p=.htm\">\n       Smallest Drops, 3,000+ theaters (Super-Saturation)\n      </a>\n     </font>\n    </td>\n    <td align=\"center\">\n     <font size=\"2\">\n      537\n     </font>\n    </td>\n   </tr>\n   <tr bgcolor=\"#f4f4ff\">\n    <td>\n     <font size=\"2\">\n      <a href=\"/alltime/weekends/smallestdrops.htm?page=SMALLDROP25&amp;p=.htm\">\n       Smallest Drops, 2,500+ theaters (Saturation)\n      </a>\n     </font>\n    </td>\n    <td align=\"center\">\n     <font size=\"2\">\n      1,040\n     </font>\n    </td>\n   </tr>\n   <tr bgcolor=\"#ffffff\">\n    <td>\n     <font size=\"2\">\n      <a href=\"/alltime/weekends/smallestdrops.htm?page=SMALLDROP20&amp;p=.htm\">\n       Smallest Drops, 2,000+ theaters (Very Wide)\n      </a>\n     </font>\n    </td>\n    <td align=\"center\">\n     <font size=\"2\">\n      1,461\n     </font>\n    </td>\n   </tr>\n   <tr bgcolor=\"#f4f4ff\">\n    <td>\n     <font size=\"2\">\n      <a href=\"/alltime/weekends/smallestdrops.htm?page=SMALLDROPWID&amp;p=.htm\">\n       Smallest Drops, All Wide Releases\n      </a>\n     </font>\n    </td>\n    <td align=\"center\">\n     <font size=\"2\">\n      3,098\n     </font>\n    </td>\n   </tr>\n   <tr bgcolor=\"#ffffff\">\n    <td>\n     <font size=\"2\">\n      <a href=\"/alltime/domestic/mpaa.htm?page=PG-13&amp;p=.htm\">\n       <b>\n        Rated PG-13\n       </b>\n      </a>\n     </font>\n    </td>\n    <td align=\"center\">\n     <font size=\"2\">\n      <b>\n       7\n      </b>\n     </font>\n    </td>\n   </tr>\n   <tr bgcolor=\"#f4f4ff\">\n    <td>\n     <font size=\"2\">\n      <a href=\"/alltime/weekends/mpaa.htm?page=PG-13&amp;p=.htm\">\n       <b>\n        Rated PG-13, Opening Weekends\n       </b>\n      </a>\n     </font>\n    </td>\n    <td align=\"center\">\n     <font size=\"2\">\n      <b>\n       5\n      </b>\n     </font>\n    </td>\n   </tr>\n   <tr bgcolor=\"#ffffff\">\n    <td>\n     <font size=\"2\">\n      <a href=\"/alltime/widest.htm?page=WIDEST&amp;p=.htm\">\n       Widest Releases\n      </a>\n     </font>\n    </td>\n    <td align=\"center\">\n     <font size=\"2\">\n      13\n     </font>\n    </td>\n   </tr>\n   <tr bgcolor=\"#f4f4ff\">\n    <td>\n     <font size=\"2\">\n      <a href=\"/alltime/widest.htm?page=WIDESTOPEN&amp;p=.htm\">\n       Widest Opening Releases\n      </a>\n     </font>\n    </td>\n    <td align=\"center\">\n     <font size=\"2\">\n      12\n     </font>\n    </td>\n   </tr>\n   <tr bgcolor=\"#ffffff\">\n    <td>\n     <font size=\"2\">\n      <a href=\"/alltime/widestmpaa.htm?page=PG-13&amp;p=.htm\">\n       <b>\n        Widest PG-13 Rated Openings\n       </b>\n      </a>\n     </font>\n    </td>\n    <td align=\"center\">\n     <font size=\"2\">\n      <b>\n       9\n      </b>\n     </font>\n    </td>\n   </tr>\n   <tr bgcolor=\"#f4f4ff\">\n    <td>\n     <font size=\"2\">\n      <a href=\"/alltime/widestmpaareleases.htm?page=PG-13&amp;p=.htm\">\n       <b>\n        Widest PG-13 Rated Releases\n       </b>\n      </a>\n     </font>\n    </td>\n    <td align=\"center\">\n     <font size=\"2\">\n      <b>\n       9\n      </b>\n     </font>\n    </td>\n   </tr>\n   <tr bgcolor=\"#ffffff\">\n    <td>\n     <font size=\"2\">\n      <a href=\"/alltime/fastest.htm?page=100&amp;p=.htm\">\n       <b>\n        Fastest to $100 million\n       </b>\n      </a>\n     </font>\n    </td>\n    <td align=\"center\">\n     <font size=\"2\">\n      <b>\n       5\n      </b>\n     </font>\n    </td>\n   </tr>\n   <tr bgcolor=\"#f4f4ff\">\n    <td>\n     <font size=\"2\">\n      <a href=\"/alltime/fastest.htm?page=150&amp;p=.htm\">\n       <b>\n        Fastest to $150 million\n       </b>\n      </a>\n     </font>\n    </td>\n    <td align=\"center\">\n     <font size=\"2\">\n      <b>\n       5\n      </b>\n     </font>\n    </td>\n   </tr>\n   <tr bgcolor=\"#ffffff\">\n    <td>\n     <font size=\"2\">\n      <a href=\"/alltime/fastest.htm?page=200&amp;p=.htm\">\n       <b>\n        Fastest to $200 million\n       </b>\n      </a>\n     </font>\n    </td>\n    <td align=\"center\">\n     <font size=\"2\">\n      <b>\n       5\n      </b>\n     </font>\n    </td>\n   </tr>\n   <tr bgcolor=\"#f4f4ff\">\n    <td>\n     <font size=\"2\">\n      <a href=\"/alltime/fastest.htm?page=250&amp;p=.htm\">\n       <b>\n        Fastest to $250 million\n       </b>\n      </a>\n     </font>\n    </td>\n    <td align=\"center\">\n     <font size=\"2\">\n      <b>\n       6\n      </b>\n     </font>\n    </td>\n   </tr>\n   <tr bgcolor=\"#ffffff\">\n    <td>\n     <font size=\"2\">\n      <a href=\"/alltime/fastest.htm?page=300&amp;p=.htm\">\n       <b>\n        Fastest to $300 million\n       </b>\n      </a>\n     </font>\n    </td>\n    <td align=\"center\">\n     <font size=\"2\">\n      <b>\n       6\n      </b>\n     </font>\n    </td>\n   </tr>\n   <tr bgcolor=\"#f4f4ff\">\n    <td>\n     <font size=\"2\">\n      <a href=\"/alltime/fastest.htm?page=350&amp;p=.htm\">\n       <b>\n        Fastest to $350 million\n       </b>\n      </a>\n     </font>\n    </td>\n    <td align=\"center\">\n     <font size=\"2\">\n      <b>\n       6\n      </b>\n     </font>\n    </td>\n   </tr>\n   <tr bgcolor=\"#ffffff\">\n    <td>\n     <font size=\"2\">\n      <a href=\"/alltime/fastest.htm?page=400&amp;p=.htm\">\n       <b>\n        Fastest to $400 million\n       </b>\n      </a>\n     </font>\n    </td>\n    <td align=\"center\">\n     <font size=\"2\">\n      <b>\n       6\n      </b>\n     </font>\n    </td>\n   </tr>\n   <tr bgcolor=\"#f4f4ff\">\n    <td>\n     <font size=\"2\">\n      <a href=\"/alltime/fastest.htm?page=450&amp;p=.htm\">\n       <b>\n        Fastest to $450 million\n       </b>\n      </a>\n     </font>\n    </td>\n    <td align=\"center\">\n     <font size=\"2\">\n      <b>\n       6\n      </b>\n     </font>\n    </td>\n   </tr>\n   <tr bgcolor=\"#ffffff\">\n    <td>\n     <font size=\"2\">\n      <a href=\"/alltime/fastest.htm?page=500&amp;p=.htm\">\n       <b>\n        Fastest to $500 million\n       </b>\n      </a>\n     </font>\n    </td>\n    <td align=\"center\">\n     <font size=\"2\">\n      <b>\n       6\n      </b>\n     </font>\n    </td>\n   </tr>\n   <tr bgcolor=\"#f4f4ff\">\n    <td>\n     <font size=\"2\">\n      <a href=\"/alltime/slowest.htm?page=100&amp;p=.htm\">\n       Slowest to $100 million\n      </a>\n     </font>\n    </td>\n    <td align=\"center\">\n     <font size=\"2\">\n      665\n     </font>\n    </td>\n   </tr>\n   <tr bgcolor=\"#ffffff\">\n    <td>\n     <font size=\"2\">\n      <a href=\"/alltime/slowest.htm?page=200&amp;p=.htm\">\n       Slowest to $200 million\n      </a>\n     </font>\n    </td>\n    <td align=\"center\">\n     <font size=\"2\">\n      183\n     </font>\n    </td>\n   </tr>\n   <tr>\n    <td>\n     <b>\n      Charts (Premier Pass Users Only)\n     </b>\n    </td>\n    <td align=\"center\">\n     <b>\n      Rank\n     </b>\n    </td>\n   </tr>\n   <tr bgcolor=\"#ffffff\">\n    <td>\n     <font size=\"2\">\n      <a href=\"/alltime/domestic.htm?page=1&amp;asof=2012-06-03&amp;p=.htm\">\n       Highest All Time Rank (on June 3, 2012)\n      </a>\n     </font>\n    </td>\n    <td align=\"center\">\n     <font size=\"2\">\n      3\n     </font>\n    </td>\n   </tr>\n   <tr bgcolor=\"#f4f4ff\">\n    <td>\n     <font size=\"2\">\n      <a href=\"/alltime/openingweeks.htm?adjust_yr=2018&amp;p=.htm\">\n       <b>\n        Opening Weeks Adjusted\n       </b>\n      </a>\n     </font>\n    </td>\n    <td align=\"center\">\n     <font size=\"2\">\n      <b>\n       4\n      </b>\n     </font>\n    </td>\n   </tr>\n   <tr bgcolor=\"#ffffff\">\n    <td>\n     <font size=\"2\">\n      <a href=\"/alltime/days/nonopening.htm?page=Fri&amp;adjust_yr=2018&amp;p=.htm\">\n       Non-Opening Friday Gross Adjusted\n      </a>\n     </font>\n    </td>\n    <td align=\"center\">\n     <font size=\"2\">\n      24\n     </font>\n    </td>\n   </tr>\n   <tr bgcolor=\"#f4f4ff\">\n    <td>\n     <font size=\"2\">\n      <a href=\"/alltime/days/nonopening.htm?page=Thu&amp;adjust_yr=2018&amp;p=.htm\">\n       Non-Opening Thursday Gross Adjusted\n      </a>\n     </font>\n    </td>\n    <td align=\"center\">\n     <font size=\"2\">\n      70\n     </font>\n    </td>\n   </tr>\n   <tr bgcolor=\"#ffffff\">\n    <td>\n     <font size=\"2\">\n      <a href=\"/alltime/days/nonopening.htm?page=Tue&amp;adjust_yr=2018&amp;p=.htm\">\n       Non-Opening Tuesday Gross Adjusted\n      </a>\n     </font>\n    </td>\n    <td align=\"center\">\n     <font size=\"2\">\n      14\n     </font>\n    </td>\n   </tr>\n   <tr bgcolor=\"#f4f4ff\">\n    <td>\n     <font size=\"2\">\n      <a href=\"/alltime/days/nonopening.htm?page=Wed&amp;adjust_yr=2018&amp;p=.htm\">\n       Non-Opening Wednesday Gross Adjusted\n      </a>\n     </font>\n    </td>\n    <td align=\"center\">\n     <font size=\"2\">\n      37\n     </font>\n    </td>\n   </tr>\n   <tr bgcolor=\"#ffffff\">\n    <td>\n     <font size=\"2\">\n      <a href=\"/alltime/days/f-th.htm?page=Fri&amp;adjust_yr=2018&amp;p=.htm\">\n       <b>\n        Single Day Friday Gross Adjusted\n       </b>\n      </a>\n     </font>\n    </td>\n    <td align=\"center\">\n     <font size=\"2\">\n      <b>\n       5\n      </b>\n     </font>\n    </td>\n   </tr>\n   <tr bgcolor=\"#f4f4ff\">\n    <td>\n     <font size=\"2\">\n      <a href=\"/alltime/days/f-th.htm?page=Mon&amp;adjust_yr=2018&amp;p=.htm\">\n       Single Day Monday Gross Adjusted\n      </a>\n     </font>\n    </td>\n    <td align=\"center\">\n     <font size=\"2\">\n      31\n     </font>\n    </td>\n   </tr>\n   <tr bgcolor=\"#ffffff\">\n    <td>\n     <font size=\"2\">\n      <a href=\"/alltime/days/f-th.htm?page=Sat&amp;adjust_yr=2018&amp;p=.htm\">\n       <b>\n        Single Day Saturday Gross Adjusted\n       </b>\n      </a>\n     </font>\n    </td>\n    <td align=\"center\">\n     <font size=\"2\">\n      <b>\n       2\n      </b>\n     </font>\n    </td>\n   </tr>\n   <tr bgcolor=\"#f4f4ff\">\n    <td>\n     <font size=\"2\">\n      <a href=\"/alltime/days/f-th.htm?page=Sun&amp;adjust_yr=2018&amp;p=.htm\">\n       <b>\n        Single Day Sunday Gross Adjusted\n       </b>\n      </a>\n     </font>\n    </td>\n    <td align=\"center\">\n     <font size=\"2\">\n      <b>\n       2\n      </b>\n     </font>\n    </td>\n   </tr>\n   <tr bgcolor=\"#ffffff\">\n    <td>\n     <font size=\"2\">\n      <a href=\"/alltime/days/f-th.htm?page=Thu&amp;adjust_yr=2018&amp;p=.htm\">\n       Single Day Thursday Gross Adjusted\n      </a>\n     </font>\n    </td>\n    <td align=\"center\">\n     <font size=\"2\">\n      83\n     </font>\n    </td>\n   </tr>\n   <tr bgcolor=\"#f4f4ff\">\n    <td>\n     <font size=\"2\">\n      <a href=\"/alltime/days/f-th.htm?page=Tue&amp;adjust_yr=2018&amp;p=.htm\">\n       Single Day Tuesday Gross Adjusted\n      </a>\n     </font>\n    </td>\n    <td align=\"center\">\n     <font size=\"2\">\n      18\n     </font>\n    </td>\n   </tr>\n   <tr bgcolor=\"#ffffff\">\n    <td>\n     <font size=\"2\">\n      <a href=\"/alltime/days/f-th.htm?page=Wed&amp;adjust_yr=2018&amp;p=.htm\">\n       Single Day Wednesday Gross Adjusted\n      </a>\n     </font>\n    </td>\n    <td align=\"center\">\n     <font size=\"2\">\n      77\n     </font>\n    </td>\n   </tr>\n   <tr bgcolor=\"#f4f4ff\">\n    <td>\n     <font size=\"2\">\n      <a href=\"/alltime/wekeends/theateravg.htm?page=THTRWAVGADJ&amp;adjust_yr=2018&amp;p=.htm\">\n       Theater Averages (Wide Releases) - All Time Adjusted\n      </a>\n     </font>\n    </td>\n    <td align=\"center\">\n     <font size=\"2\">\n      158\n     </font>\n    </td>\n   </tr>\n   <tr bgcolor=\"#ffffff\">\n    <td>\n     <font size=\"2\">\n      <a href=\"/alltime/wekeends/theateravg.htm?page=THTRWAVGADJ&amp;adjust_yr=2018&amp;p=.htm\">\n       <b>\n        Theater Averages (Wide Releases) - All Time Adjusted\n       </b>\n      </a>\n     </font>\n    </td>\n    <td align=\"center\">\n     <font size=\"2\">\n      <b>\n       6\n      </b>\n     </font>\n    </td>\n   </tr>\n   <tr bgcolor=\"#f4f4ff\">\n    <td>\n     <font size=\"2\">\n      <a href=\"/alltime/weekends/theateravg.htm?page=THTRAWOPNADJ&amp;adjust_yr=2018&amp;p=.htm\">\n       <b>\n        Theater Averages - Wide Opening Weekends Adjusted\n       </b>\n      </a>\n     </font>\n    </td>\n    <td align=\"center\">\n     <font size=\"2\">\n      <b>\n       6\n      </b>\n     </font>\n    </td>\n   </tr>\n   <tr bgcolor=\"#ffffff\">\n    <td>\n     <font size=\"2\">\n      <a href=\"/alltime/weekends/month/?mo=05&amp;adjust_yr=2018&amp;p=.htm\">\n       <b>\n        Opening Weekends Adjusted - May\n       </b>\n      </a>\n     </font>\n    </td>\n    <td align=\"center\">\n     <font size=\"2\">\n      <b>\n       1\n      </b>\n     </font>\n    </td>\n   </tr>\n   <tr bgcolor=\"#f4f4ff\">\n    <td>\n     <font size=\"2\">\n      <a href=\"/alltime/weekends/?adjust_yr=2018&amp;p=.htm\">\n       <b>\n        Opening Weekends Adjusted\n       </b>\n      </a>\n     </font>\n    </td>\n    <td align=\"center\">\n     <font size=\"2\">\n      <b>\n       3\n      </b>\n     </font>\n    </td>\n   </tr>\n   <tr bgcolor=\"#ffffff\">\n    <td>\n     <font size=\"2\">\n      <a href=\"/alltime/weekends/byseason.htm?season=Summer&amp;adjust_yr=2018&amp;p=.htm\">\n       <b>\n        Opening Weekends Adjusted - Summer\n       </b>\n      </a>\n     </font>\n    </td>\n    <td align=\"center\">\n     <font size=\"2\">\n      <b>\n       1\n      </b>\n     </font>\n    </td>\n   </tr>\n   <tr bgcolor=\"#f4f4ff\">\n    <td>\n     <font size=\"2\">\n      <a href=\"/alltime/weekends/moreweeknds.htm?page=9&amp;adjust_yr=2018&amp;p=.htm\">\n       Ninth Weekends Adjusted\n      </a>\n     </font>\n    </td>\n    <td align=\"center\">\n     <font size=\"2\">\n      129\n     </font>\n    </td>\n   </tr>\n   <tr bgcolor=\"#ffffff\">\n    <td>\n     <font size=\"2\">\n      <a href=\"/alltime/weekends/moreweeknds.htm?page=2&amp;adjust_yr=2018&amp;p=.htm\">\n       <b>\n        Second Weekends Adjusted\n       </b>\n      </a>\n     </font>\n    </td>\n    <td align=\"center\">\n     <font size=\"2\">\n      <b>\n       3\n      </b>\n     </font>\n    </td>\n   </tr>\n   <tr bgcolor=\"#f4f4ff\">\n    <td>\n     <font size=\"2\">\n      <a href=\"/alltime/weekends/moreweeknds.htm?page=3&amp;adjust_yr=2018&amp;p=.htm\">\n       <b>\n        Third Weekends Adjusted\n       </b>\n      </a>\n     </font>\n    </td>\n    <td align=\"center\">\n     <font size=\"2\">\n      <b>\n       6\n      </b>\n     </font>\n    </td>\n   </tr>\n   <tr bgcolor=\"#ffffff\">\n    <td>\n     <font size=\"2\">\n      <a href=\"/alltime/weekends/moreweeknds.htm?page=4&amp;adjust_yr=2018&amp;p=.htm\">\n       <b>\n        Fourth Weekends Adjusted\n       </b>\n      </a>\n     </font>\n    </td>\n    <td align=\"center\">\n     <font size=\"2\">\n      <b>\n       7\n      </b>\n     </font>\n    </td>\n   </tr>\n   <tr bgcolor=\"#f4f4ff\">\n    <td>\n     <font size=\"2\">\n      <a href=\"/alltime/weekends/moreweeknds.htm?page=5&amp;adjust_yr=2018&amp;p=.htm\">\n       Fifth Weekends Adjusted\n      </a>\n     </font>\n    </td>\n    <td align=\"center\">\n     <font size=\"2\">\n      28\n     </font>\n    </td>\n   </tr>\n   <tr bgcolor=\"#ffffff\">\n    <td>\n     <font size=\"2\">\n      <a href=\"/alltime/weekends/moreweeknds.htm?page=6&amp;adjust_yr=2018&amp;p=.htm\">\n       Sixth Weekends Adjusted\n      </a>\n     </font>\n    </td>\n    <td align=\"center\">\n     <font size=\"2\">\n      91\n     </font>\n    </td>\n   </tr>\n   <tr bgcolor=\"#f4f4ff\">\n    <td>\n     <font size=\"2\">\n      <a href=\"/alltime/weekends/moreweeknds.htm?page=7&amp;adjust_yr=2018&amp;p=.htm\">\n       Seventh Weekends Adjusted\n      </a>\n     </font>\n    </td>\n    <td align=\"center\">\n     <font size=\"2\">\n      88\n     </font>\n    </td>\n   </tr>\n   <tr bgcolor=\"#ffffff\">\n    <td>\n     <font size=\"2\">\n      <a href=\"/alltime/weekends/moreweeknds.htm?page=8&amp;adjust_yr=2018&amp;p=.htm\">\n       Eighth Weekends Adjusted\n      </a>\n     </font>\n    </td>\n    <td align=\"center\">\n     <font size=\"2\">\n      86\n     </font>\n    </td>\n   </tr>\n   <tr bgcolor=\"#f4f4ff\">\n    <td>\n     <font size=\"2\">\n      <a href=\"/alltime/domestic/mpaa.htm?page=PG-13&amp;adjust_yr=2018&amp;p=.htm\">\n       <b>\n        Rated PG-13 Adjusted\n       </b>\n      </a>\n     </font>\n    </td>\n    <td align=\"center\">\n     <font size=\"2\">\n      <b>\n       7\n      </b>\n     </font>\n    </td>\n   </tr>\n   <tr bgcolor=\"#ffffff\">\n    <td>\n     <font size=\"2\">\n      <a href=\"/alltime/weekends/mpaa.htm?page=PG-13&amp;adjust_yr==.htm\">\n       <b>\n        Rated PG-13, Opening Weekends Adjusted\n       </b>\n      </a>\n     </font>\n    </td>\n    <td align=\"center\">\n     <font size=\"2\">\n      <b>\n       3\n      </b>\n     </font>\n    </td>\n   </tr>\n  </table>\n </div>\n</div>\n<td width=\"10px\">\n</td>\n<td valign=\"top\" width=\"434px\">\n <div class=\"mp_box\">\n  <div class=\"mp_box_tab\">\n   Related Stories\n  </div>\n  <div class=\"mp_box_content\">\n   <table border=\"0\" cellpadding=\"5\" cellspacing=\"0\" width=\"100%\">\n    <tr bgcolor=\"#ffff99\">\n     <td>\n      <font size=\"2\">\n       <a href=\"/news/?id=4372&amp;p=.htm\">\n        2/20 A Closer Look at 'Black Panther's Record Smashing Opening\n       </a>\n      </font>\n     </td>\n    </tr>\n    <tr bgcolor=\"#f4f4ff\">\n     <td>\n      <font size=\"2\">\n       <a href=\"/news/?id=4184&amp;p=.htm\">\n        5/10/16 Disney Makes History, Topping $1 Billion in Domestic Ticket Sales in Just 128 Days\n       </a>\n      </font>\n     </td>\n    </tr>\n    <tr bgcolor=\"#ffffff\">\n     <td>\n      <font size=\"2\">\n       <a href=\"/news/?id=3595&amp;p=.htm\">\n        12/28/12 Domestic Box Office Sets New Yearly Record in 2012\n       </a>\n      </font>\n     </td>\n    </tr>\n    <tr bgcolor=\"#f4f4ff\">\n     <td>\n      <font size=\"2\">\n       <a href=\"/news/?id=3514&amp;p=.htm\">\n        9/4/12 Around-the-World Roundup: 'Dark Knight Rises' Joins Billionaire Club\n       </a>\n      </font>\n     </td>\n    </tr>\n    <tr bgcolor=\"#ffffff\">\n     <td>\n      <font size=\"2\">\n       <a href=\"/news/?id=3505&amp;p=.htm\">\n        8/20/12 Around-the-World Roundup: 'Dark Knight Rises' Passes 'Dark Knight' Overseas\n       </a>\n      </font>\n     </td>\n    </tr>\n    <tr bgcolor=\"#f4f4ff\">\n     <td>\n      <font size=\"2\">\n       <a href=\"/news/?id=3470&amp;p=.htm\">\n        6/26/12 'The Avengers' Hits $600 Million\n       </a>\n      </font>\n     </td>\n    </tr>\n    <tr bgcolor=\"#ffffff\">\n     <td>\n      <font size=\"2\">\n       <a href=\"/news/?id=3465&amp;p=.htm\">\n        6/17/12 Weekend Report: Circus Afros Beat 80s Hairdos\n       </a>\n      </font>\n     </td>\n    </tr>\n    <tr bgcolor=\"#f4f4ff\">\n     <td>\n      <font size=\"2\">\n       <a href=\"/news/?id=3464&amp;p=.htm\">\n        6/16/12 Friday Report: 'Madagascar 3' Holds Off Weak Openers\n       </a>\n      </font>\n     </td>\n    </tr>\n    <tr bgcolor=\"#ffffff\">\n     <td>\n      <font size=\"2\">\n       <a href=\"/news/?id=3461&amp;p=.htm\">\n        6/10/12 Weekend Report: 'Madagascar' Breaks Out, 'Prometheus' Catches Fire\n       </a>\n      </font>\n     </td>\n    </tr>\n    <tr bgcolor=\"#f4f4ff\">\n     <td>\n      <font size=\"2\">\n       <a href=\"/news/?id=3460&amp;p=.htm\">\n        6/9/12 Friday Report: 'Prometheus,' 'Madagascar 3' in Close Race\n       </a>\n      </font>\n     </td>\n    </tr>\n    <tr bgcolor=\"#ffffff\">\n     <td>\n      <font size=\"2\">\n       <a href=\"/news/?id=3457&amp;p=.htm\">\n        6/5/12 Around-the-World Roundup: 'MIB 3' Leads Again, 'Prometheus' Opens Strong\n       </a>\n      </font>\n     </td>\n    </tr>\n    <tr bgcolor=\"#f4f4ff\">\n     <td>\n      <font size=\"2\">\n       <a href=\"/news/?id=3455&amp;p=.htm\">\n        6/3/12 Weekend Report: 'Snow White' Takes Big Bite Out of Box Office Apple\n       </a>\n      </font>\n     </td>\n    </tr>\n    <tr bgcolor=\"#ffffff\">\n     <td>\n      <font size=\"2\">\n       <a href=\"/news/?id=3454&amp;p=.htm\">\n        6/2/12 Friday Report: 'Snow White' Conquers the Box Office\n       </a>\n      </font>\n     </td>\n    </tr>\n    <tr bgcolor=\"#f4f4ff\">\n     <td>\n      <font size=\"2\">\n       <a href=\"/news/?id=3453&amp;p=.htm\">\n        6/1/12 'Avengers' Accounts for Over Half of May 2012 Grosses\n       </a>\n      </font>\n     </td>\n    </tr>\n    <tr bgcolor=\"#ffffff\">\n     <td>\n      <font size=\"2\">\n       <a href=\"/news/?id=3450&amp;p=.htm\">\n        5/29/12 Around-the-World Roundup: 'MIB 3' Grabs $135.3 Million Overseas\n       </a>\n      </font>\n     </td>\n    </tr>\n    <tr bgcolor=\"#f4f4ff\">\n     <td>\n      <font size=\"2\">\n       <a href=\"/news/?id=3448&amp;p=.htm\">\n        5/27/12 Weekend Report: 'MIB 3' Beats 'Avengers' With Solid Memorial Debut\n       </a>\n      </font>\n     </td>\n    </tr>\n    <tr bgcolor=\"#ffffff\">\n     <td>\n      <font size=\"2\">\n       <a href=\"/news/?id=3447&amp;p=.htm\">\n        5/26/12 Friday Report: 'MIB 3' Takes Top Spot from 'Avengers'\n       </a>\n      </font>\n     </td>\n    </tr>\n    <tr bgcolor=\"#f4f4ff\">\n     <td>\n      <font size=\"2\">\n       <a href=\"/news/?id=3445&amp;p=.htm\">\n        5/20/12 Weekend Report: 'Battleship' Drowns Under Weight of 'Avengers'\n       </a>\n      </font>\n     </td>\n    </tr>\n    <tr bgcolor=\"#ffffff\">\n     <td>\n      <font size=\"2\">\n       <a href=\"/news/?id=3443&amp;p=.htm\">\n        5/13/12 Around-the-World Roundup: 'Avengers' Reaches $1 Billion Worldwide\n       </a>\n      </font>\n     </td>\n    </tr>\n    <tr bgcolor=\"#f4f4ff\">\n     <td>\n      <font size=\"2\">\n       <a href=\"/news/?id=3442&amp;p=.htm\">\n        5/13/12 Weekend Report: 'Avengers' Shatters More Records, 'Shadows' Mostly Sucks\n       </a>\n      </font>\n     </td>\n    </tr>\n    <tr bgcolor=\"#ffffff\">\n     <td>\n      <font size=\"2\">\n       <a href=\"/news/?id=3441&amp;p=.htm\">\n        5/12/12 Friday Report: 'Dark Shadows' Can't Slow 'Avengers'\n       </a>\n      </font>\n     </td>\n    </tr>\n    <tr bgcolor=\"#f4f4ff\">\n     <td>\n      <font size=\"2\">\n       <a href=\"/news/?id=3440&amp;p=.htm\">\n        5/10/12 Forecast: Depp, Burton Open in 'Shadow' of 'Avengers'\n       </a>\n      </font>\n     </td>\n    </tr>\n    <tr bgcolor=\"#ffffff\">\n     <td>\n      <font size=\"2\">\n       <a href=\"/news/?id=3439&amp;p=.htm\">\n        5/8/12 Around-the-World Roundup: 'Avengers' Dominates Again\n       </a>\n      </font>\n     </td>\n    </tr>\n    <tr bgcolor=\"#f4f4ff\">\n     <td>\n      <font size=\"2\">\n       <a href=\"/news/?id=3438&amp;p=.htm\">\n        5/7/12 Weekend Report: 'Avengers' Smashes Records\n       </a>\n      </font>\n     </td>\n    </tr>\n    <tr bgcolor=\"#ffffff\">\n     <td>\n      <font size=\"2\">\n       <a href=\"/news/?id=3437&amp;p=.htm\">\n        5/5/12 Friday Report: 'Avengers' Amazes with $80.5 Million\n       </a>\n      </font>\n     </td>\n    </tr>\n    <tr bgcolor=\"#f4f4ff\">\n     <td>\n      <font size=\"2\">\n       <a href=\"/news/?id=3436&amp;p=.htm\">\n        5/4/12 'Avengers' Scores Highest Superhero Midnight Opening Ever\n       </a>\n      </font>\n     </td>\n    </tr>\n    <tr bgcolor=\"#ffffff\">\n     <td>\n      <font size=\"2\">\n       <a href=\"/news/?id=3435&amp;p=.htm\">\n        5/3/12 Forecast: 'The Avengers' Takes Aim at Opening Weekend Record\n       </a>\n      </font>\n     </td>\n    </tr>\n    <tr bgcolor=\"#f4f4ff\">\n     <td>\n      <font size=\"2\">\n       <a href=\"/news/?id=3433&amp;p=.htm\">\n        5/2/12 Summer 2012 Domestic Forecast\n       </a>\n      </font>\n     </td>\n    </tr>\n    <tr bgcolor=\"#ffffff\">\n     <td>\n      <font size=\"2\">\n       <a href=\"/news/?id=3431&amp;p=.htm\">\n        4/29/12 Around-the-World Roundup: The Avengers Assemble $185.1 Million Overseas Debut\n       </a>\n      </font>\n     </td>\n    </tr>\n    <tr bgcolor=\"#f4f4ff\">\n     <td>\n      <font size=\"2\">\n       <a href=\"/news/?id=3428&amp;p=.htm\">\n        4/27/12 May 2012 Preview\n       </a>\n      </font>\n     </td>\n    </tr>\n    <tr bgcolor=\"#ffffff\">\n     <td>\n      <font size=\"2\">\n       <a href=\"/news/?id=3426&amp;p=.htm\">\n        4/25/12 Summer 2012 Foreign Forecast\n       </a>\n      </font>\n     </td>\n    </tr>\n    <tr bgcolor=\"#f4f4ff\">\n     <td>\n      <font size=\"2\">\n       <a href=\"/news/?id=3243&amp;p=.htm\">\n        8/10/11 What's the Next Billion Dollar Movie?\n       </a>\n      </font>\n     </td>\n    </tr>\n    <tr bgcolor=\"#ffffff\">\n     <td>\n      <font size=\"2\">\n       <a href=\"/news/?id=3218&amp;p=.htm\">\n        7/22/11 'Potter's Opening Record to Be Challenged Soon\n       </a>\n      </font>\n     </td>\n    </tr>\n   </table>\n  </div>\n </div>\n <div class=\"mp_box\">\n  <div class=\"mp_box_tab\">\n   Related Products\n  </div>\n  <div class=\"mp_box_content\">\n   <ul>\n    <li>\n     <a href=\"http://www.amazon.com/gp/product/B001KVZ6HK?ie=UTF8&amp;tag=boxofficemojo-20&amp;linkCode=as2&amp;camp=1789&amp;creative=9325&amp;creativeASIN=B001KVZ6HK\">\n      Marvel's The Avengers [4-Disc Blu-ray]\n     </a>\n     <img alt=\"\" border=\"0\" height=\"1\" src=\"http://www.assoc-amazon.com/e/ir?t=boxofficemojo-20&amp;l=as2&amp;o=1&amp;a=B001KVZ6HK\" style=\"border:none !important; margin:0px !important;\" width=\"1\"/>\n    </li>\n    <li>\n     <a href=\"http://www.amazon.com/gp/product/B0083SBJXS?ie=UTF8&amp;tag=boxofficemojo-20&amp;linkCode=as2&amp;camp=1789&amp;creative=9325&amp;creativeASIN=B0083SBJXS\">\n      Marvel's The Avengers [Blu-ray]\n     </a>\n     <img alt=\"\" border=\"0\" height=\"1\" src=\"http://www.assoc-amazon.com/e/ir?t=boxofficemojo-20&amp;l=as2&amp;o=1&amp;a=B0083SBJXS\" style=\"border:none !important; margin:0px !important;\" width=\"1\"/>\n    </li>\n    <li>\n     <a href=\"http://www.amazon.com/gp/product/B0083SBMBM?ie=UTF8&amp;tag=boxofficemojo-20&amp;linkCode=as2&amp;camp=1789&amp;creative=9325&amp;creativeASIN=B0083SBMBM\">\n      Marvel's The Avengers\n     </a>\n     <img alt=\"\" border=\"0\" height=\"1\" src=\"http://www.assoc-amazon.com/e/ir?t=boxofficemojo-20&amp;l=as2&amp;o=1&amp;a=B0083SBMBM\" style=\"border:none !important; margin:0px !important;\" width=\"1\"/>\n    </li>\n    <li>\n     <a href=\"http://www.amazon.com/gp/product/B0083SBMGW?ie=UTF8&amp;tag=boxofficemojo-20&amp;linkCode=as2&amp;camp=1789&amp;creative=9325&amp;creativeASIN=B0083SBMGW\">\n      Marvel Cinematic Universe: Phase One - Avengers Assembled [Blu-ray]\n     </a>\n     <img alt=\"\" border=\"0\" height=\"1\" src=\"http://www.assoc-amazon.com/e/ir?t=boxofficemojo-20&amp;l=as2&amp;o=1&amp;a=B0083SBMGW\" style=\"border:none !important; margin:0px !important;\" width=\"1\"/>\n    </li>\n    <li>\n     <a href=\"http://www.amazon.com/gp/product/B0083SBMGW?ie=UTF8&amp;tag=boxofficemojo-20&amp;linkCode=as2&amp;camp=1789&amp;creative=9325&amp;creativeASIN=B0083SBMGW\">\n      Marvel Cinematic Universe: Phase One - Avengers Assembled [Blu-ray]\n     </a>\n     <img alt=\"\" border=\"0\" height=\"1\" src=\"http://www.assoc-amazon.com/e/ir?t=boxofficemojo-20&amp;l=as2&amp;o=1&amp;a=B0083SBMGW\" style=\"border:none !important; margin:0px !important;\" width=\"1\"/>\n    </li>\n   </ul>\n  </div>\n </div>\n <object classid=\"clsid:D27CDB6E-AE6D-11cf-96B8-444553540000\" codebase=\"http://fpdownload.macromedia.com/get/flashplayer/current/swflash.cab\" height=\"150px\" id=\"Player_82160f42-9620-4d0a-b79a-18b1abd853fb\" width=\"400px\">\n  <param name=\"movie\" value=\"http://ws.amazon.com/widgets/q?ServiceVersion=20070822&amp;MarketPlace=US&amp;ID=V20070822%2FUS%2Fboxofficemojo-20%2F8010%2F82160f42-9620-4d0a-b79a-18b1abd853fb&amp;Operation=GetDisplayTemplate\"/>\n  <param name=\"quality\" value=\"high\"/>\n  <param name=\"bgcolor\" value=\"#FFFFFF\"/>\n  <param name=\"allowscriptaccess\" value=\"always\"/>\n  <embed align=\"middle\" allowscriptaccess=\"always\" bgcolor=\"#ffffff\" height=\"150px\" id=\"Player_82160f42-9620-4d0a-b79a-18b1abd853fb\" name=\"Player_82160f42-9620-4d0a-b79a-18b1abd853fb\" quality=\"high\" src=\"http://ws.amazon.com/widgets/q?ServiceVersion=20070822&amp;MarketPlace=US&amp;ID=V20070822%2FUS%2Fboxofficemojo-20%2F8010%2F82160f42-9620-4d0a-b79a-18b1abd853fb&amp;Operation=GetDisplayTemplate\" type=\"application/x-shockwave-flash\" width=\"400px\"/>\n </object>\n <noscript>\n  <a href=\"http://ws.amazon.com/widgets/q?ServiceVersion=20070822&amp;MarketPlace=US&amp;ID=V20070822%2FUS%2Fboxofficemojo-20%2F8010%2F82160f42-9620-4d0a-b79a-18b1abd853fb&amp;Operation=NoScript\">\n   Amazon.com Widgets\n  </a>\n </noscript>\n</td>\n<br/>\n<div id=\"hp_footer\">\n <div style=\"padding-bottom: 20px;\">\n  <div style=\"margin: 0px 121px; vertical-align: top;\">\n   <div id=\"footer_links\">\n    <ul class=\"footer_link_list\">\n     <li>\n      <strong>\n       Latest Updates\n      </strong>\n     </li>\n     <li>\n      <a href=\"/news/?ref=ft\">\n       Movie News\n      </a>\n      <li>\n       <a href=\"/daily/chart/?ref=ft\">\n        Daily Chart\n       </a>\n      </li>\n      <li>\n       <a href=\"/weekend/chart/?ref=ft\">\n        Weekend Chart\n       </a>\n      </li>\n      <li>\n       <a href=\"/alltime/?ref=ft\">\n        All Time Charts\n       </a>\n      </li>\n      <li>\n       <a href=\"/intl/?ref=ft\">\n        International Charts\n       </a>\n      </li>\n     </li>\n    </ul>\n    <!--\n\t\t\t\t\t<ul class=\"footer_link_list\">\n\t\t\t\t\t\t<li><strong>Popular Movies</strong></li>\n\t\t\t\t\t\t\t\t\t\t\t</ul>\n\t\t\t\t\t-->\n    <ul class=\"footer_link_list\">\n     <li>\n      <strong>\n       Indices\n      </strong>\n     </li>\n     <li>\n      <a href=\"/people/?ref=ft\">\n       People\n      </a>\n     </li>\n     <li>\n      <a href=\"/genres/?ref=ft\">\n       Genres\n      </a>\n     </li>\n     <li>\n      <a href=\"/franchises/?ref=ft\">\n       Franchises\n      </a>\n     </li>\n     <li>\n      <a href=\"/showdowns/?ref=ft\">\n       Showdowns\n      </a>\n     </li>\n    </ul>\n    <ul class=\"footer_link_list\">\n     <li>\n      <strong>\n       Other\n      </strong>\n     </li>\n     <li>\n      <a href=\"/about/?ref=ft\">\n       About This Site\n      </a>\n     </li>\n     <li>\n      <a href=\"/about/advertise.htm?ref=ft\">\n       Advertising\n      </a>\n     </li>\n    </ul>\n   </div>\n   <div id=\"copyright\">\n    <a href=\"/?ref=ft\">\n     <img alt=\"Box Office Mojo\" height=\"56\" src=\"/img/misc/bom_logo1.png\" width=\"245\"/>\n    </a>\n    <br/>\n    <p>\n     An\n     <a href=\"http://imdb.com/\">\n      <img alt=\"IMDb\" height=\"16\" src=\"/img/misc/IMDbSm.png\" valign=\"middle\" width=\"34\"/>\n     </a>\n     company\n     <br/>\n     <br/>\n    </p>\n    <p>\n     ©\n     <a href=\"http://imdb.com/\">\n      IMDb.com\n     </a>\n     , Inc. or its affiliates. All rights reserved. Box Office Mojo and IMDb are trademarks or registered trademarks of IMDb.com, Inc. or its affiliates.\n     <a href=\"/about/termsofuse.htm\">\n      Terms of Use\n     </a>\n     and\n     <a href=\"/about/privacy.htm\">\n      Privacy Policy\n     </a>\n     under which this service is provided to you.\n    </p>\n   </div>\n  </div>\n  <div style=\"clear:both;\">\n   <div>\n    <script type=\"text/javascript\">\n     googletag.cmd.push(function() {\n        googletag.defineSlot(\"/4215/imdb2.bom.movie\", [[728, 90]], \"ad-slot-3\").addService(googletag.pubads().setTargeting(\"p\", \"b\"));\n        googletag.pubads().enableSingleRequest();\n        googletag.enableServices();\n    });\n    googletag.cmd.push(function() { googletag.display(\"ad-slot-3\"); });\n    </script>\n   </div>\n  </div>\n </div>\n</div>\n<!-- Page generated in 0.08 seconds | . -->\n<script>\n var _comscore = _comscore || [];\n  _comscore.push({ c1: \"2\", c2: \"6034961\" });\n  (function() {\n    var s = document.createElement(\"script\"), el = document.getElementsByTagName(\"script\")[0]; s.async = true;\n    s.src = (document.location.protocol == \"https:\" ? \"https://sb\" : \"http://b\") + \".scorecardresearch.com/beacon.js\";\n  el.parentNode.insertBefore(s, el);\n  })();\n</script>\n<noscript>\n <img src=\"http://b.scorecardresearch.com/p?c1=2&amp;c2=6034961&amp;cv=2.0&amp;cj=1\">\n </img>\n</noscript>\n\n"
     ]
    }
   ],
   "source": [
    "#change to requests!!\n",
    "raw_html2 = requests.get(get_url).content\n",
    "soup_doc2 = BeautifulSoup(raw_html2, \"html.parser\")\n",
    "print(soup_doc2.prettify())"
   ]
  },
  {
   "cell_type": "markdown",
   "metadata": {},
   "source": [
    "**Reading Structurally**\n",
    "\n",
    "When you are reading HTML source for the purposes of scraping, you are looking for the structure of the DOM tree and for unique identifiers within the parent/child nodes that will let you zone in on specific information.\n",
    "\n",
    "I want to pull out all of the box office information about Avengers: Age of Ultron. There is a whole lot on that page, and I just want that one table. After careful reading of the source, I noticed that the table I am looking for has a unique background color, so I search for a table with those attributes."
   ]
  },
  {
   "cell_type": "code",
   "execution_count": 42,
   "metadata": {},
   "outputs": [
    {
     "name": "stdout",
     "output_type": "stream",
     "text": [
      "<table bgcolor=\"#dcdcdc\" border=\"0\" cellpadding=\"4\" cellspacing=\"1\" width=\"95%\"><tr bgcolor=\"#ffffff\"><td align=\"center\" colspan=\"2\"><font size=\"4\">Domestic Total Gross: <b>$623,357,910</b></font></td></tr><tr bgcolor=\"#ffffff\"><td valign=\"top\">Distributor: <b><a href=\"/studio/chart/?studio=buenavista.htm\">Buena Vista</a></b></td><td valign=\"top\">Release Date: <b><nobr><a href=\"/schedule/?view=bydate&amp;release=theatrical&amp;date=2012-05-04&amp;p=.htm\">May 4, 2012</a></nobr></b></td></tr><tr bgcolor=\"#ffffff\"><td valign=\"top\">Genre: <b>Action / Adventure</b></td><td valign=\"top\">Runtime: <b>2 hrs. 22 min.</b></td></tr><tr bgcolor=\"#ffffff\"><td valign=\"top\">MPAA Rating: <b>PG-13</b></td><td valign=\"top\">Production Budget: <b>$220 million</b></td></tr></table>\n"
     ]
    }
   ],
   "source": [
    "my_table = soup_doc2.find(\"table\", attrs={\"bgcolor\": \"#dcdcdc\"})\n",
    "print(my_table)"
   ]
  },
  {
   "cell_type": "code",
   "execution_count": 43,
   "metadata": {},
   "outputs": [
    {
     "data": {
      "text/plain": [
       "[<td align=\"center\" colspan=\"2\"><font size=\"4\">Domestic Total Gross: <b>$623,357,910</b></font></td>,\n <td valign=\"top\">Distributor: <b><a href=\"/studio/chart/?studio=buenavista.htm\">Buena Vista</a></b></td>,\n <td valign=\"top\">Release Date: <b><nobr><a href=\"/schedule/?view=bydate&amp;release=theatrical&amp;date=2012-05-04&amp;p=.htm\">May 4, 2012</a></nobr></b></td>,\n <td valign=\"top\">Genre: <b>Action / Adventure</b></td>,\n <td valign=\"top\">Runtime: <b>2 hrs. 22 min.</b></td>,\n <td valign=\"top\">MPAA Rating: <b>PG-13</b></td>,\n <td valign=\"top\">Production Budget: <b>$220 million</b></td>]"
      ]
     },
     "execution_count": 43,
     "metadata": {},
     "output_type": "execute_result"
    }
   ],
   "source": [
    "each_entry = my_table.find_all('td')\n",
    "each_entry"
   ]
  },
  {
   "cell_type": "code",
   "execution_count": 44,
   "metadata": {},
   "outputs": [
    {
     "name": "stdout",
     "output_type": "stream",
     "text": [
      "<td align=\"center\" colspan=\"2\"><font size=\"4\">Domestic Total Gross: <b>$623,357,910</b></font></td>\n"
     ]
    }
   ],
   "source": [
    "print(each_entry[0])"
   ]
  },
  {
   "cell_type": "code",
   "execution_count": 45,
   "metadata": {},
   "outputs": [
    {
     "name": "stdout",
     "output_type": "stream",
     "text": [
      "$623,357,910\nDomestic Total Gross: \nBuena Vista\nDistributor: \nMay 4, 2012\nRelease Date: \nAction / Adventure\nGenre: \n2 hrs. 22 min.\nRuntime: \nPG-13\nMPAA Rating: \n$220 million\nProduction Budget: \n"
     ]
    }
   ],
   "source": [
    "for entry in each_entry:\n",
    "    the_data = entry.find('b')\n",
    "    the_category = the_data.previous_sibling\n",
    "    print(the_data.string)\n",
    "    print(the_category)"
   ]
  },
  {
   "cell_type": "code",
   "execution_count": 46,
   "metadata": {},
   "outputs": [
    {
     "data": {
      "text/plain": [
       "{'Distributor': 'Buena Vista',\n 'DomesticTotalGross': '$623,357,910',\n 'Genre': 'Action / Adventure',\n 'MPAARating': 'PG-13',\n 'ProductionBudget': '$220 million',\n 'ReleaseDate': 'May 4, 2012',\n 'Runtime': '2 hrs. 22 min.'}"
      ]
     },
     "execution_count": 46,
     "metadata": {},
     "output_type": "execute_result"
    }
   ],
   "source": [
    "avengers_dict = {}\n",
    "for entry in each_entry:\n",
    "    the_data = entry.find('b')\n",
    "    the_category = the_data.previous_sibling\n",
    "    data_string = the_data.string\n",
    "    the_category = the_category[:-2].replace(' ','')\n",
    "    avengers_dict[the_category] = data_string\n",
    "avengers_dict"
   ]
  },
  {
   "cell_type": "code",
   "execution_count": 47,
   "metadata": {},
   "outputs": [
    {
     "data": {
      "text/plain": [
       "'Action / Adventure'"
      ]
     },
     "execution_count": 47,
     "metadata": {},
     "output_type": "execute_result"
    }
   ],
   "source": [
    "avengers_dict['Genre']"
   ]
  },
  {
   "cell_type": "code",
   "execution_count": null,
   "metadata": {
    "collapsed": true
   },
   "outputs": [],
   "source": []
  }
 ],
 "metadata": {
  "kernelspec": {
   "display_name": "Python 3",
   "language": "python",
   "name": "python3"
  },
  "language_info": {
   "codemirror_mode": {
    "name": "ipython",
    "version": 3
   },
   "file_extension": ".py",
   "mimetype": "text/x-python",
   "name": "python",
   "nbconvert_exporter": "python",
   "pygments_lexer": "ipython3",
   "version": "3.6.1"
  }
 },
 "nbformat": 4,
 "nbformat_minor": 2
}
