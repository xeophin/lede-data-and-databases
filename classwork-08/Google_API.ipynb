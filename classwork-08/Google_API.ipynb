{
 "cells": [
  {
   "cell_type": "code",
   "execution_count": 1,
   "metadata": {
    "collapsed": true
   },
   "outputs": [],
   "source": [
    "import requests\n"
   ]
  },
  {
   "cell_type": "markdown",
   "metadata": {},
   "source": [
    "GOOGLES GEOCODING API:\n",
    "https://developers.google.com/maps/documentation/geocoding"
   ]
  },
  {
   "cell_type": "code",
   "execution_count": 2,
   "metadata": {
    "collapsed": true
   },
   "outputs": [],
   "source": [
    "import os\n",
    "api_key = os.environ['GMAP_API']\n",
    "#https://www.youtube.com/watch?v=5iWhQWVXosU"
   ]
  },
  {
   "cell_type": "code",
   "execution_count": 4,
   "metadata": {
    "collapsed": true
   },
   "outputs": [],
   "source": [
    "url = 'https://maps.googleapis.com/maps/api/geocode/json'\n",
    "keys = {'address': '2950 Broadway, New York, NY 10027', 'key': api_key}\n",
    "r = requests.get(url,params=keys)"
   ]
  },
  {
   "cell_type": "code",
   "execution_count": 5,
   "metadata": {
    "collapsed": true
   },
   "outputs": [],
   "source": [
    "result_dic = r.json()"
   ]
  },
  {
   "cell_type": "code",
   "execution_count": 6,
   "metadata": {},
   "outputs": [
    {
     "data": {
      "text/plain": [
       "{'results': [{'address_components': [{'long_name': '2950',\n",
       "     'short_name': '2950',\n",
       "     'types': ['street_number']},\n",
       "    {'long_name': 'Broadway', 'short_name': 'Broadway', 'types': ['route']},\n",
       "    {'long_name': 'Manhattan',\n",
       "     'short_name': 'Manhattan',\n",
       "     'types': ['political', 'sublocality', 'sublocality_level_1']},\n",
       "    {'long_name': 'New York',\n",
       "     'short_name': 'New York',\n",
       "     'types': ['locality', 'political']},\n",
       "    {'long_name': 'New York County',\n",
       "     'short_name': 'New York County',\n",
       "     'types': ['administrative_area_level_2', 'political']},\n",
       "    {'long_name': 'New York',\n",
       "     'short_name': 'NY',\n",
       "     'types': ['administrative_area_level_1', 'political']},\n",
       "    {'long_name': 'United States',\n",
       "     'short_name': 'US',\n",
       "     'types': ['country', 'political']},\n",
       "    {'long_name': '10027', 'short_name': '10027', 'types': ['postal_code']},\n",
       "    {'long_name': '7060',\n",
       "     'short_name': '7060',\n",
       "     'types': ['postal_code_suffix']}],\n",
       "   'formatted_address': '2950 Broadway, New York, NY 10027, USA',\n",
       "   'geometry': {'location': {'lat': 40.8076308, 'lng': -73.9636318},\n",
       "    'location_type': 'ROOFTOP',\n",
       "    'viewport': {'northeast': {'lat': 40.8089797802915,\n",
       "      'lng': -73.9622828197085},\n",
       "     'southwest': {'lat': 40.8062818197085, 'lng': -73.96498078029151}}},\n",
       "   'place_id': 'ChIJyQ3Tlj72wokREkZCjslS1Rw',\n",
       "   'types': ['street_address']}],\n",
       " 'status': 'OK'}"
      ]
     },
     "execution_count": 6,
     "metadata": {},
     "output_type": "execute_result"
    }
   ],
   "source": [
    "result_dic"
   ]
  },
  {
   "cell_type": "code",
   "execution_count": 7,
   "metadata": {},
   "outputs": [
    {
     "data": {
      "text/plain": [
       "[{'address_components': [{'long_name': '2950',\n",
       "    'short_name': '2950',\n",
       "    'types': ['street_number']},\n",
       "   {'long_name': 'Broadway', 'short_name': 'Broadway', 'types': ['route']},\n",
       "   {'long_name': 'Manhattan',\n",
       "    'short_name': 'Manhattan',\n",
       "    'types': ['political', 'sublocality', 'sublocality_level_1']},\n",
       "   {'long_name': 'New York',\n",
       "    'short_name': 'New York',\n",
       "    'types': ['locality', 'political']},\n",
       "   {'long_name': 'New York County',\n",
       "    'short_name': 'New York County',\n",
       "    'types': ['administrative_area_level_2', 'political']},\n",
       "   {'long_name': 'New York',\n",
       "    'short_name': 'NY',\n",
       "    'types': ['administrative_area_level_1', 'political']},\n",
       "   {'long_name': 'United States',\n",
       "    'short_name': 'US',\n",
       "    'types': ['country', 'political']},\n",
       "   {'long_name': '10027', 'short_name': '10027', 'types': ['postal_code']},\n",
       "   {'long_name': '7060',\n",
       "    'short_name': '7060',\n",
       "    'types': ['postal_code_suffix']}],\n",
       "  'formatted_address': '2950 Broadway, New York, NY 10027, USA',\n",
       "  'geometry': {'location': {'lat': 40.8076308, 'lng': -73.9636318},\n",
       "   'location_type': 'ROOFTOP',\n",
       "   'viewport': {'northeast': {'lat': 40.8089797802915,\n",
       "     'lng': -73.9622828197085},\n",
       "    'southwest': {'lat': 40.8062818197085, 'lng': -73.96498078029151}}},\n",
       "  'place_id': 'ChIJyQ3Tlj72wokREkZCjslS1Rw',\n",
       "  'types': ['street_address']}]"
      ]
     },
     "execution_count": 7,
     "metadata": {},
     "output_type": "execute_result"
    }
   ],
   "source": [
    "result_dic['results']"
   ]
  },
  {
   "cell_type": "code",
   "execution_count": 8,
   "metadata": {},
   "outputs": [
    {
     "data": {
      "text/plain": [
       "{'address_components': [{'long_name': '2950',\n",
       "   'short_name': '2950',\n",
       "   'types': ['street_number']},\n",
       "  {'long_name': 'Broadway', 'short_name': 'Broadway', 'types': ['route']},\n",
       "  {'long_name': 'Manhattan',\n",
       "   'short_name': 'Manhattan',\n",
       "   'types': ['political', 'sublocality', 'sublocality_level_1']},\n",
       "  {'long_name': 'New York',\n",
       "   'short_name': 'New York',\n",
       "   'types': ['locality', 'political']},\n",
       "  {'long_name': 'New York County',\n",
       "   'short_name': 'New York County',\n",
       "   'types': ['administrative_area_level_2', 'political']},\n",
       "  {'long_name': 'New York',\n",
       "   'short_name': 'NY',\n",
       "   'types': ['administrative_area_level_1', 'political']},\n",
       "  {'long_name': 'United States',\n",
       "   'short_name': 'US',\n",
       "   'types': ['country', 'political']},\n",
       "  {'long_name': '10027', 'short_name': '10027', 'types': ['postal_code']},\n",
       "  {'long_name': '7060',\n",
       "   'short_name': '7060',\n",
       "   'types': ['postal_code_suffix']}],\n",
       " 'formatted_address': '2950 Broadway, New York, NY 10027, USA',\n",
       " 'geometry': {'location': {'lat': 40.8076308, 'lng': -73.9636318},\n",
       "  'location_type': 'ROOFTOP',\n",
       "  'viewport': {'northeast': {'lat': 40.8089797802915,\n",
       "    'lng': -73.9622828197085},\n",
       "   'southwest': {'lat': 40.8062818197085, 'lng': -73.96498078029151}}},\n",
       " 'place_id': 'ChIJyQ3Tlj72wokREkZCjslS1Rw',\n",
       " 'types': ['street_address']}"
      ]
     },
     "execution_count": 8,
     "metadata": {},
     "output_type": "execute_result"
    }
   ],
   "source": [
    "result_dic['results'][0]"
   ]
  },
  {
   "cell_type": "code",
   "execution_count": 9,
   "metadata": {},
   "outputs": [
    {
     "data": {
      "text/plain": [
       "{'location': {'lat': 40.8076308, 'lng': -73.9636318},\n",
       " 'location_type': 'ROOFTOP',\n",
       " 'viewport': {'northeast': {'lat': 40.8089797802915, 'lng': -73.9622828197085},\n",
       "  'southwest': {'lat': 40.8062818197085, 'lng': -73.96498078029151}}}"
      ]
     },
     "execution_count": 9,
     "metadata": {},
     "output_type": "execute_result"
    }
   ],
   "source": [
    "result_dic['results'][0]['geometry']"
   ]
  },
  {
   "cell_type": "code",
   "execution_count": null,
   "metadata": {
    "collapsed": true
   },
   "outputs": [],
   "source": []
  }
 ],
 "metadata": {
  "kernelspec": {
   "display_name": "Python 3",
   "language": "python",
   "name": "python3"
  },
  "language_info": {
   "codemirror_mode": {
    "name": "ipython",
    "version": 3
   },
   "file_extension": ".py",
   "mimetype": "text/x-python",
   "name": "python",
   "nbconvert_exporter": "python",
   "pygments_lexer": "ipython3",
   "version": "3.6.5"
  }
 },
 "nbformat": 4,
 "nbformat_minor": 2
}
