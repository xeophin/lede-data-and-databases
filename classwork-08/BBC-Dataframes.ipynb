{
 "cells": [
  {
   "cell_type": "markdown",
   "metadata": {},
   "source": [
    "### The curse of dimensionality: BBC\n",
    "Here is pathway toward aggregating, grouping and narrowing down your dataframe. (There is no right way--there are just ways that work better than others.)"
   ]
  },
  {
   "cell_type": "code",
   "execution_count": 35,
   "metadata": {
    "collapsed": true
   },
   "outputs": [],
   "source": [
    "sample_BBC = [\n",
    "[' Mulholland Drive ',  'David Lynch',  '2001',  '1',  'Simon Abrams',  'Freelance film critic',  'US'], \n",
    "[' In the Mood for Love ',  'Wong Kar-wai',  '2000',  '2',  'Simon Abrams',  'Freelance film critic',  'US'], \n",
    "[' The Tree of Life ',  'Terrence Malick',  '2011',  '3',  'Simon Abrams',  'Freelance film critic',  'US'], \n",
    "[' Yi Yi: A One and a Two ',  'Edward Yang',  '2000',  '4',  'Simon Abrams',  'Freelance film critic',  'US'], \n",
    "[' Goodbye to Language ',  'Jean-Luc Godard',  '2014',  '5',  'Simon Abrams',  'Freelance film critic',  'US'], \n",
    "[' The White Meadows ',  'Mohammad Rasoulof',  '2009',  '6',  'Simon Abrams',  'Freelance film critic',  'US'], \n",
    "[' Night Across the Street ',  'Raoul Ruiz',  '2012',  '7',  'Simon Abrams',  'Freelance film critic',  'US'], \n",
    "[' Certified Copy ',  'Abbas Kiarostami',  '2010',  '8',  'Simon Abrams',  'Freelance film critic',  'US'], \n",
    "[' Sparrow ',  'Johnnie To',  '2008',  '9',  'Simon Abrams',  'Freelance film critic',  'US'], \n",
    "[' Fados ',  'Carlos Saura',  '2007',  '10',  'Simon Abrams',  'Freelance film critic',  'US'], \n",
    "[' In the Mood for Love ',  'Wong Kar-wai',  '2000',  '1',  'Sam Adams',  'Freelance film critic',  'US'], \n",
    "[' Eternal Sunshine of the Spotless Mind ',  'Michel Gondry',  '2004',  '2',  'Sam Adams',  'Freelance film critic',  'US'], \n",
    "[' Syndromes and a Century ',  'Apichatpong Weerasethakul',  '2006',  '3',  'Sam Adams',  'Freelance film critic',  'US'], \n",
    "[' Spirited Away ',  'Hayao Miyazaki',  '2001',  '4',  'Sam Adams',  'Freelance film critic',  'US'], \n",
    "[' The Act of Killing ',  'Joshua Oppenheimer',  '2012',  '5',  'Sam Adams',  'Freelance film critic',  'US'], \n",
    "[' The Grand Budapest Hotel ',  'Wes Anderson',  '2014',  '6',  'Sam Adams',  'Freelance film critic',  'US'], \n",
    "[' The New World ',  'Terrence Malick',  '2004',  '7',  'Sam Adams',  'Freelance film critic',  'US'], \n",
    "[' Certified Copy ',  'Abbas Kiarostami',  '2010',  '8',  'Sam Adams',  'Freelance film critic',  'US'], \n",
    "[' The World ',  'Jia Zhangke',  '2004',  '9',  'Sam Adams',  'Freelance film critic',  'US'], \n",
    "[' Elephant ',  'Gus Van Sant',  '2003',  '10',  'Sam Adams',  'Freelance film critic',  'US'], \n",
    "[' Zero Dark Thirty ',  'Kathryn Bigelow',  '2012',  '1',  'Thelma Adams',  'Freelance film critic',  'US'], \n",
    "[' A History of Violence ',  'David Cronenberg',  '2005',  '2',  'Thelma Adams',  'Freelance film critic',  'US'], \n",
    "[' The Grand Budapest Hotel ',  'Wes Anderson',  '2014',  '3',  'Thelma Adams',  'Freelance film critic',  'US'], \n",
    "[' Stories We Tell ',  'Sarah Polley',  '2012',  '4',  'Thelma Adams',  'Freelance film critic',  'US'], \n",
    "[' Casino Royale ',  'Martin Campbell',  '2006',  '5',  'Thelma Adams',  'Freelance film critic',  'US'], \n",
    "[' Eternal Sunshine of the Spotless Mind ',  'Michel Gondry',  '2004',  '6',  'Thelma Adams',  'Freelance film critic',  'US'], \n",
    "[' Tabu ',  'Miguel Gomes',  '2012',  '7',  'Thelma Adams',  'Freelance film critic',  'US'], \n",
    "[' Snow White ',  'Pablo Berger',  '2012',  '8',  'Thelma Adams',  'Freelance film critic',  'US'], \n",
    "[' Frozen River ',  'Courtney Hunt',  '2008',  '9',  'Thelma Adams',  'Freelance film critic',  'US'], \n",
    "[' Gosford Park ',  'Robert Altman',  '2001',  '10',  'Thelma Adams',  'Freelance film critic',  'US'], \n",
    "[' In the Mood for Love ',  'Wong Kar-wai',  '2000',  '1',  'Arturo Aguilar',  'Rolling Stone Mexico',  'Mexico'], \n",
    "[' Mulholland Drive ',  'David Lynch',  '2001',  '2',  'Arturo Aguilar',  'Rolling Stone Mexico',  'Mexico'], \n",
    "[' Inception ',  'Christopher Nolan',  '2010',  '3',  'Arturo Aguilar',  'Rolling Stone Mexico',  'Mexico'], \n",
    "[\" Pan's Labyrinth \",  'Guillermo Del Toro',  '2006',  '4',  'Arturo Aguilar',  'Rolling Stone Mexico',  'Mexico'], \n",
    "[' Caché ',  'Michael Haneke',  '2005',  '5',  'Arturo Aguilar',  'Rolling Stone Mexico',  'Mexico'], \n",
    "[' Grizzly Man ',  'Werner Herzog',  '2005',  '6',  'Arturo Aguilar',  'Rolling Stone Mexico',  'Mexico'], \n",
    "[' 4 Months, 3 Weeks & 2 Days ',  'Cristian Mungiu',  '2007',  '7',  'Arturo Aguilar',  'Rolling Stone Mexico',  'Mexico'], \n",
    "[' Holy Motors ',  'Leos Carax',  '2012',  '8',  'Arturo Aguilar',  'Rolling Stone Mexico',  'Mexico'], \n",
    "[' The Last of the Unjust ',  'Claude Lanzmann',  '2013',  '9',  'Arturo Aguilar',  'Rolling Stone Mexico',  'Mexico'], \n",
    "[' There Will Be Blood ',  'Paul Thomas Anderson',  '2007',  '10',  'Arturo Aguilar',  'Rolling Stone Mexico',  'Mexico'], \n",
    "[' The Piano Teacher ',  'Michael Haneke',  '2001',  '1',  'Matthew Anderson',  'BBC Culture',  'UK'], \n",
    "[' Margaret ',  'Kenneth Lonergan',  '2011',  '2',  'Matthew Anderson',  'BBC Culture',  'UK'], \n",
    "[' American Psycho ',  'Mary Harron',  '2000',  '3',  'Matthew Anderson',  'BBC Culture',  'UK'], \n",
    "[' 4 Months, 3 Weeks & 2 Days ',  'Cristian Mungiu',  '2007',  '4',  'Matthew Anderson',  'BBC Culture',  'UK'], \n",
    "[' Caché ',  'Michael Haneke',  '2005',  '5',  'Matthew Anderson',  'BBC Culture',  'UK'], \n",
    "[' Mulholland Drive ',  'David Lynch',  '2001',  '6',  'Matthew Anderson',  'BBC Culture',  'UK'], \n",
    "[' Lourdes ',  'Jessica Hausner',  '2009',  '7',  'Matthew Anderson',  'BBC Culture',  'UK'], \n",
    "[' Red Road ',  'Andrea Arnold',  '2006',  '8',  'Matthew Anderson',  'BBC Culture',  'UK'], \n",
    "[' Boyhood ',  'Richard Linklater',  '2014',  '9',  'Matthew Anderson',  'BBC Culture',  'UK'], \n",
    "[' Tony Manero ',  'Pablo Larraín',  '2008',  '10',  'Matthew Anderson',  'BBC Culture',  'UK'], \n",
    "[' No Country For Old Men ',  'Joel and Ethan Coen',  '2007',  '1',  'Tim Appelo',  'The Wrap',  'US'], \n",
    "[' Spirited Away ',  'Hayao Miyazaki',  '2001',  '2',  'Tim Appelo',  'The Wrap',  'US'], \n",
    "[' A Separation ',  'Asghar Farhadi',  '2011',  '3',  'Tim Appelo',  'The Wrap',  'US'], \n",
    "[\" Pan's Labyrinth \",  'Guillermo Del Toro',  '2006',  '4',  'Tim Appelo',  'The Wrap',  'US'], \n",
    "[' Finding Nemo ',  'Andrew Stanton and Lee Unkrich',  '2003',  '5',  'Tim Appelo',  'The Wrap',  'US'], \n",
    "[' Hero ', 'Zhang Yimou', '2002', '6', 'Tim Appelo', 'The Wrap', 'US'], \n",
    "[' The Wolf of Wall Street ',  'Martin Scorsese',  '2013',  '7',  'Tim Appelo',  'The Wrap',  'US'], \n",
    "[' Mother ', 'Bong Joon-ho', '2009', '8', 'Tim Appelo', 'The Wrap', 'US'], \n",
    "[' The Bourne Ultimatum ',  'Paul Greengrass',  '2007',  '9',  'Tim Appelo',  'The Wrap',  'US'], \n",
    "[' Traffic ',  'Steven Soderbergh',  '2000',  '10',  'Tim Appelo',  'The Wrap',  'US'], \n",
    "[' These Encounters of Theirs ',  'Danièle Huillet and Jean-Marie Straub',  '2006',  '1',  'Adriano Aprà',  'Film historian',  'Italy'], \n",
    "[' Vincere ',  'Marco Bellocchio',  '2009',  '2',  'Adriano Aprà',  'Film historian',  'Italy'], \n",
    "[' Le quattro volte ',  'Michelangelo Frammartino',  '2010',  '3',  'Adriano Aprà',  'Film historian',  'Italy'], \n",
    "[' The Profession of Arms ',  'Ermanno Olmi',  '2001',  '4',  'Adriano Aprà',  'Film historian',  'Italy'], \n",
    "[' Gostanza da Libbiano ',  'Paolo Benvenuti',  '2000',  '5',  'Adriano Aprà',  'Film historian',  'Italy'], \n",
    "[' Storia di una donna amata e di un assassino gentile ',  'Luigi M. Faccini',  '2009',  '6',  'Adriano Aprà',  'Film historian',  'Italy'], \n",
    "[' At the First Breath of Wind ',  'Franco Piavoli',  '2003',  '7',  'Adriano Aprà',  'Film historian',  'Italy'], \n",
    "[' Sangue ',  'Pippo Delbono',  '2013',  '8',  'Adriano Aprà',  'Film historian',  'Italy'], \n",
    "[' Terra ',  'Marco De Angelis and Antonio Di Trapani',  '2015',  '9',  'Adriano Aprà',  'Film historian',  'Italy'], \n",
    "[' Oh! Man ',  'Yervant Gianikian and Angela Ricci Lucchi',  '2004',  '10',  'Adriano Aprà',  'Film historian',  'Italy']\n",
    "]"
   ]
  },
  {
   "cell_type": "markdown",
   "metadata": {
    "collapsed": true
   },
   "source": [
    "Bring that into pandas"
   ]
  },
  {
   "cell_type": "code",
   "execution_count": 36,
   "metadata": {},
   "outputs": [
    {
     "data": {
      "text/plain": [
       "movie          Pan's Labyrinth \n",
       "director     Guillermo Del Toro\n",
       "m_year                     2006\n",
       "crit_rank                     4\n",
       "critic               Tim Appelo\n",
       "crit_org               The Wrap\n",
       "crit_cn                      US\n",
       "Name: 53, dtype: object"
      ]
     },
     "execution_count": 36,
     "metadata": {},
     "output_type": "execute_result"
    }
   ],
   "source": [
    "import numpy as np\n",
    "import pandas as pd\n",
    "col_names = ['movie', 'director', 'm_year', 'crit_rank','critic','crit_org','crit_cn']\n",
    "df = pd.DataFrame.from_records(sample_BBC, columns=col_names)\n",
    "df.loc[53]"
   ]
  },
  {
   "cell_type": "markdown",
   "metadata": {},
   "source": [
    "Right now there's only one Field with the country--the critics country. Let's group by that."
   ]
  },
  {
   "cell_type": "code",
   "execution_count": 37,
   "metadata": {},
   "outputs": [
    {
     "data": {
      "text/plain": [
       "crit_cn\n",
       "Italy     1\n",
       "Mexico    1\n",
       "UK        1\n",
       "US        4\n",
       "Name: critic, dtype: int64"
      ]
     },
     "execution_count": 37,
     "metadata": {},
     "output_type": "execute_result"
    }
   ],
   "source": [
    "df.groupby('crit_cn')['critic'].nunique()"
   ]
  },
  {
   "cell_type": "code",
   "execution_count": 38,
   "metadata": {
    "collapsed": true
   },
   "outputs": [],
   "source": [
    "#Narrowing down my data into a smaller frame"
   ]
  },
  {
   "cell_type": "code",
   "execution_count": 39,
   "metadata": {},
   "outputs": [
    {
     "data": {
      "text/html": [
       "<div>\n",
       "<style>\n",
       "    .dataframe thead tr:only-child th {\n",
       "        text-align: right;\n",
       "    }\n",
       "\n",
       "    .dataframe thead th {\n",
       "        text-align: left;\n",
       "    }\n",
       "\n",
       "    .dataframe tbody tr th {\n",
       "        vertical-align: top;\n",
       "    }\n",
       "</style>\n",
       "<table border=\"1\" class=\"dataframe\">\n",
       "  <thead>\n",
       "    <tr style=\"text-align: right;\">\n",
       "      <th></th>\n",
       "      <th>crit_cn</th>\n",
       "      <th>movie</th>\n",
       "      <th>count</th>\n",
       "    </tr>\n",
       "  </thead>\n",
       "  <tbody>\n",
       "    <tr>\n",
       "      <th>0</th>\n",
       "      <td>Italy</td>\n",
       "      <td>At the First Breath of Wind</td>\n",
       "      <td>1</td>\n",
       "    </tr>\n",
       "    <tr>\n",
       "      <th>1</th>\n",
       "      <td>Italy</td>\n",
       "      <td>Gostanza da Libbiano</td>\n",
       "      <td>1</td>\n",
       "    </tr>\n",
       "    <tr>\n",
       "      <th>2</th>\n",
       "      <td>Italy</td>\n",
       "      <td>Le quattro volte</td>\n",
       "      <td>1</td>\n",
       "    </tr>\n",
       "    <tr>\n",
       "      <th>3</th>\n",
       "      <td>Italy</td>\n",
       "      <td>Oh! Man</td>\n",
       "      <td>1</td>\n",
       "    </tr>\n",
       "    <tr>\n",
       "      <th>4</th>\n",
       "      <td>Italy</td>\n",
       "      <td>Sangue</td>\n",
       "      <td>1</td>\n",
       "    </tr>\n",
       "  </tbody>\n",
       "</table>\n",
       "</div>"
      ],
      "text/plain": [
       "  crit_cn                          movie  count\n",
       "0   Italy   At the First Breath of Wind       1\n",
       "1   Italy          Gostanza da Libbiano       1\n",
       "2   Italy              Le quattro volte       1\n",
       "3   Italy                       Oh! Man       1\n",
       "4   Italy                        Sangue       1"
      ]
     },
     "execution_count": 39,
     "metadata": {},
     "output_type": "execute_result"
    }
   ],
   "source": [
    "df1 = df.groupby('crit_cn')['movie'].value_counts().reset_index(name='count')\n",
    "df1.head()"
   ]
  },
  {
   "cell_type": "markdown",
   "metadata": {},
   "source": [
    "The cell above has the output I want,  but I need it to look nice and be combined in a single column.  This is how we build the **\"article:\"** field of our geojson doc. You need to combine columns of data into readable text."
   ]
  },
  {
   "cell_type": "code",
   "execution_count": 40,
   "metadata": {},
   "outputs": [
    {
     "data": {
      "text/html": [
       "<div>\n",
       "<style>\n",
       "    .dataframe thead tr:only-child th {\n",
       "        text-align: right;\n",
       "    }\n",
       "\n",
       "    .dataframe thead th {\n",
       "        text-align: left;\n",
       "    }\n",
       "\n",
       "    .dataframe tbody tr th {\n",
       "        vertical-align: top;\n",
       "    }\n",
       "</style>\n",
       "<table border=\"1\" class=\"dataframe\">\n",
       "  <thead>\n",
       "    <tr style=\"text-align: right;\">\n",
       "      <th></th>\n",
       "      <th>crit_cn</th>\n",
       "      <th>movie</th>\n",
       "      <th>count</th>\n",
       "      <th>string</th>\n",
       "    </tr>\n",
       "  </thead>\n",
       "  <tbody>\n",
       "    <tr>\n",
       "      <th>0</th>\n",
       "      <td>Italy</td>\n",
       "      <td>At the First Breath of Wind</td>\n",
       "      <td>1</td>\n",
       "      <td>At the First Breath of Wind : 1 vote</td>\n",
       "    </tr>\n",
       "    <tr>\n",
       "      <th>1</th>\n",
       "      <td>Italy</td>\n",
       "      <td>Gostanza da Libbiano</td>\n",
       "      <td>1</td>\n",
       "      <td>Gostanza da Libbiano : 1 vote</td>\n",
       "    </tr>\n",
       "    <tr>\n",
       "      <th>2</th>\n",
       "      <td>Italy</td>\n",
       "      <td>Le quattro volte</td>\n",
       "      <td>1</td>\n",
       "      <td>Le quattro volte : 1 vote</td>\n",
       "    </tr>\n",
       "    <tr>\n",
       "      <th>3</th>\n",
       "      <td>Italy</td>\n",
       "      <td>Oh! Man</td>\n",
       "      <td>1</td>\n",
       "      <td>Oh! Man : 1 vote</td>\n",
       "    </tr>\n",
       "    <tr>\n",
       "      <th>4</th>\n",
       "      <td>Italy</td>\n",
       "      <td>Sangue</td>\n",
       "      <td>1</td>\n",
       "      <td>Sangue : 1 vote</td>\n",
       "    </tr>\n",
       "  </tbody>\n",
       "</table>\n",
       "</div>"
      ],
      "text/plain": [
       "  crit_cn                          movie  count  \\\n",
       "0   Italy   At the First Breath of Wind       1   \n",
       "1   Italy          Gostanza da Libbiano       1   \n",
       "2   Italy              Le quattro volte       1   \n",
       "3   Italy                       Oh! Man       1   \n",
       "4   Italy                        Sangue       1   \n",
       "\n",
       "                                  string  \n",
       "0   At the First Breath of Wind : 1 vote  \n",
       "1          Gostanza da Libbiano : 1 vote  \n",
       "2              Le quattro volte : 1 vote  \n",
       "3                       Oh! Man : 1 vote  \n",
       "4                        Sangue : 1 vote  "
      ]
     },
     "execution_count": 40,
     "metadata": {},
     "output_type": "execute_result"
    }
   ],
   "source": [
    "#Moving the values from the two right columns into a new column\n",
    "#One that human readers can understand\n",
    "df1[\"string\"] = df1[\"movie\"] + \": \" + df1[\"count\"].map(str) + np.where(df1[\"count\"]>1, ' votes', ' vote')\n",
    "df1.head()"
   ]
  },
  {
   "cell_type": "markdown",
   "metadata": {},
   "source": [
    "This is nice but I need to I have only **one row per country**. I do another group, and combine everything together. And when I do that I throw some HTML into there."
   ]
  },
  {
   "cell_type": "code",
   "execution_count": 41,
   "metadata": {
    "scrolled": true
   },
   "outputs": [
    {
     "data": {
      "text/html": [
       "<div>\n",
       "<style>\n",
       "    .dataframe thead tr:only-child th {\n",
       "        text-align: right;\n",
       "    }\n",
       "\n",
       "    .dataframe thead th {\n",
       "        text-align: left;\n",
       "    }\n",
       "\n",
       "    .dataframe tbody tr th {\n",
       "        vertical-align: top;\n",
       "    }\n",
       "</style>\n",
       "<table border=\"1\" class=\"dataframe\">\n",
       "  <thead>\n",
       "    <tr style=\"text-align: right;\">\n",
       "      <th></th>\n",
       "      <th>crit_cn</th>\n",
       "      <th>properties.article</th>\n",
       "    </tr>\n",
       "  </thead>\n",
       "  <tbody>\n",
       "    <tr>\n",
       "      <th>0</th>\n",
       "      <td>Italy</td>\n",
       "      <td>&lt;p&gt; At the First Breath of Wind : 1 vote&lt;/p&gt;&lt;p...</td>\n",
       "    </tr>\n",
       "    <tr>\n",
       "      <th>1</th>\n",
       "      <td>Mexico</td>\n",
       "      <td>&lt;p&gt; 4 Months, 3 Weeks &amp; 2 Days : 1 vote&lt;/p&gt;&lt;p&gt;...</td>\n",
       "    </tr>\n",
       "    <tr>\n",
       "      <th>2</th>\n",
       "      <td>UK</td>\n",
       "      <td>&lt;p&gt; 4 Months, 3 Weeks &amp; 2 Days : 1 vote&lt;/p&gt;&lt;p&gt;...</td>\n",
       "    </tr>\n",
       "    <tr>\n",
       "      <th>3</th>\n",
       "      <td>US</td>\n",
       "      <td>&lt;p&gt; Certified Copy : 2 votes&lt;/p&gt;&lt;p&gt;  Eternal S...</td>\n",
       "    </tr>\n",
       "  </tbody>\n",
       "</table>\n",
       "</div>"
      ],
      "text/plain": [
       "  crit_cn                                 properties.article\n",
       "0   Italy  <p> At the First Breath of Wind : 1 vote</p><p...\n",
       "1  Mexico  <p> 4 Months, 3 Weeks & 2 Days : 1 vote</p><p>...\n",
       "2      UK  <p> 4 Months, 3 Weeks & 2 Days : 1 vote</p><p>...\n",
       "3      US  <p> Certified Copy : 2 votes</p><p>  Eternal S..."
      ]
     },
     "execution_count": 41,
     "metadata": {},
     "output_type": "execute_result"
    }
   ],
   "source": [
    "output = df1.groupby('crit_cn')['string'].apply(lambda x: \"<p>%s</p>\" % '</p><p> '.join(x)).reset_index(name='properties.article')\n",
    "output\n"
   ]
  },
  {
   "cell_type": "code",
   "execution_count": 42,
   "metadata": {},
   "outputs": [
    {
     "data": {
      "text/plain": [
       "\"<p> Certified Copy : 2 votes</p><p>  Eternal Sunshine of the Spotless Mind : 2 votes</p><p>  In the Mood for Love : 2 votes</p><p>  Spirited Away : 2 votes</p><p>  The Grand Budapest Hotel : 2 votes</p><p>  A History of Violence : 1 vote</p><p>  A Separation : 1 vote</p><p>  Casino Royale : 1 vote</p><p>  Elephant : 1 vote</p><p>  Fados : 1 vote</p><p>  Finding Nemo : 1 vote</p><p>  Frozen River : 1 vote</p><p>  Goodbye to Language : 1 vote</p><p>  Gosford Park : 1 vote</p><p>  Hero : 1 vote</p><p>  Mother : 1 vote</p><p>  Mulholland Drive : 1 vote</p><p>  Night Across the Street : 1 vote</p><p>  No Country For Old Men : 1 vote</p><p>  Pan's Labyrinth : 1 vote</p><p>  Snow White : 1 vote</p><p>  Sparrow : 1 vote</p><p>  Stories We Tell : 1 vote</p><p>  Syndromes and a Century : 1 vote</p><p>  Tabu : 1 vote</p><p>  The Act of Killing : 1 vote</p><p>  The Bourne Ultimatum : 1 vote</p><p>  The New World : 1 vote</p><p>  The Tree of Life : 1 vote</p><p>  The White Meadows : 1 vote</p><p>  The Wolf of Wall Street : 1 vote</p><p>  The World : 1 vote</p><p>  Traffic : 1 vote</p><p>  Yi Yi: A One and a Two : 1 vote</p><p>  Zero Dark Thirty : 1 vote</p>\""
      ]
     },
     "execution_count": 42,
     "metadata": {},
     "output_type": "execute_result"
    }
   ],
   "source": [
    "output.iloc[3]['properties.article']"
   ]
  },
  {
   "cell_type": "markdown",
   "metadata": {},
   "source": [
    "Now we need our **headline**:  I'm going to have it be the number of critics in the country. I make a mini dataframe That counts the number of critics, and I merge it with my output dataframe."
   ]
  },
  {
   "cell_type": "code",
   "execution_count": 43,
   "metadata": {
    "collapsed": true
   },
   "outputs": [],
   "source": [
    "crits = df.groupby('crit_cn')['critic'].nunique().reset_index(name='properties.headline')\n",
    "output = output.merge(crits, how='left', on='crit_cn')"
   ]
  },
  {
   "cell_type": "code",
   "execution_count": 44,
   "metadata": {},
   "outputs": [
    {
     "data": {
      "text/html": [
       "<div>\n",
       "<style>\n",
       "    .dataframe thead tr:only-child th {\n",
       "        text-align: right;\n",
       "    }\n",
       "\n",
       "    .dataframe thead th {\n",
       "        text-align: left;\n",
       "    }\n",
       "\n",
       "    .dataframe tbody tr th {\n",
       "        vertical-align: top;\n",
       "    }\n",
       "</style>\n",
       "<table border=\"1\" class=\"dataframe\">\n",
       "  <thead>\n",
       "    <tr style=\"text-align: right;\">\n",
       "      <th></th>\n",
       "      <th>crit_cn</th>\n",
       "      <th>properties.article</th>\n",
       "      <th>properties.headline</th>\n",
       "    </tr>\n",
       "  </thead>\n",
       "  <tbody>\n",
       "    <tr>\n",
       "      <th>0</th>\n",
       "      <td>Italy</td>\n",
       "      <td>&lt;p&gt; At the First Breath of Wind : 1 vote&lt;/p&gt;&lt;p...</td>\n",
       "      <td>1</td>\n",
       "    </tr>\n",
       "    <tr>\n",
       "      <th>1</th>\n",
       "      <td>Mexico</td>\n",
       "      <td>&lt;p&gt; 4 Months, 3 Weeks &amp; 2 Days : 1 vote&lt;/p&gt;&lt;p&gt;...</td>\n",
       "      <td>1</td>\n",
       "    </tr>\n",
       "    <tr>\n",
       "      <th>2</th>\n",
       "      <td>UK</td>\n",
       "      <td>&lt;p&gt; 4 Months, 3 Weeks &amp; 2 Days : 1 vote&lt;/p&gt;&lt;p&gt;...</td>\n",
       "      <td>1</td>\n",
       "    </tr>\n",
       "    <tr>\n",
       "      <th>3</th>\n",
       "      <td>US</td>\n",
       "      <td>&lt;p&gt; Certified Copy : 2 votes&lt;/p&gt;&lt;p&gt;  Eternal S...</td>\n",
       "      <td>4</td>\n",
       "    </tr>\n",
       "  </tbody>\n",
       "</table>\n",
       "</div>"
      ],
      "text/plain": [
       "  crit_cn                                 properties.article  \\\n",
       "0   Italy  <p> At the First Breath of Wind : 1 vote</p><p...   \n",
       "1  Mexico  <p> 4 Months, 3 Weeks & 2 Days : 1 vote</p><p>...   \n",
       "2      UK  <p> 4 Months, 3 Weeks & 2 Days : 1 vote</p><p>...   \n",
       "3      US  <p> Certified Copy : 2 votes</p><p>  Eternal S...   \n",
       "\n",
       "   properties.headline  \n",
       "0                    1  \n",
       "1                    1  \n",
       "2                    1  \n",
       "3                    4  "
      ]
     },
     "execution_count": 44,
     "metadata": {},
     "output_type": "execute_result"
    }
   ],
   "source": [
    "output\n"
   ]
  },
  {
   "cell_type": "code",
   "execution_count": 45,
   "metadata": {},
   "outputs": [],
   "source": [
    "#Turn that number and into something readable.\n",
    "#Though here I don't pay any attention to the English language\n",
    "output['properties.headline'] = output['properties.headline'].map(str) + \" critic\""
   ]
  },
  {
   "cell_type": "code",
   "execution_count": 46,
   "metadata": {},
   "outputs": [
    {
     "data": {
      "text/html": [
       "<div>\n",
       "<style>\n",
       "    .dataframe thead tr:only-child th {\n",
       "        text-align: right;\n",
       "    }\n",
       "\n",
       "    .dataframe thead th {\n",
       "        text-align: left;\n",
       "    }\n",
       "\n",
       "    .dataframe tbody tr th {\n",
       "        vertical-align: top;\n",
       "    }\n",
       "</style>\n",
       "<table border=\"1\" class=\"dataframe\">\n",
       "  <thead>\n",
       "    <tr style=\"text-align: right;\">\n",
       "      <th></th>\n",
       "      <th>crit_cn</th>\n",
       "      <th>properties.article</th>\n",
       "      <th>properties.headline</th>\n",
       "    </tr>\n",
       "  </thead>\n",
       "  <tbody>\n",
       "    <tr>\n",
       "      <th>0</th>\n",
       "      <td>Italy</td>\n",
       "      <td>&lt;p&gt; At the First Breath of Wind : 1 vote&lt;/p&gt;&lt;p...</td>\n",
       "      <td>1 critic</td>\n",
       "    </tr>\n",
       "    <tr>\n",
       "      <th>1</th>\n",
       "      <td>Mexico</td>\n",
       "      <td>&lt;p&gt; 4 Months, 3 Weeks &amp; 2 Days : 1 vote&lt;/p&gt;&lt;p&gt;...</td>\n",
       "      <td>1 critic</td>\n",
       "    </tr>\n",
       "    <tr>\n",
       "      <th>2</th>\n",
       "      <td>UK</td>\n",
       "      <td>&lt;p&gt; 4 Months, 3 Weeks &amp; 2 Days : 1 vote&lt;/p&gt;&lt;p&gt;...</td>\n",
       "      <td>1 critic</td>\n",
       "    </tr>\n",
       "    <tr>\n",
       "      <th>3</th>\n",
       "      <td>US</td>\n",
       "      <td>&lt;p&gt; Certified Copy : 2 votes&lt;/p&gt;&lt;p&gt;  Eternal S...</td>\n",
       "      <td>4 critic</td>\n",
       "    </tr>\n",
       "  </tbody>\n",
       "</table>\n",
       "</div>"
      ],
      "text/plain": [
       "  crit_cn                                 properties.article  \\\n",
       "0   Italy  <p> At the First Breath of Wind : 1 vote</p><p...   \n",
       "1  Mexico  <p> 4 Months, 3 Weeks & 2 Days : 1 vote</p><p>...   \n",
       "2      UK  <p> 4 Months, 3 Weeks & 2 Days : 1 vote</p><p>...   \n",
       "3      US  <p> Certified Copy : 2 votes</p><p>  Eternal S...   \n",
       "\n",
       "  properties.headline  \n",
       "0            1 critic  \n",
       "1            1 critic  \n",
       "2            1 critic  \n",
       "3            4 critic  "
      ]
     },
     "execution_count": 46,
     "metadata": {},
     "output_type": "execute_result"
    }
   ],
   "source": [
    "output"
   ]
  },
  {
   "cell_type": "code",
   "execution_count": 47,
   "metadata": {},
   "outputs": [
    {
     "data": {
      "text/html": [
       "<div>\n",
       "<style>\n",
       "    .dataframe thead tr:only-child th {\n",
       "        text-align: right;\n",
       "    }\n",
       "\n",
       "    .dataframe thead th {\n",
       "        text-align: left;\n",
       "    }\n",
       "\n",
       "    .dataframe tbody tr th {\n",
       "        vertical-align: top;\n",
       "    }\n",
       "</style>\n",
       "<table border=\"1\" class=\"dataframe\">\n",
       "  <thead>\n",
       "    <tr style=\"text-align: right;\">\n",
       "      <th></th>\n",
       "      <th>crit_cn</th>\n",
       "      <th>properties.article</th>\n",
       "      <th>properties.headline</th>\n",
       "      <th>properties.color</th>\n",
       "    </tr>\n",
       "  </thead>\n",
       "  <tbody>\n",
       "    <tr>\n",
       "      <th>0</th>\n",
       "      <td>Italy</td>\n",
       "      <td>&lt;p&gt; At the First Breath of Wind : 1 vote&lt;/p&gt;&lt;p...</td>\n",
       "      <td>1 critic</td>\n",
       "      <td>#000066</td>\n",
       "    </tr>\n",
       "    <tr>\n",
       "      <th>1</th>\n",
       "      <td>Mexico</td>\n",
       "      <td>&lt;p&gt; 4 Months, 3 Weeks &amp; 2 Days : 1 vote&lt;/p&gt;&lt;p&gt;...</td>\n",
       "      <td>1 critic</td>\n",
       "      <td>#000066</td>\n",
       "    </tr>\n",
       "    <tr>\n",
       "      <th>2</th>\n",
       "      <td>UK</td>\n",
       "      <td>&lt;p&gt; 4 Months, 3 Weeks &amp; 2 Days : 1 vote&lt;/p&gt;&lt;p&gt;...</td>\n",
       "      <td>1 critic</td>\n",
       "      <td>#000066</td>\n",
       "    </tr>\n",
       "    <tr>\n",
       "      <th>3</th>\n",
       "      <td>US</td>\n",
       "      <td>&lt;p&gt; Certified Copy : 2 votes&lt;/p&gt;&lt;p&gt;  Eternal S...</td>\n",
       "      <td>4 critic</td>\n",
       "      <td>#000066</td>\n",
       "    </tr>\n",
       "  </tbody>\n",
       "</table>\n",
       "</div>"
      ],
      "text/plain": [
       "  crit_cn                                 properties.article  \\\n",
       "0   Italy  <p> At the First Breath of Wind : 1 vote</p><p...   \n",
       "1  Mexico  <p> 4 Months, 3 Weeks & 2 Days : 1 vote</p><p>...   \n",
       "2      UK  <p> 4 Months, 3 Weeks & 2 Days : 1 vote</p><p>...   \n",
       "3      US  <p> Certified Copy : 2 votes</p><p>  Eternal S...   \n",
       "\n",
       "  properties.headline properties.color  \n",
       "0            1 critic          #000066  \n",
       "1            1 critic          #000066  \n",
       "2            1 critic          #000066  \n",
       "3            4 critic          #000066  "
      ]
     },
     "execution_count": 47,
     "metadata": {},
     "output_type": "execute_result"
    }
   ],
   "source": [
    "#Add some color\n",
    "output['properties.color'] = \"#000066\"\n",
    "output"
   ]
  },
  {
   "cell_type": "code",
   "execution_count": null,
   "metadata": {
    "collapsed": true
   },
   "outputs": [],
   "source": []
  }
 ],
 "metadata": {
  "kernelspec": {
   "display_name": "Python 3",
   "language": "python",
   "name": "python3"
  },
  "language_info": {
   "codemirror_mode": {
    "name": "ipython",
    "version": 3
   },
   "file_extension": ".py",
   "mimetype": "text/x-python",
   "name": "python",
   "nbconvert_exporter": "python",
   "pygments_lexer": "ipython3",
   "version": "3.6.5"
  }
 },
 "nbformat": 4,
 "nbformat_minor": 2
}
