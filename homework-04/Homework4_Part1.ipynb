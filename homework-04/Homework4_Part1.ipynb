{
 "cells": [
  {
   "cell_type": "markdown",
   "metadata": {},
   "source": [
    "## homework 4: part one: regular expressions\n",
    "\n",
    "Here we are just going to do to basic regular expressions and see if you can get the right results. We'll be searching two texts, the first is a list of United States Senators, and the second is \"The Waste Land\" by T. S. Elliot. All you need to do throughout is modify the regular expression that is defined in the my_regex variable.\n"
   ]
  },
  {
   "cell_type": "code",
   "execution_count": 1,
   "metadata": {
    "collapsed": true
   },
   "outputs": [],
   "source": [
    "\n",
    "senators = '''Alexander, Lamar - (R - TN) Class II 455 Dirksen Senate Office Building Washington DC 20510 (202) 224-4944  Contact: www.alexander.senate.gov/public/index.cfm?p=Email\n",
    "Baldwin, Tammy - (D - WI) Class I 709 Hart Senate Office Building Washington DC 20510 (202) 224-5653  Contact: www.baldwin.senate.gov/feedback\n",
    "Barrasso, John - (R - WY) Class I 307 Dirksen Senate Office Building Washington DC 20510 (202) 224-6441  Contact: www.barrasso.senate.gov/public/index.cfm/contact-form\n",
    "Bennet, Michael F. - (D - CO) Class III 261 Russell Senate Office Building Washington DC 20510 (202) 224-5852  Contact: www.bennet.senate.gov/public/index.cfm/write-to-michael\n",
    "Blumenthal, Richard - (D - CT) Class III 706 Hart Senate Office Building Washington DC 20510 (202) 224-2823  Contact: www.blumenthal.senate.gov/contact/\n",
    "Blunt, Roy - (R - MO) Class III 260 Russell Senate Office Building Washington DC 20510 (202) 224-5721  Contact: www.blunt.senate.gov/public/index.cfm/contact-roy\n",
    "Booker, Cory A. - (D - NJ) Class II 359 Dirksen Senate Office Building Washington DC 20510 (202) 224-3224  Contact: www.booker.senate.gov/?p=contact\n",
    "Boozman, John - (R - AR) Class III 141 Hart Senate Office Building Washington DC 20510 (202) 224-4843  Contact: www.boozman.senate.gov/public/index.cfm/contact\n",
    "Brown, Sherrod - (D - OH) Class I 713 Hart Senate Office Building Washington DC 20510 (202) 224-2315  Contact: www.brown.senate.gov/contact/\n",
    "Burr, Richard - (R - NC) Class III 217 Russell Senate Office Building Washington DC 20510 (202) 224-3154  Contact: www.burr.senate.gov/contact/email\n",
    "Cantwell, Maria - (D - WA) Class I 511 Hart Senate Office Building Washington DC 20510 (202) 224-3441  Contact: www.cantwell.senate.gov/public/index.cfm/email-maria\n",
    "Capito, Shelley Moore - (R - WV) Class II 172 Russell Senate Office Building Washington DC 20510 (202) 224-6472  Contact: www.capito.senate.gov/contact/contact-shelley\n",
    "Cardin, Benjamin L. - (D - MD) Class I 509 Hart Senate Office Building Washington DC 20510 (202) 224-4524  Contact: www.cardin.senate.gov/contact/\n",
    "Carper, Thomas R. - (D - DE) Class I 513 Hart Senate Office Building Washington DC 20510 (202) 224-2441  Contact: www.carper.senate.gov/public/index.cfm/email-senator-carper\n",
    "Casey, Robert P., Jr. - (D - PA) Class I 393 Russell Senate Office Building Washington DC 20510 (202) 224-6324  Contact: www.casey.senate.gov/contact/\n",
    "Cassidy, Bill - (R - LA) Class II 520 Hart Senate Office Building Washington DC 20510 (202) 224-5824  Contact: www.cassidy.senate.gov/contact\n",
    "Collins, Susan M. - (R - ME) Class II 413 Dirksen Senate Office Building Washington DC 20510 (202) 224-2523  Contact: www.collins.senate.gov/contact\n",
    "Coons, Christopher A. - (D - DE) Class II 127A Russell Senate Office Building Washington DC 20510 (202) 224-5042  Contact: www.coons.senate.gov/contact\n",
    "Corker, Bob - (R - TN) Class I 425 Dirksen Senate Office Building Washington DC 20510 (202) 224-3344  Contact: www.corker.senate.gov/public/index.cfm/emailme\n",
    "Cornyn, John - (R - TX) Class II 517 Hart Senate Office Building Washington DC 20510 (202) 224-2934  Contact: www.cornyn.senate.gov/contact\n",
    "Cortez Masto, Catherine - (D - NV) Class III 204 Russell Senate Office Building Washington DC 20510 (202) 224-3542  Contact: www.cortezmasto.senate.gov/contact\n",
    "Cotton, Tom - (R - AR) Class II 124 Russell Senate Office Building Washington DC 20510 (202) 224-2353  Contact: www.cotton.senate.gov/?p=contact\n",
    "Crapo, Mike - (R - ID) Class III 239 Dirksen Senate Office Building Washington DC 20510 (202) 224-6142  Contact: www.crapo.senate.gov/contact\n",
    "Cruz, Ted - (R - TX) Class I 404 Russell Senate Office Building Washington DC 20510 (202) 224-5922  Contact: www.cruz.senate.gov/?p=form&id=16\n",
    "Daines, Steve - (R - MT) Class II 320 Hart Senate Office Building Washington DC 20510 (202) 224-2651  Contact: www.daines.senate.gov/connect/email-steve\n",
    "Donnelly, Joe - (D - IN) Class I 720 Hart Senate Office Building Washington DC 20510 (202) 224-4814  Contact: www.donnelly.senate.gov/contact/email-joe\n",
    "Duckworth, Tammy - (D - IL) Class III 524 Hart Senate Office Building Washington DC 20510 (202) 224-2854  Contact: www.duckworth.senate.gov/content/contact-senator\n",
    "Durbin, Richard J. - (D - IL) Class II 711 Hart Senate Office Building Washington DC 20510 (202) 224-2152  Contact: www.durbin.senate.gov/contact/\n",
    "Enzi, Michael B. - (R - WY) Class II 379A Russell Senate Office Building Washington DC 20510 (202) 224-3424  Contact: www.enzi.senate.gov/public/index.cfm/contact?p=e-mail-sen...\n",
    "Ernst, Joni - (R - IA) Class II 111 Russell Senate Office Building Washington DC 20510 (202) 224-3254  Contact: www.ernst.senate.gov/public/index.cfm/contact\n",
    "Feinstein, Dianne - (D - CA) Class I 331 Hart Senate Office Building Washington DC 20510 (202) 224-3841  Contact: www.feinstein.senate.gov/public/index.cfm/e-mail-me\n",
    "Fischer, Deb - (R - NE) Class I 454 Russell Senate Office Building Washington DC 20510 (202) 224-6551  Contact: www.fischer.senate.gov/public/index.cfm/contact\n",
    "Flake, Jeff - (R - AZ) Class I 413 Russell Senate Office Building Washington DC 20510 (202) 224-4521  Contact: www.flake.senate.gov/public/index.cfm/contact-jeff\n",
    "Gardner, Cory - (R - CO) Class II 354 Russell Senate Office Building Washington DC 20510 (202) 224-5941  Contact: www.gardner.senate.gov/contact-cory/email-cory\n",
    "Gillibrand, Kirsten E. - (D - NY) Class I 478 Russell Senate Office Building Washington DC 20510 (202) 224-4451  Contact: www.gillibrand.senate.gov/contact/email-me\n",
    "Graham, Lindsey - (R - SC) Class II 290 Russell Senate Office Building Washington DC 20510 (202) 224-5972  Contact: www.lgraham.senate.gov/public/index.cfm/e-mail-senator-gr... \n",
    "Grassley, Chuck - (R - IA) Class III 135 Hart Senate Office Building Washington DC 20510 (202) 224-3744  Contact: www.grassley.senate.gov/contact\n",
    "Harris, Kamala D. - (D - CA) Class III 112 Hart Senate Office Building Washington DC 20510 (202) 224-3553  Contact: www.harris.senate.gov/contact\n",
    "Hassan, Margaret Wood - (D - NH) Class III 330 Hart Senate Office Building Washington DC 20510 (202) 224-3324  Contact: www.hassan.senate.gov/content/contact-senator\n",
    "Hatch, Orrin G. - (R - UT) Class I 104 Hart Senate Office Building Washington DC 20510 (202) 224-5251  Contact: www.hatch.senate.gov/public/index.cfm/contact?p=Email-Orrin\n",
    "Heinrich, Martin - (D - NM) Class I 303 Hart Senate Office Building Washington DC 20510 (202) 224-5521  Contact: www.heinrich.senate.gov/contact\n",
    "Heitkamp, Heidi - (D - ND) Class I 516 Hart Senate Office Building Washington DC 20510 (202) 224-2043  Contact: www.heitkamp.senate.gov/public/index.cfm/contact\n",
    "Heller, Dean - (R - NV) Class I 324 Hart Senate Office Building Washington DC 20510 (202) 224-6244  Contact: www.heller.senate.gov/public/index.cfm/contact-form\n",
    "Hirono, Mazie K. - (D - HI) Class I 730 Hart Senate Office Building Washington DC 20510 (202) 224-6361  Contact: www.hirono.senate.gov/contact\n",
    "Hoeven, John - (R - ND) Class III 338 Russell Senate Office Building Washington DC 20510 (202) 224-2551  Contact: www.hoeven.senate.gov/public/index.cfm/email-the-senator\n",
    "Hyde-Smith, Cindy - (R - MS) Clas\\(s II G12 Dirksen Senate Office Building \n",
    "Washington DC 20510 (202) 224-5054  Contact: www.hydesmith.senate.gov/content/contact-senator\n",
    "Inhofe, James M. - (R - OK) Class II 205 Russell Senate Office Building Washington DC 20510 (202) 224-4721  Contact: www.inhofe.senate.gov/contact\n",
    "Isakson, Johnny - (R - GA) Class III 131 Russell Senate Office Building Washington DC 20510 (202) 224-3643  Contact: www.isakson.senate.gov/public/index.cfm/email-me\n",
    "Johnson, Ron - (R - WI) Class III 328 Hart Senate Office Building Washington DC 20510 (202) 224-5323  Contact: www.ronjohnson.senate.gov/public/index.cfm/email-the-sena...\n",
    "Jones, Doug - (D - AL) Class II 326 Russell Senate Office Building Washington DC 20510 (202) 224-4124  Contact: www.jones.senate.gov/content/contact-senator\n",
    "Kaine, Tim - (D - VA) Class I 231 Russell Senate Office Building Washington DC 20510 (202) 224-4024  Contact: www.kaine.senate.gov/contact\n",
    "Kennedy, John - (R - LA) Class III 383 Russell Senate Office Building Washington DC 20510 (202) 224-4623  Contact: www.kennedy.senate.gov/public/email-me\n",
    "King, Angus S., Jr. - (I - ME) Class I 133 Hart Senate Office Building Washington DC 20510 (202) 224-5344  Contact: www.king.senate.gov/contact\n",
    "Klobuchar, Amy - (D - MN) Class I 302 Hart Senate Office Building Washington DC 20510 (202) 224-3244  Contact: www.klobuchar.senate.gov/public/index.cfm/contact\n",
    "Lankford, James - (R - OK) Class III 316 Hart Senate Office Building Washington DC 20510 (202) 224-5754  Contact: www.lankford.senate.gov/contact/email\n",
    "Leahy, Patrick J. - (D - VT) Class III 437 Russell Senate Office Building Washington DC 20510 (202) 224-4242  Contact: www.leahy.senate.gov/contact/\n",
    "Lee, Mike - (R - UT) Class III 361A Russell Senate Office Building Washington DC 20510 (202) 224-5444  Contact: www.lee.senate.gov/public/index.cfm/contact\n",
    "Manchin, Joe, III - (D - WV) Class I 306 Hart Senate Office Building Washington DC 20510 (202) 224-3954  Contact: www.manchin.senate.gov/public/index.cfm/contact-form\n",
    "Markey, Edward J. - (D - MA) Class II 255 Dirksen Senate Office Building Washington DC 20510 (202) 224-2742  Contact: www.markey.senate.gov/contact\n",
    "McCain, John - (R - AZ) Class III 218 Russell Senate Office Building Washington DC 20510 (202) 224-2235  Contact: www.mccain.senate.gov/public/index.cfm/contact-form\n",
    "McCaskill, Claire - (D - MO) Class I 503 Hart Senate Office Building Washington DC 20510 (202) 224-6154  Contact: www.mccaskill.senate.gov/contact\n",
    "McConnell, Mitch - (R - KY) Class II 317 Russell Senate Office Building Washington DC 20510 (202) 224-2541  Contact: www.mcconnell.senate.gov/public/index.cfm?p=contact\n",
    "Menendez, Robert - (D - NJ) Class I 528 Hart Senate Office Building Washington DC 20510 (202) 224-4744  Contact: www.menendez.senate.gov/contact\n",
    "Merkley, Jeff - (D - OR) Class II 313 Hart Senate Office Building Washington DC 20510 (202) 224-3753  Contact: www.merkley.senate.gov/contact/\n",
    "Moran, Jerry - (R - KS) Class III 521 Dirksen Senate Office Building Washington DC 20510 (202) 224-6521  Contact: www.moran.senate.gov/public/index.cfm/e-mail-jerry\n",
    "Murkowski, Lisa - (R - AK) Class III 522 Hart Senate Office Building Washington DC 20510 (202) 224-6665  Contact: www.murkowski.senate.gov/public/index.cfm/contact\n",
    "Murphy, Christopher - (D - CT) Class I 136 Hart Senate Office Building Washington DC 20510 (202) 224-4041  Contact: www.murphy.senate.gov/contact\n",
    "Murray, Patty - (D - WA) Class III 154 Russell Senate Office Building Washington DC 20510 (202) 224-2621  Contact: www.murray.senate.gov/public/index.cfm/contactme\n",
    "Nelson, Bill - (D - FL) Class I 716 Hart Senate Office Building Washington DC 20510 (202) 224-5274  Contact: www.billnelson.senate.gov/contact-bill\n",
    "Paul, Rand - (R - KY) Class III 167 Russell Senate Office Building Washington DC 20510 (202) 224-4343  Contact: www.paul.senate.gov/connect/email-rand \n",
    "Perdue, David - (R - GA) Class II 455 Russell Senate Office Building Washington DC 20510 (202) 224-3521  Contact: www.perdue.senate.gov/connect/email\n",
    "Peters, Gary C. - (D - MI) Class II 724 Hart Senate Office Building Washington DC 20510 (202) 224-6221  Contact: www.peters.senate.gov/contact/email-gary\n",
    "Portman, Rob - (R - OH) Class III 448 Russell Senate Office Building Washington DC 20510 (202) 224-3353  Contact: www.portman.senate.gov/public/index.cfm/contact?p=contact...\n",
    "Reed, Jack - (D - RI) Class II 728 Hart Senate Office Building Washington DC 20510 (202) 224-4642  Contact: www.reed.senate.gov/contact/\n",
    "Risch, James E. - (R - ID) Class II 483 Russell Senate Office Building Washington DC 20510 (202) 224-2752  Contact: www.risch.senate.gov/public/index.cfm?p=Email\n",
    "Roberts, Pat - (R - KS) Class II 109 Hart Senate Office Building Washington DC 20510 (202) 224-4774  Contact: www.roberts.senate.gov/public/?p=EmailPat\n",
    "Rounds, Mike - (R - SD) Class II 502 Hart Senate Office Building Washington DC 20510 (202) 224-5842  Contact: www.rounds.senate.gov/contact/email-mike\n",
    "Rubio, Marco - (R - FL) Class III 284 Russell Senate Office Building Washington DC 20510 (202) 224-3041  Contact: www.rubio.senate.gov/public/index.cfm/contact\n",
    "Sanders, Bernard - (I - VT) Class I 332 Dirksen Senate Office Building Washington DC 20510 (202) 224-5141  Contact: www.sanders.senate.gov/contact/\n",
    "Sasse, Ben - (R - NE) Class II 136 Russell Senate Office Building Washington DC 20510 (202) 224-4224  Contact: www.sasse.senate.gov/public/index.cfm/email-ben\n",
    "Schatz, Brian - (D - HI) Class III 722 Hart Senate Office Building Washington DC 20510 (202) 224-3934  Contact: www.schatz.senate.gov/contact\n",
    "Schumer, Charles E. - (D - NY) Class III 322 Hart Senate Office Building Washington DC 20510 (202) 224-6542  Contact: www.schumer.senate.gov/contact/email-chuck\n",
    "Scott, Tim - (R - SC) Class III 717 Hart Senate Office Building Washington DC 20510 (202) 224-6121  Contact: www.scott.senate.gov/contact/email-me\n",
    "Shaheen, Jeanne - (D - NH) Class II 506 Hart Senate Office Building Washington DC 20510 (202) 224-2841  Contact: www.shaheen.senate.gov/contact/contact-jeanne\n",
    "Shelby, Richard C. - (R - AL) Class III 304 Russell Senate Office Building Washington DC 20510 (202) 224-5744  Contact: www.shelby.senate.gov/public/index.cfm/emailsenatorshelby\n",
    "Smith, Tina - (D - MN) Class II 309 Hart Senate Office Building Washington DC 20510 (202) 224-5641  Contact: www.smith.senate.gov/content/contact-senator\n",
    "Stabenow, Debbie - (D - MI) Class I 731 Hart Senate Office Building Washington DC 20510 (202) 224-4822  Contact: www.stabenow.senate.gov/contact\n",
    "Sullivan, Dan - (R - AK) Class II 702 Hart Senate Office Building Washington DC 20510 (202) 224-3004  Contact: www.sullivan.senate.gov/contact/email\n",
    "Tester, Jon - (D - MT) Class I 311 Hart Senate Office Building Washington DC 20510 (202) 224-2644  Contact: www.tester.senate.gov/?p=email_senator\n",
    "Thune, John - (R - SD) Class III 511 Dirksen Senate Office Building Washington DC 20510 (202) 224-2321  Contact: www.thune.senate.gov/public/index.cfm/contact\n",
    "Tillis, Thom - (R - NC) Class II 185 Dirksen Senate Office Building Washington DC 20510 (202) 224-6342  Contact: www.tillis.senate.gov/public/index.cfm/email-me\n",
    "Toomey, Patrick J. - (R - PA) Class III 248 Russell Senate Office Building Washington DC 20510 (202) 224-4254  Contact: www.toomey.senate.gov/?p=contact\n",
    "Udall, Tom - (D - NM) Class II 531 Hart Senate Office Building Washington DC 20510 (202) 224-6621  Contact: www.tomudall.senate.gov/?p=contact\n",
    "Van Hollen, Chris - (D - MD) Class III 110 Hart Senate Office Building Washington DC 20510 (202) 224-4654  Contact: www.vanhollen.senate.gov/content/contact-senator\n",
    "Warner, Mark R. - (D - VA) Class II 703 Hart Senate Office Building Washington DC 20510 (202) 224-2023  Contact: www.warner.senate.gov/public/index.cfm?p=Contact\n",
    "Warren, Elizabeth - (D - MA) Class I 317 Hart Senate Office Building Washington DC 20510 (202) 224-4543  Contact: www.warren.senate.gov/?p=email_senator\n",
    "Whitehouse, Sheldon - (D - RI) Class I 530 Hart Senate Office Building Washington DC 20510 (202) 224-2921  Contact: www.whitehouse.senate.gov/contact/email-sheldon\n",
    "Wicker, Roger F. - (R - MS) Class I 555 Dirksen Senate Office Building Washington DC 20510 (202) 224-6253  Contact: www.wicker.senate.gov/public/index.cfm/contact\n",
    "Wyden, Ron - (D - OR) Class III 221 Dirksen Senate Office Building Washington DC 20510 (202) 224-5244  Contact: www.wyden.senate.gov/contact/\n",
    "Young, Todd - (R - IN) Class III 400 Russell Senate Office Building Washington DC 20510 (202) 224-5623  Contact: www.young.senate.gov/contact'''"
   ]
  },
  {
   "cell_type": "code",
   "execution_count": 2,
   "metadata": {
    "collapsed": true
   },
   "outputs": [],
   "source": [
    "#run this and the cell below!\n",
    "import re"
   ]
  },
  {
   "cell_type": "code",
   "execution_count": 3,
   "metadata": {},
   "outputs": [
    {
     "data": {
      "text/plain": [
       "['Alexander, Lamar - (R - TN) Class II 455 Dirksen Senate Office Building Washington DC 20510 (202) 224-4944  Contact: www.alexander.senate.gov/public/index.cfm?p=Email',\n 'Baldwin, Tammy - (D - WI) Class I 709 Hart Senate Office Building Washington DC 20510 (202) 224-5653  Contact: www.baldwin.senate.gov/feedback',\n 'Barrasso, John - (R - WY) Class I 307 Dirksen Senate Office Building Washington DC 20510 (202) 224-6441  Contact: www.barrasso.senate.gov/public/index.cfm/contact-form',\n 'Bennet, Michael F. - (D - CO) Class III 261 Russell Senate Office Building Washington DC 20510 (202) 224-5852  Contact: www.bennet.senate.gov/public/index.cfm/write-to-michael',\n 'Blumenthal, Richard - (D - CT) Class III 706 Hart Senate Office Building Washington DC 20510 (202) 224-2823  Contact: www.blumenthal.senate.gov/contact/',\n 'Blunt, Roy - (R - MO) Class III 260 Russell Senate Office Building Washington DC 20510 (202) 224-5721  Contact: www.blunt.senate.gov/public/index.cfm/contact-roy',\n 'Booker, Cory A. - (D - NJ) Class II 359 Dirksen Senate Office Building Washington DC 20510 (202) 224-3224  Contact: www.booker.senate.gov/?p=contact',\n 'Boozman, John - (R - AR) Class III 141 Hart Senate Office Building Washington DC 20510 (202) 224-4843  Contact: www.boozman.senate.gov/public/index.cfm/contact',\n 'Brown, Sherrod - (D - OH) Class I 713 Hart Senate Office Building Washington DC 20510 (202) 224-2315  Contact: www.brown.senate.gov/contact/',\n 'Burr, Richard - (R - NC) Class III 217 Russell Senate Office Building Washington DC 20510 (202) 224-3154  Contact: www.burr.senate.gov/contact/email',\n 'Cantwell, Maria - (D - WA) Class I 511 Hart Senate Office Building Washington DC 20510 (202) 224-3441  Contact: www.cantwell.senate.gov/public/index.cfm/email-maria',\n 'Capito, Shelley Moore - (R - WV) Class II 172 Russell Senate Office Building Washington DC 20510 (202) 224-6472  Contact: www.capito.senate.gov/contact/contact-shelley',\n 'Cardin, Benjamin L. - (D - MD) Class I 509 Hart Senate Office Building Washington DC 20510 (202) 224-4524  Contact: www.cardin.senate.gov/contact/',\n 'Carper, Thomas R. - (D - DE) Class I 513 Hart Senate Office Building Washington DC 20510 (202) 224-2441  Contact: www.carper.senate.gov/public/index.cfm/email-senator-carper',\n 'Casey, Robert P., Jr. - (D - PA) Class I 393 Russell Senate Office Building Washington DC 20510 (202) 224-6324  Contact: www.casey.senate.gov/contact/',\n 'Cassidy, Bill - (R - LA) Class II 520 Hart Senate Office Building Washington DC 20510 (202) 224-5824  Contact: www.cassidy.senate.gov/contact',\n 'Collins, Susan M. - (R - ME) Class II 413 Dirksen Senate Office Building Washington DC 20510 (202) 224-2523  Contact: www.collins.senate.gov/contact',\n 'Coons, Christopher A. - (D - DE) Class II 127A Russell Senate Office Building Washington DC 20510 (202) 224-5042  Contact: www.coons.senate.gov/contact',\n 'Corker, Bob - (R - TN) Class I 425 Dirksen Senate Office Building Washington DC 20510 (202) 224-3344  Contact: www.corker.senate.gov/public/index.cfm/emailme',\n 'Cornyn, John - (R - TX) Class II 517 Hart Senate Office Building Washington DC 20510 (202) 224-2934  Contact: www.cornyn.senate.gov/contact',\n 'Cortez Masto, Catherine - (D - NV) Class III 204 Russell Senate Office Building Washington DC 20510 (202) 224-3542  Contact: www.cortezmasto.senate.gov/contact',\n 'Cotton, Tom - (R - AR) Class II 124 Russell Senate Office Building Washington DC 20510 (202) 224-2353  Contact: www.cotton.senate.gov/?p=contact',\n 'Crapo, Mike - (R - ID) Class III 239 Dirksen Senate Office Building Washington DC 20510 (202) 224-6142  Contact: www.crapo.senate.gov/contact',\n 'Cruz, Ted - (R - TX) Class I 404 Russell Senate Office Building Washington DC 20510 (202) 224-5922  Contact: www.cruz.senate.gov/?p=form&id=16',\n 'Daines, Steve - (R - MT) Class II 320 Hart Senate Office Building Washington DC 20510 (202) 224-2651  Contact: www.daines.senate.gov/connect/email-steve',\n 'Donnelly, Joe - (D - IN) Class I 720 Hart Senate Office Building Washington DC 20510 (202) 224-4814  Contact: www.donnelly.senate.gov/contact/email-joe',\n 'Duckworth, Tammy - (D - IL) Class III 524 Hart Senate Office Building Washington DC 20510 (202) 224-2854  Contact: www.duckworth.senate.gov/content/contact-senator',\n 'Durbin, Richard J. - (D - IL) Class II 711 Hart Senate Office Building Washington DC 20510 (202) 224-2152  Contact: www.durbin.senate.gov/contact/',\n 'Enzi, Michael B. - (R - WY) Class II 379A Russell Senate Office Building Washington DC 20510 (202) 224-3424  Contact: www.enzi.senate.gov/public/index.cfm/contact?p=e-mail-sen...',\n 'Ernst, Joni - (R - IA) Class II 111 Russell Senate Office Building Washington DC 20510 (202) 224-3254  Contact: www.ernst.senate.gov/public/index.cfm/contact',\n 'Feinstein, Dianne - (D - CA) Class I 331 Hart Senate Office Building Washington DC 20510 (202) 224-3841  Contact: www.feinstein.senate.gov/public/index.cfm/e-mail-me',\n 'Fischer, Deb - (R - NE) Class I 454 Russell Senate Office Building Washington DC 20510 (202) 224-6551  Contact: www.fischer.senate.gov/public/index.cfm/contact',\n 'Flake, Jeff - (R - AZ) Class I 413 Russell Senate Office Building Washington DC 20510 (202) 224-4521  Contact: www.flake.senate.gov/public/index.cfm/contact-jeff',\n 'Gardner, Cory - (R - CO) Class II 354 Russell Senate Office Building Washington DC 20510 (202) 224-5941  Contact: www.gardner.senate.gov/contact-cory/email-cory',\n 'Gillibrand, Kirsten E. - (D - NY) Class I 478 Russell Senate Office Building Washington DC 20510 (202) 224-4451  Contact: www.gillibrand.senate.gov/contact/email-me',\n 'Graham, Lindsey - (R - SC) Class II 290 Russell Senate Office Building Washington DC 20510 (202) 224-5972  Contact: www.lgraham.senate.gov/public/index.cfm/e-mail-senator-gr... ',\n 'Grassley, Chuck - (R - IA) Class III 135 Hart Senate Office Building Washington DC 20510 (202) 224-3744  Contact: www.grassley.senate.gov/contact',\n 'Harris, Kamala D. - (D - CA) Class III 112 Hart Senate Office Building Washington DC 20510 (202) 224-3553  Contact: www.harris.senate.gov/contact',\n 'Hassan, Margaret Wood - (D - NH) Class III 330 Hart Senate Office Building Washington DC 20510 (202) 224-3324  Contact: www.hassan.senate.gov/content/contact-senator',\n 'Hatch, Orrin G. - (R - UT) Class I 104 Hart Senate Office Building Washington DC 20510 (202) 224-5251  Contact: www.hatch.senate.gov/public/index.cfm/contact?p=Email-Orrin',\n 'Heinrich, Martin - (D - NM) Class I 303 Hart Senate Office Building Washington DC 20510 (202) 224-5521  Contact: www.heinrich.senate.gov/contact',\n 'Heitkamp, Heidi - (D - ND) Class I 516 Hart Senate Office Building Washington DC 20510 (202) 224-2043  Contact: www.heitkamp.senate.gov/public/index.cfm/contact',\n 'Heller, Dean - (R - NV) Class I 324 Hart Senate Office Building Washington DC 20510 (202) 224-6244  Contact: www.heller.senate.gov/public/index.cfm/contact-form',\n 'Hirono, Mazie K. - (D - HI) Class I 730 Hart Senate Office Building Washington DC 20510 (202) 224-6361  Contact: www.hirono.senate.gov/contact',\n 'Hoeven, John - (R - ND) Class III 338 Russell Senate Office Building Washington DC 20510 (202) 224-2551  Contact: www.hoeven.senate.gov/public/index.cfm/email-the-senator',\n 'Hyde-Smith, Cindy - (R - MS) Class II G12 Dirksen Senate Office Building Washington DC 20510 (202) 224-5054  Contact: www.hydesmith.senate.gov/content/contact-senator',\n 'Inhofe, James M. - (R - OK) Class II 205 Russell Senate Office Building Washington DC 20510 (202) 224-4721  Contact: www.inhofe.senate.gov/contact',\n 'Isakson, Johnny - (R - GA) Class III 131 Russell Senate Office Building Washington DC 20510 (202) 224-3643  Contact: www.isakson.senate.gov/public/index.cfm/email-me',\n 'Johnson, Ron - (R - WI) Class III 328 Hart Senate Office Building Washington DC 20510 (202) 224-5323  Contact: www.ronjohnson.senate.gov/public/index.cfm/email-the-sena...',\n 'Jones, Doug - (D - AL) Class II 326 Russell Senate Office Building Washington DC 20510 (202) 224-4124  Contact: www.jones.senate.gov/content/contact-senator',\n 'Kaine, Tim - (D - VA) Class I 231 Russell Senate Office Building Washington DC 20510 (202) 224-4024  Contact: www.kaine.senate.gov/contact',\n 'Kennedy, John - (R - LA) Class III 383 Russell Senate Office Building Washington DC 20510 (202) 224-4623  Contact: www.kennedy.senate.gov/public/email-me',\n 'King, Angus S., Jr. - (I - ME) Class I 133 Hart Senate Office Building Washington DC 20510 (202) 224-5344  Contact: www.king.senate.gov/contact',\n 'Klobuchar, Amy - (D - MN) Class I 302 Hart Senate Office Building Washington DC 20510 (202) 224-3244  Contact: www.klobuchar.senate.gov/public/index.cfm/contact',\n 'Lankford, James - (R - OK) Class III 316 Hart Senate Office Building Washington DC 20510 (202) 224-5754  Contact: www.lankford.senate.gov/contact/email',\n 'Leahy, Patrick J. - (D - VT) Class III 437 Russell Senate Office Building Washington DC 20510 (202) 224-4242  Contact: www.leahy.senate.gov/contact/',\n 'Lee, Mike - (R - UT) Class III 361A Russell Senate Office Building Washington DC 20510 (202) 224-5444  Contact: www.lee.senate.gov/public/index.cfm/contact',\n 'Manchin, Joe, III - (D - WV) Class I 306 Hart Senate Office Building Washington DC 20510 (202) 224-3954  Contact: www.manchin.senate.gov/public/index.cfm/contact-form',\n 'Markey, Edward J. - (D - MA) Class II 255 Dirksen Senate Office Building Washington DC 20510 (202) 224-2742  Contact: www.markey.senate.gov/contact',\n 'McCain, John - (R - AZ) Class III 218 Russell Senate Office Building Washington DC 20510 (202) 224-2235  Contact: www.mccain.senate.gov/public/index.cfm/contact-form',\n 'McCaskill, Claire - (D - MO) Class I 503 Hart Senate Office Building Washington DC 20510 (202) 224-6154  Contact: www.mccaskill.senate.gov/contact',\n 'McConnell, Mitch - (R - KY) Class II 317 Russell Senate Office Building Washington DC 20510 (202) 224-2541  Contact: www.mcconnell.senate.gov/public/index.cfm?p=contact',\n 'Menendez, Robert - (D - NJ) Class I 528 Hart Senate Office Building Washington DC 20510 (202) 224-4744  Contact: www.menendez.senate.gov/contact',\n 'Merkley, Jeff - (D - OR) Class II 313 Hart Senate Office Building Washington DC 20510 (202) 224-3753  Contact: www.merkley.senate.gov/contact/',\n 'Moran, Jerry - (R - KS) Class III 521 Dirksen Senate Office Building Washington DC 20510 (202) 224-6521  Contact: www.moran.senate.gov/public/index.cfm/e-mail-jerry',\n 'Murkowski, Lisa - (R - AK) Class III 522 Hart Senate Office Building Washington DC 20510 (202) 224-6665  Contact: www.murkowski.senate.gov/public/index.cfm/contact',\n 'Murphy, Christopher - (D - CT) Class I 136 Hart Senate Office Building Washington DC 20510 (202) 224-4041  Contact: www.murphy.senate.gov/contact',\n 'Murray, Patty - (D - WA) Class III 154 Russell Senate Office Building Washington DC 20510 (202) 224-2621  Contact: www.murray.senate.gov/public/index.cfm/contactme',\n 'Nelson, Bill - (D - FL) Class I 716 Hart Senate Office Building Washington DC 20510 (202) 224-5274  Contact: www.billnelson.senate.gov/contact-bill',\n 'Paul, Rand - (R - KY) Class III 167 Russell Senate Office Building Washington DC 20510 (202) 224-4343  Contact: www.paul.senate.gov/connect/email-rand ',\n 'Perdue, David - (R - GA) Class II 455 Russell Senate Office Building Washington DC 20510 (202) 224-3521  Contact: www.perdue.senate.gov/connect/email',\n 'Peters, Gary C. - (D - MI) Class II 724 Hart Senate Office Building Washington DC 20510 (202) 224-6221  Contact: www.peters.senate.gov/contact/email-gary',\n 'Portman, Rob - (R - OH) Class III 448 Russell Senate Office Building Washington DC 20510 (202) 224-3353  Contact: www.portman.senate.gov/public/index.cfm/contact?p=contact...',\n 'Reed, Jack - (D - RI) Class II 728 Hart Senate Office Building Washington DC 20510 (202) 224-4642  Contact: www.reed.senate.gov/contact/',\n 'Risch, James E. - (R - ID) Class II 483 Russell Senate Office Building Washington DC 20510 (202) 224-2752  Contact: www.risch.senate.gov/public/index.cfm?p=Email',\n 'Roberts, Pat - (R - KS) Class II 109 Hart Senate Office Building Washington DC 20510 (202) 224-4774  Contact: www.roberts.senate.gov/public/?p=EmailPat',\n 'Rounds, Mike - (R - SD) Class II 502 Hart Senate Office Building Washington DC 20510 (202) 224-5842  Contact: www.rounds.senate.gov/contact/email-mike',\n 'Rubio, Marco - (R - FL) Class III 284 Russell Senate Office Building Washington DC 20510 (202) 224-3041  Contact: www.rubio.senate.gov/public/index.cfm/contact',\n 'Sanders, Bernard - (I - VT) Class I 332 Dirksen Senate Office Building Washington DC 20510 (202) 224-5141  Contact: www.sanders.senate.gov/contact/',\n 'Sasse, Ben - (R - NE) Class II 136 Russell Senate Office Building Washington DC 20510 (202) 224-4224  Contact: www.sasse.senate.gov/public/index.cfm/email-ben',\n 'Schatz, Brian - (D - HI) Class III 722 Hart Senate Office Building Washington DC 20510 (202) 224-3934  Contact: www.schatz.senate.gov/contact',\n 'Schumer, Charles E. - (D - NY) Class III 322 Hart Senate Office Building Washington DC 20510 (202) 224-6542  Contact: www.schumer.senate.gov/contact/email-chuck',\n 'Scott, Tim - (R - SC) Class III 717 Hart Senate Office Building Washington DC 20510 (202) 224-6121  Contact: www.scott.senate.gov/contact/email-me',\n 'Shaheen, Jeanne - (D - NH) Class II 506 Hart Senate Office Building Washington DC 20510 (202) 224-2841  Contact: www.shaheen.senate.gov/contact/contact-jeanne',\n 'Shelby, Richard C. - (R - AL) Class III 304 Russell Senate Office Building Washington DC 20510 (202) 224-5744  Contact: www.shelby.senate.gov/public/index.cfm/emailsenatorshelby',\n 'Smith, Tina - (D - MN) Class II 309 Hart Senate Office Building Washington DC 20510 (202) 224-5641  Contact: www.smith.senate.gov/content/contact-senator',\n 'Stabenow, Debbie - (D - MI) Class I 731 Hart Senate Office Building Washington DC 20510 (202) 224-4822  Contact: www.stabenow.senate.gov/contact',\n 'Sullivan, Dan - (R - AK) Class II 702 Hart Senate Office Building Washington DC 20510 (202) 224-3004  Contact: www.sullivan.senate.gov/contact/email',\n 'Tester, Jon - (D - MT) Class I 311 Hart Senate Office Building Washington DC 20510 (202) 224-2644  Contact: www.tester.senate.gov/?p=email_senator',\n 'Thune, John - (R - SD) Class III 511 Dirksen Senate Office Building Washington DC 20510 (202) 224-2321  Contact: www.thune.senate.gov/public/index.cfm/contact',\n 'Tillis, Thom - (R - NC) Class II 185 Dirksen Senate Office Building Washington DC 20510 (202) 224-6342  Contact: www.tillis.senate.gov/public/index.cfm/email-me',\n 'Toomey, Patrick J. - (R - PA) Class III 248 Russell Senate Office Building Washington DC 20510 (202) 224-4254  Contact: www.toomey.senate.gov/?p=contact',\n 'Udall, Tom - (D - NM) Class II 531 Hart Senate Office Building Washington DC 20510 (202) 224-6621  Contact: www.tomudall.senate.gov/?p=contact',\n 'Van Hollen, Chris - (D - MD) Class III 110 Hart Senate Office Building Washington DC 20510 (202) 224-4654  Contact: www.vanhollen.senate.gov/content/contact-senator',\n 'Warner, Mark R. - (D - VA) Class II 703 Hart Senate Office Building Washington DC 20510 (202) 224-2023  Contact: www.warner.senate.gov/public/index.cfm?p=Contact',\n 'Warren, Elizabeth - (D - MA) Class I 317 Hart Senate Office Building Washington DC 20510 (202) 224-4543  Contact: www.warren.senate.gov/?p=email_senator',\n 'Whitehouse, Sheldon - (D - RI) Class I 530 Hart Senate Office Building Washington DC 20510 (202) 224-2921  Contact: www.whitehouse.senate.gov/contact/email-sheldon',\n 'Wicker, Roger F. - (R - MS) Class I 555 Dirksen Senate Office Building Washington DC 20510 (202) 224-6253  Contact: www.wicker.senate.gov/public/index.cfm/contact',\n 'Wyden, Ron - (D - OR) Class III 221 Dirksen Senate Office Building Washington DC 20510 (202) 224-5244  Contact: www.wyden.senate.gov/contact/',\n 'Young, Todd - (R - IN) Class III 400 Russell Senate Office Building Washington DC 20510 (202) 224-5623  Contact: www.young.senate.gov/contact']"
      ]
     },
     "execution_count": 3,
     "metadata": {},
     "output_type": "execute_result"
    }
   ],
   "source": [
    "senator_list = senators.splitlines()\n",
    "senator_list"
   ]
  },
  {
   "cell_type": "code",
   "execution_count": 4,
   "metadata": {},
   "outputs": [
    {
     "data": {
      "text/plain": [
       "['Cotton, Tom - (R - AR) Class II 124 Russell Senate Office Building Washington DC 20510 (202) 224-2353  Contact: www.cotton.senate.gov/?p=contact',\n 'Isakson, Johnny - (R - GA) Class III 131 Russell Senate Office Building Washington DC 20510 (202) 224-3643  Contact: www.isakson.senate.gov/public/index.cfm/email-me',\n 'Johnson, Ron - (R - WI) Class III 328 Hart Senate Office Building Washington DC 20510 (202) 224-5323  Contact: www.ronjohnson.senate.gov/public/index.cfm/email-the-sena...',\n 'Nelson, Bill - (D - FL) Class I 716 Hart Senate Office Building Washington DC 20510 (202) 224-5274  Contact: www.billnelson.senate.gov/contact-bill']"
      ]
     },
     "execution_count": 4,
     "metadata": {},
     "output_type": "execute_result"
    }
   ],
   "source": [
    "#Here's an example--Getting all senators a with a last name that ends with \"on\"\n",
    "my_regex = r\"^\\w+on\\b\"\n",
    "[line for line in senator_list if re.search(my_regex, line, re.IGNORECASE)]"
   ]
  },
  {
   "cell_type": "code",
   "execution_count": 6,
   "metadata": {
    "collapsed": true
   },
   "outputs": [
    {
     "data": {
      "text/plain": [
       "['Carper, Thomas R. - (D - DE) Class I 513 Hart Senate Office Building Washington DC 20510 (202) 224-2441  Contact: www.carper.senate.gov/public/index.cfm/email-senator-carper',\n 'Cotton, Tom - (R - AR) Class II 124 Russell Senate Office Building Washington DC 20510 (202) 224-2353  Contact: www.cotton.senate.gov/?p=contact',\n 'Tillis, Thom - (R - NC) Class II 185 Dirksen Senate Office Building Washington DC 20510 (202) 224-6342  Contact: www.tillis.senate.gov/public/index.cfm/email-me',\n 'Udall, Tom - (D - NM) Class II 531 Hart Senate Office Building Washington DC 20510 (202) 224-6621  Contact: www.tomudall.senate.gov/?p=contact']"
      ]
     },
     "execution_count": 6,
     "metadata": {},
     "output_type": "execute_result"
    }
   ],
   "source": [
    "#1. Get a list of all senators name Thom, Tom, or Thomas\n",
    "my_regex = r\"^\\w*, Th?om\"\n",
    "[line for line in senator_list if re.search(my_regex, line, re.IGNORECASE)]"
   ]
  },
  {
   "cell_type": "code",
   "execution_count": 8,
   "metadata": {
    "collapsed": true
   },
   "outputs": [
    {
     "data": {
      "text/plain": [
       "['Baldwin, Tammy - (D - WI) Class I 709 Hart Senate Office Building Washington DC 20510 (202) 224-5653  Contact: www.baldwin.senate.gov/feedback',\n 'Barrasso, John - (R - WY) Class I 307 Dirksen Senate Office Building Washington DC 20510 (202) 224-6441  Contact: www.barrasso.senate.gov/public/index.cfm/contact-form',\n 'Brown, Sherrod - (D - OH) Class I 713 Hart Senate Office Building Washington DC 20510 (202) 224-2315  Contact: www.brown.senate.gov/contact/',\n 'Cantwell, Maria - (D - WA) Class I 511 Hart Senate Office Building Washington DC 20510 (202) 224-3441  Contact: www.cantwell.senate.gov/public/index.cfm/email-maria',\n 'Cardin, Benjamin L. - (D - MD) Class I 509 Hart Senate Office Building Washington DC 20510 (202) 224-4524  Contact: www.cardin.senate.gov/contact/',\n 'Carper, Thomas R. - (D - DE) Class I 513 Hart Senate Office Building Washington DC 20510 (202) 224-2441  Contact: www.carper.senate.gov/public/index.cfm/email-senator-carper',\n 'Casey, Robert P., Jr. - (D - PA) Class I 393 Russell Senate Office Building Washington DC 20510 (202) 224-6324  Contact: www.casey.senate.gov/contact/',\n 'Corker, Bob - (R - TN) Class I 425 Dirksen Senate Office Building Washington DC 20510 (202) 224-3344  Contact: www.corker.senate.gov/public/index.cfm/emailme',\n 'Cruz, Ted - (R - TX) Class I 404 Russell Senate Office Building Washington DC 20510 (202) 224-5922  Contact: www.cruz.senate.gov/?p=form&id=16',\n 'Donnelly, Joe - (D - IN) Class I 720 Hart Senate Office Building Washington DC 20510 (202) 224-4814  Contact: www.donnelly.senate.gov/contact/email-joe',\n 'Feinstein, Dianne - (D - CA) Class I 331 Hart Senate Office Building Washington DC 20510 (202) 224-3841  Contact: www.feinstein.senate.gov/public/index.cfm/e-mail-me',\n 'Fischer, Deb - (R - NE) Class I 454 Russell Senate Office Building Washington DC 20510 (202) 224-6551  Contact: www.fischer.senate.gov/public/index.cfm/contact',\n 'Flake, Jeff - (R - AZ) Class I 413 Russell Senate Office Building Washington DC 20510 (202) 224-4521  Contact: www.flake.senate.gov/public/index.cfm/contact-jeff',\n 'Gillibrand, Kirsten E. - (D - NY) Class I 478 Russell Senate Office Building Washington DC 20510 (202) 224-4451  Contact: www.gillibrand.senate.gov/contact/email-me',\n 'Hatch, Orrin G. - (R - UT) Class I 104 Hart Senate Office Building Washington DC 20510 (202) 224-5251  Contact: www.hatch.senate.gov/public/index.cfm/contact?p=Email-Orrin',\n 'Heinrich, Martin - (D - NM) Class I 303 Hart Senate Office Building Washington DC 20510 (202) 224-5521  Contact: www.heinrich.senate.gov/contact',\n 'Heitkamp, Heidi - (D - ND) Class I 516 Hart Senate Office Building Washington DC 20510 (202) 224-2043  Contact: www.heitkamp.senate.gov/public/index.cfm/contact',\n 'Heller, Dean - (R - NV) Class I 324 Hart Senate Office Building Washington DC 20510 (202) 224-6244  Contact: www.heller.senate.gov/public/index.cfm/contact-form',\n 'Hirono, Mazie K. - (D - HI) Class I 730 Hart Senate Office Building Washington DC 20510 (202) 224-6361  Contact: www.hirono.senate.gov/contact',\n 'Kaine, Tim - (D - VA) Class I 231 Russell Senate Office Building Washington DC 20510 (202) 224-4024  Contact: www.kaine.senate.gov/contact',\n 'King, Angus S., Jr. - (I - ME) Class I 133 Hart Senate Office Building Washington DC 20510 (202) 224-5344  Contact: www.king.senate.gov/contact',\n 'Klobuchar, Amy - (D - MN) Class I 302 Hart Senate Office Building Washington DC 20510 (202) 224-3244  Contact: www.klobuchar.senate.gov/public/index.cfm/contact',\n 'Manchin, Joe, III - (D - WV) Class I 306 Hart Senate Office Building Washington DC 20510 (202) 224-3954  Contact: www.manchin.senate.gov/public/index.cfm/contact-form',\n 'McCaskill, Claire - (D - MO) Class I 503 Hart Senate Office Building Washington DC 20510 (202) 224-6154  Contact: www.mccaskill.senate.gov/contact',\n 'Menendez, Robert - (D - NJ) Class I 528 Hart Senate Office Building Washington DC 20510 (202) 224-4744  Contact: www.menendez.senate.gov/contact',\n 'Murphy, Christopher - (D - CT) Class I 136 Hart Senate Office Building Washington DC 20510 (202) 224-4041  Contact: www.murphy.senate.gov/contact',\n 'Nelson, Bill - (D - FL) Class I 716 Hart Senate Office Building Washington DC 20510 (202) 224-5274  Contact: www.billnelson.senate.gov/contact-bill',\n 'Sanders, Bernard - (I - VT) Class I 332 Dirksen Senate Office Building Washington DC 20510 (202) 224-5141  Contact: www.sanders.senate.gov/contact/',\n 'Stabenow, Debbie - (D - MI) Class I 731 Hart Senate Office Building Washington DC 20510 (202) 224-4822  Contact: www.stabenow.senate.gov/contact',\n 'Tester, Jon - (D - MT) Class I 311 Hart Senate Office Building Washington DC 20510 (202) 224-2644  Contact: www.tester.senate.gov/?p=email_senator',\n 'Warren, Elizabeth - (D - MA) Class I 317 Hart Senate Office Building Washington DC 20510 (202) 224-4543  Contact: www.warren.senate.gov/?p=email_senator',\n 'Whitehouse, Sheldon - (D - RI) Class I 530 Hart Senate Office Building Washington DC 20510 (202) 224-2921  Contact: www.whitehouse.senate.gov/contact/email-sheldon',\n 'Wicker, Roger F. - (R - MS) Class I 555 Dirksen Senate Office Building Washington DC 20510 (202) 224-6253  Contact: www.wicker.senate.gov/public/index.cfm/contact']"
      ]
     },
     "execution_count": 8,
     "metadata": {},
     "output_type": "execute_result"
    }
   ],
   "source": [
    "#2. List all \"class I\" senators\n",
    "my_regex = r\"Class I \"\n",
    "[line for line in senator_list if re.search(my_regex, line, re.IGNORECASE)]"
   ]
  },
  {
   "cell_type": "code",
   "execution_count": 9,
   "metadata": {
    "collapsed": true
   },
   "outputs": [
    {
     "data": {
      "text/plain": [
       "['Alexander, Lamar - (R - TN) Class II 455 Dirksen Senate Office Building Washington DC 20510 (202) 224-4944  Contact: www.alexander.senate.gov/public/index.cfm?p=Email',\n 'Bennet, Michael F. - (D - CO) Class III 261 Russell Senate Office Building Washington DC 20510 (202) 224-5852  Contact: www.bennet.senate.gov/public/index.cfm/write-to-michael',\n 'Blumenthal, Richard - (D - CT) Class III 706 Hart Senate Office Building Washington DC 20510 (202) 224-2823  Contact: www.blumenthal.senate.gov/contact/',\n 'Blunt, Roy - (R - MO) Class III 260 Russell Senate Office Building Washington DC 20510 (202) 224-5721  Contact: www.blunt.senate.gov/public/index.cfm/contact-roy',\n 'Booker, Cory A. - (D - NJ) Class II 359 Dirksen Senate Office Building Washington DC 20510 (202) 224-3224  Contact: www.booker.senate.gov/?p=contact',\n 'Boozman, John - (R - AR) Class III 141 Hart Senate Office Building Washington DC 20510 (202) 224-4843  Contact: www.boozman.senate.gov/public/index.cfm/contact',\n 'Burr, Richard - (R - NC) Class III 217 Russell Senate Office Building Washington DC 20510 (202) 224-3154  Contact: www.burr.senate.gov/contact/email',\n 'Capito, Shelley Moore - (R - WV) Class II 172 Russell Senate Office Building Washington DC 20510 (202) 224-6472  Contact: www.capito.senate.gov/contact/contact-shelley',\n 'Cassidy, Bill - (R - LA) Class II 520 Hart Senate Office Building Washington DC 20510 (202) 224-5824  Contact: www.cassidy.senate.gov/contact',\n 'Collins, Susan M. - (R - ME) Class II 413 Dirksen Senate Office Building Washington DC 20510 (202) 224-2523  Contact: www.collins.senate.gov/contact',\n 'Coons, Christopher A. - (D - DE) Class II 127A Russell Senate Office Building Washington DC 20510 (202) 224-5042  Contact: www.coons.senate.gov/contact',\n 'Cornyn, John - (R - TX) Class II 517 Hart Senate Office Building Washington DC 20510 (202) 224-2934  Contact: www.cornyn.senate.gov/contact',\n 'Cortez Masto, Catherine - (D - NV) Class III 204 Russell Senate Office Building Washington DC 20510 (202) 224-3542  Contact: www.cortezmasto.senate.gov/contact',\n 'Cotton, Tom - (R - AR) Class II 124 Russell Senate Office Building Washington DC 20510 (202) 224-2353  Contact: www.cotton.senate.gov/?p=contact',\n 'Crapo, Mike - (R - ID) Class III 239 Dirksen Senate Office Building Washington DC 20510 (202) 224-6142  Contact: www.crapo.senate.gov/contact',\n 'Daines, Steve - (R - MT) Class II 320 Hart Senate Office Building Washington DC 20510 (202) 224-2651  Contact: www.daines.senate.gov/connect/email-steve',\n 'Duckworth, Tammy - (D - IL) Class III 524 Hart Senate Office Building Washington DC 20510 (202) 224-2854  Contact: www.duckworth.senate.gov/content/contact-senator',\n 'Durbin, Richard J. - (D - IL) Class II 711 Hart Senate Office Building Washington DC 20510 (202) 224-2152  Contact: www.durbin.senate.gov/contact/',\n 'Enzi, Michael B. - (R - WY) Class II 379A Russell Senate Office Building Washington DC 20510 (202) 224-3424  Contact: www.enzi.senate.gov/public/index.cfm/contact?p=e-mail-sen...',\n 'Ernst, Joni - (R - IA) Class II 111 Russell Senate Office Building Washington DC 20510 (202) 224-3254  Contact: www.ernst.senate.gov/public/index.cfm/contact',\n 'Gardner, Cory - (R - CO) Class II 354 Russell Senate Office Building Washington DC 20510 (202) 224-5941  Contact: www.gardner.senate.gov/contact-cory/email-cory',\n 'Graham, Lindsey - (R - SC) Class II 290 Russell Senate Office Building Washington DC 20510 (202) 224-5972  Contact: www.lgraham.senate.gov/public/index.cfm/e-mail-senator-gr... ',\n 'Grassley, Chuck - (R - IA) Class III 135 Hart Senate Office Building Washington DC 20510 (202) 224-3744  Contact: www.grassley.senate.gov/contact',\n 'Harris, Kamala D. - (D - CA) Class III 112 Hart Senate Office Building Washington DC 20510 (202) 224-3553  Contact: www.harris.senate.gov/contact',\n 'Hassan, Margaret Wood - (D - NH) Class III 330 Hart Senate Office Building Washington DC 20510 (202) 224-3324  Contact: www.hassan.senate.gov/content/contact-senator',\n 'Hoeven, John - (R - ND) Class III 338 Russell Senate Office Building Washington DC 20510 (202) 224-2551  Contact: www.hoeven.senate.gov/public/index.cfm/email-the-senator',\n 'Hyde-Smith, Cindy - (R - MS) Class II G12 Dirksen Senate Office Building Washington DC 20510 (202) 224-5054  Contact: www.hydesmith.senate.gov/content/contact-senator',\n 'Inhofe, James M. - (R - OK) Class II 205 Russell Senate Office Building Washington DC 20510 (202) 224-4721  Contact: www.inhofe.senate.gov/contact',\n 'Isakson, Johnny - (R - GA) Class III 131 Russell Senate Office Building Washington DC 20510 (202) 224-3643  Contact: www.isakson.senate.gov/public/index.cfm/email-me',\n 'Johnson, Ron - (R - WI) Class III 328 Hart Senate Office Building Washington DC 20510 (202) 224-5323  Contact: www.ronjohnson.senate.gov/public/index.cfm/email-the-sena...',\n 'Jones, Doug - (D - AL) Class II 326 Russell Senate Office Building Washington DC 20510 (202) 224-4124  Contact: www.jones.senate.gov/content/contact-senator',\n 'Kennedy, John - (R - LA) Class III 383 Russell Senate Office Building Washington DC 20510 (202) 224-4623  Contact: www.kennedy.senate.gov/public/email-me',\n 'Lankford, James - (R - OK) Class III 316 Hart Senate Office Building Washington DC 20510 (202) 224-5754  Contact: www.lankford.senate.gov/contact/email',\n 'Leahy, Patrick J. - (D - VT) Class III 437 Russell Senate Office Building Washington DC 20510 (202) 224-4242  Contact: www.leahy.senate.gov/contact/',\n 'Lee, Mike - (R - UT) Class III 361A Russell Senate Office Building Washington DC 20510 (202) 224-5444  Contact: www.lee.senate.gov/public/index.cfm/contact',\n 'Markey, Edward J. - (D - MA) Class II 255 Dirksen Senate Office Building Washington DC 20510 (202) 224-2742  Contact: www.markey.senate.gov/contact',\n 'McCain, John - (R - AZ) Class III 218 Russell Senate Office Building Washington DC 20510 (202) 224-2235  Contact: www.mccain.senate.gov/public/index.cfm/contact-form',\n 'McConnell, Mitch - (R - KY) Class II 317 Russell Senate Office Building Washington DC 20510 (202) 224-2541  Contact: www.mcconnell.senate.gov/public/index.cfm?p=contact',\n 'Merkley, Jeff - (D - OR) Class II 313 Hart Senate Office Building Washington DC 20510 (202) 224-3753  Contact: www.merkley.senate.gov/contact/',\n 'Moran, Jerry - (R - KS) Class III 521 Dirksen Senate Office Building Washington DC 20510 (202) 224-6521  Contact: www.moran.senate.gov/public/index.cfm/e-mail-jerry',\n 'Murkowski, Lisa - (R - AK) Class III 522 Hart Senate Office Building Washington DC 20510 (202) 224-6665  Contact: www.murkowski.senate.gov/public/index.cfm/contact',\n 'Murray, Patty - (D - WA) Class III 154 Russell Senate Office Building Washington DC 20510 (202) 224-2621  Contact: www.murray.senate.gov/public/index.cfm/contactme',\n 'Paul, Rand - (R - KY) Class III 167 Russell Senate Office Building Washington DC 20510 (202) 224-4343  Contact: www.paul.senate.gov/connect/email-rand ',\n 'Perdue, David - (R - GA) Class II 455 Russell Senate Office Building Washington DC 20510 (202) 224-3521  Contact: www.perdue.senate.gov/connect/email',\n 'Peters, Gary C. - (D - MI) Class II 724 Hart Senate Office Building Washington DC 20510 (202) 224-6221  Contact: www.peters.senate.gov/contact/email-gary',\n 'Portman, Rob - (R - OH) Class III 448 Russell Senate Office Building Washington DC 20510 (202) 224-3353  Contact: www.portman.senate.gov/public/index.cfm/contact?p=contact...',\n 'Reed, Jack - (D - RI) Class II 728 Hart Senate Office Building Washington DC 20510 (202) 224-4642  Contact: www.reed.senate.gov/contact/',\n 'Risch, James E. - (R - ID) Class II 483 Russell Senate Office Building Washington DC 20510 (202) 224-2752  Contact: www.risch.senate.gov/public/index.cfm?p=Email',\n 'Roberts, Pat - (R - KS) Class II 109 Hart Senate Office Building Washington DC 20510 (202) 224-4774  Contact: www.roberts.senate.gov/public/?p=EmailPat',\n 'Rounds, Mike - (R - SD) Class II 502 Hart Senate Office Building Washington DC 20510 (202) 224-5842  Contact: www.rounds.senate.gov/contact/email-mike',\n 'Rubio, Marco - (R - FL) Class III 284 Russell Senate Office Building Washington DC 20510 (202) 224-3041  Contact: www.rubio.senate.gov/public/index.cfm/contact',\n 'Sasse, Ben - (R - NE) Class II 136 Russell Senate Office Building Washington DC 20510 (202) 224-4224  Contact: www.sasse.senate.gov/public/index.cfm/email-ben',\n 'Schatz, Brian - (D - HI) Class III 722 Hart Senate Office Building Washington DC 20510 (202) 224-3934  Contact: www.schatz.senate.gov/contact',\n 'Schumer, Charles E. - (D - NY) Class III 322 Hart Senate Office Building Washington DC 20510 (202) 224-6542  Contact: www.schumer.senate.gov/contact/email-chuck',\n 'Scott, Tim - (R - SC) Class III 717 Hart Senate Office Building Washington DC 20510 (202) 224-6121  Contact: www.scott.senate.gov/contact/email-me',\n 'Shaheen, Jeanne - (D - NH) Class II 506 Hart Senate Office Building Washington DC 20510 (202) 224-2841  Contact: www.shaheen.senate.gov/contact/contact-jeanne',\n 'Shelby, Richard C. - (R - AL) Class III 304 Russell Senate Office Building Washington DC 20510 (202) 224-5744  Contact: www.shelby.senate.gov/public/index.cfm/emailsenatorshelby',\n 'Smith, Tina - (D - MN) Class II 309 Hart Senate Office Building Washington DC 20510 (202) 224-5641  Contact: www.smith.senate.gov/content/contact-senator',\n 'Sullivan, Dan - (R - AK) Class II 702 Hart Senate Office Building Washington DC 20510 (202) 224-3004  Contact: www.sullivan.senate.gov/contact/email',\n 'Thune, John - (R - SD) Class III 511 Dirksen Senate Office Building Washington DC 20510 (202) 224-2321  Contact: www.thune.senate.gov/public/index.cfm/contact',\n 'Tillis, Thom - (R - NC) Class II 185 Dirksen Senate Office Building Washington DC 20510 (202) 224-6342  Contact: www.tillis.senate.gov/public/index.cfm/email-me',\n 'Toomey, Patrick J. - (R - PA) Class III 248 Russell Senate Office Building Washington DC 20510 (202) 224-4254  Contact: www.toomey.senate.gov/?p=contact',\n 'Udall, Tom - (D - NM) Class II 531 Hart Senate Office Building Washington DC 20510 (202) 224-6621  Contact: www.tomudall.senate.gov/?p=contact',\n 'Van Hollen, Chris - (D - MD) Class III 110 Hart Senate Office Building Washington DC 20510 (202) 224-4654  Contact: www.vanhollen.senate.gov/content/contact-senator',\n 'Warner, Mark R. - (D - VA) Class II 703 Hart Senate Office Building Washington DC 20510 (202) 224-2023  Contact: www.warner.senate.gov/public/index.cfm?p=Contact',\n 'Wyden, Ron - (D - OR) Class III 221 Dirksen Senate Office Building Washington DC 20510 (202) 224-5244  Contact: www.wyden.senate.gov/contact/',\n 'Young, Todd - (R - IN) Class III 400 Russell Senate Office Building Washington DC 20510 (202) 224-5623  Contact: www.young.senate.gov/contact']"
      ]
     },
     "execution_count": 9,
     "metadata": {},
     "output_type": "execute_result"
    }
   ],
   "source": [
    "#3. List all class II and III senators\n",
    "my_regex = r\"class i{2,3} \"\n",
    "[line for line in senator_list if re.search(my_regex, line, re.IGNORECASE)]"
   ]
  },
  {
   "cell_type": "code",
   "execution_count": 10,
   "metadata": {
    "collapsed": true
   },
   "outputs": [
    {
     "data": {
      "text/plain": [
       "['King, Angus S., Jr. - (I - ME) Class I 133 Hart Senate Office Building Washington DC 20510 (202) 224-5344  Contact: www.king.senate.gov/contact',\n 'Sanders, Bernard - (I - VT) Class I 332 Dirksen Senate Office Building Washington DC 20510 (202) 224-5141  Contact: www.sanders.senate.gov/contact/']"
      ]
     },
     "execution_count": 10,
     "metadata": {},
     "output_type": "execute_result"
    }
   ],
   "source": [
    "#4. List all independent senators\n",
    "my_regex = r\"\\([^RD] -\"\n",
    "[line for line in senator_list if re.search(my_regex, line, re.IGNORECASE)]"
   ]
  },
  {
   "cell_type": "code",
   "execution_count": 12,
   "metadata": {
    "collapsed": true
   },
   "outputs": [
    {
     "data": {
      "text/plain": [
       "['Barrasso, John - (R - WY) Class I 307 Dirksen Senate Office Building Washington DC 20510 (202) 224-6441  Contact: www.barrasso.senate.gov/public/index.cfm/contact-form',\n 'Cantwell, Maria - (D - WA) Class I 511 Hart Senate Office Building Washington DC 20510 (202) 224-3441  Contact: www.cantwell.senate.gov/public/index.cfm/email-maria',\n 'Carper, Thomas R. - (D - DE) Class I 513 Hart Senate Office Building Washington DC 20510 (202) 224-2441  Contact: www.carper.senate.gov/public/index.cfm/email-senator-carper',\n 'Feinstein, Dianne - (D - CA) Class I 331 Hart Senate Office Building Washington DC 20510 (202) 224-3841  Contact: www.feinstein.senate.gov/public/index.cfm/e-mail-me',\n 'Gardner, Cory - (R - CO) Class II 354 Russell Senate Office Building Washington DC 20510 (202) 224-5941  Contact: www.gardner.senate.gov/contact-cory/email-cory',\n 'McConnell, Mitch - (R - KY) Class II 317 Russell Senate Office Building Washington DC 20510 (202) 224-2541  Contact: www.mcconnell.senate.gov/public/index.cfm?p=contact',\n 'Murphy, Christopher - (D - CT) Class I 136 Hart Senate Office Building Washington DC 20510 (202) 224-4041  Contact: www.murphy.senate.gov/contact',\n 'Rubio, Marco - (R - FL) Class III 284 Russell Senate Office Building Washington DC 20510 (202) 224-3041  Contact: www.rubio.senate.gov/public/index.cfm/contact',\n 'Sanders, Bernard - (I - VT) Class I 332 Dirksen Senate Office Building Washington DC 20510 (202) 224-5141  Contact: www.sanders.senate.gov/contact/',\n 'Shaheen, Jeanne - (D - NH) Class II 506 Hart Senate Office Building Washington DC 20510 (202) 224-2841  Contact: www.shaheen.senate.gov/contact/contact-jeanne',\n 'Smith, Tina - (D - MN) Class II 309 Hart Senate Office Building Washington DC 20510 (202) 224-5641  Contact: www.smith.senate.gov/content/contact-senator']"
      ]
     },
     "execution_count": 12,
     "metadata": {},
     "output_type": "execute_result"
    }
   ],
   "source": [
    "#5. List all senators whose phone Numbers end with 41\n",
    "my_regex = r\"\\(\\d{3}\\) \\d{3}-\\d{2}41\"\n",
    "[line for line in senator_list if re.search(my_regex, line, re.IGNORECASE)]"
   ]
  },
  {
   "cell_type": "code",
   "execution_count": 13,
   "metadata": {
    "collapsed": true
   },
   "outputs": [
    {
     "data": {
      "text/plain": [
       "['Bennet, Michael F. - (D - CO) Class III 261 Russell Senate Office Building Washington DC 20510 (202) 224-5852  Contact: www.bennet.senate.gov/public/index.cfm/write-to-michael',\n 'Blumenthal, Richard - (D - CT) Class III 706 Hart Senate Office Building Washington DC 20510 (202) 224-2823  Contact: www.blumenthal.senate.gov/contact/',\n 'Boozman, John - (R - AR) Class III 141 Hart Senate Office Building Washington DC 20510 (202) 224-4843  Contact: www.boozman.senate.gov/public/index.cfm/contact',\n 'Cotton, Tom - (R - AR) Class II 124 Russell Senate Office Building Washington DC 20510 (202) 224-2353  Contact: www.cotton.senate.gov/?p=contact',\n 'Feinstein, Dianne - (D - CA) Class I 331 Hart Senate Office Building Washington DC 20510 (202) 224-3841  Contact: www.feinstein.senate.gov/public/index.cfm/e-mail-me',\n 'Flake, Jeff - (R - AZ) Class I 413 Russell Senate Office Building Washington DC 20510 (202) 224-4521  Contact: www.flake.senate.gov/public/index.cfm/contact-jeff',\n 'Gardner, Cory - (R - CO) Class II 354 Russell Senate Office Building Washington DC 20510 (202) 224-5941  Contact: www.gardner.senate.gov/contact-cory/email-cory',\n 'Harris, Kamala D. - (D - CA) Class III 112 Hart Senate Office Building Washington DC 20510 (202) 224-3553  Contact: www.harris.senate.gov/contact',\n 'Jones, Doug - (D - AL) Class II 326 Russell Senate Office Building Washington DC 20510 (202) 224-4124  Contact: www.jones.senate.gov/content/contact-senator',\n 'McCain, John - (R - AZ) Class III 218 Russell Senate Office Building Washington DC 20510 (202) 224-2235  Contact: www.mccain.senate.gov/public/index.cfm/contact-form',\n 'Murkowski, Lisa - (R - AK) Class III 522 Hart Senate Office Building Washington DC 20510 (202) 224-6665  Contact: www.murkowski.senate.gov/public/index.cfm/contact',\n 'Murphy, Christopher - (D - CT) Class I 136 Hart Senate Office Building Washington DC 20510 (202) 224-4041  Contact: www.murphy.senate.gov/contact',\n 'Shelby, Richard C. - (R - AL) Class III 304 Russell Senate Office Building Washington DC 20510 (202) 224-5744  Contact: www.shelby.senate.gov/public/index.cfm/emailsenatorshelby',\n 'Sullivan, Dan - (R - AK) Class II 702 Hart Senate Office Building Washington DC 20510 (202) 224-3004  Contact: www.sullivan.senate.gov/contact/email']"
      ]
     },
     "execution_count": 13,
     "metadata": {},
     "output_type": "execute_result"
    }
   ],
   "source": [
    "#6. List All senators from a state that begins with A, B or C\n",
    "my_regex = r\"\\([DRI] - [ABC]\"\n",
    "[line for line in senator_list if re.search(my_regex, line, re.IGNORECASE)]"
   ]
  },
  {
   "cell_type": "markdown",
   "metadata": {},
   "source": [
    "**Terrible bonus question:** If you really want to make things hard on yourself, write a regular expression using groups that will parse each line and return a list of tuples that looks like this:\n",
    "\n",
    "```\n",
    "[[('Alexander',\n",
    "   'Lamar ',\n",
    "   'R',\n",
    "   'TN',\n",
    "   'Class II',\n",
    "   '455 Dirksen Senate Office Building Washington DC 20510',\n",
    "   '(202) 224-4944 ',\n",
    "   'www.alexander.senate.gov/public/index.cfm?p=Email')],\n",
    " [('Baldwin',\n",
    "   'Tammy ',\n",
    "   'D',\n",
    "   'WI',\n",
    "   'Class I',\n",
    "   '709 Hart Senate Office Building Washington DC 20510',\n",
    "   '(202) 224-5653 ',\n",
    "   'www.baldwin.senate.gov/feedback')],\n",
    " [('Barrasso',\n",
    "   'John ',\n",
    "   'R',\n",
    "   'WY',\n",
    "   'Class I',\n",
    "   '307 Dirksen Senate Office Building Washington DC 20510',\n",
    "   '(202) 224-6441 ',\n",
    "   'www.barrasso.senate.gov/public/index.cfm/contact-form')],\n",
    " [('Bennet',\n",
    "   'Michael F. ',\n",
    "   'D',\n",
    "   'CO',\n",
    "   'Class III',\n",
    "   '261 Russell Senate Office Building Washington DC 20510',\n",
    "   '(202) 224-5852 ',\n",
    "   'www.bennet.senate.gov/public/index.cfm/write-to-michael')]\n",
    "  \n",
    "```\n",
    "...and so forth, 8 fields for 100 senators. \n",
    "\n",
    "You just need to modify the regular expression.\n",
    "\n",
    "If you don't like the idea of this, immediately move on to the cells below to search the Waste Land."
   ]
  },
  {
   "cell_type": "code",
   "execution_count": 14,
   "metadata": {},
   "outputs": [
    {
     "data": {
      "text/plain": [
       "[[('Alexander',\n   'Lamar ',\n   'R',\n   'TN',\n   'Class II',\n   '455 Dirksen Senate Office Building Washington DC 20510',\n   '(202) 224-4944 ',\n   'www.alexander.senate.gov/public/index.cfm?p=Email')],\n [('Baldwin',\n   'Tammy ',\n   'D',\n   'WI',\n   'Class I',\n   '709 Hart Senate Office Building Washington DC 20510',\n   '(202) 224-5653 ',\n   'www.baldwin.senate.gov/feedback')],\n [('Barrasso',\n   'John ',\n   'R',\n   'WY',\n   'Class I',\n   '307 Dirksen Senate Office Building Washington DC 20510',\n   '(202) 224-6441 ',\n   'www.barrasso.senate.gov/public/index.cfm/contact-form')],\n [('Bennet',\n   'Michael F. ',\n   'D',\n   'CO',\n   'Class III',\n   '261 Russell Senate Office Building Washington DC 20510',\n   '(202) 224-5852 ',\n   'www.bennet.senate.gov/public/index.cfm/write-to-michael')],\n [('Blumenthal',\n   'Richard ',\n   'D',\n   'CT',\n   'Class III',\n   '706 Hart Senate Office Building Washington DC 20510',\n   '(202) 224-2823 ',\n   'www.blumenthal.senate.gov/contact/')],\n [('Blunt',\n   'Roy ',\n   'R',\n   'MO',\n   'Class III',\n   '260 Russell Senate Office Building Washington DC 20510',\n   '(202) 224-5721 ',\n   'www.blunt.senate.gov/public/index.cfm/contact-roy')],\n [('Booker',\n   'Cory A. ',\n   'D',\n   'NJ',\n   'Class II',\n   '359 Dirksen Senate Office Building Washington DC 20510',\n   '(202) 224-3224 ',\n   'www.booker.senate.gov/?p=contact')],\n [('Boozman',\n   'John ',\n   'R',\n   'AR',\n   'Class III',\n   '141 Hart Senate Office Building Washington DC 20510',\n   '(202) 224-4843 ',\n   'www.boozman.senate.gov/public/index.cfm/contact')],\n [('Brown',\n   'Sherrod ',\n   'D',\n   'OH',\n   'Class I',\n   '713 Hart Senate Office Building Washington DC 20510',\n   '(202) 224-2315 ',\n   'www.brown.senate.gov/contact/')],\n [('Burr',\n   'Richard ',\n   'R',\n   'NC',\n   'Class III',\n   '217 Russell Senate Office Building Washington DC 20510',\n   '(202) 224-3154 ',\n   'www.burr.senate.gov/contact/email')],\n [('Cantwell',\n   'Maria ',\n   'D',\n   'WA',\n   'Class I',\n   '511 Hart Senate Office Building Washington DC 20510',\n   '(202) 224-3441 ',\n   'www.cantwell.senate.gov/public/index.cfm/email-maria')],\n [('Capito',\n   'Shelley Moore ',\n   'R',\n   'WV',\n   'Class II',\n   '172 Russell Senate Office Building Washington DC 20510',\n   '(202) 224-6472 ',\n   'www.capito.senate.gov/contact/contact-shelley')],\n [('Cardin',\n   'Benjamin L. ',\n   'D',\n   'MD',\n   'Class I',\n   '509 Hart Senate Office Building Washington DC 20510',\n   '(202) 224-4524 ',\n   'www.cardin.senate.gov/contact/')],\n [('Carper',\n   'Thomas R. ',\n   'D',\n   'DE',\n   'Class I',\n   '513 Hart Senate Office Building Washington DC 20510',\n   '(202) 224-2441 ',\n   'www.carper.senate.gov/public/index.cfm/email-senator-carper')],\n [('Casey',\n   'Robert P., Jr. ',\n   'D',\n   'PA',\n   'Class I',\n   '393 Russell Senate Office Building Washington DC 20510',\n   '(202) 224-6324 ',\n   'www.casey.senate.gov/contact/')],\n [('Cassidy',\n   'Bill ',\n   'R',\n   'LA',\n   'Class II',\n   '520 Hart Senate Office Building Washington DC 20510',\n   '(202) 224-5824 ',\n   'www.cassidy.senate.gov/contact')],\n [('Collins',\n   'Susan M. ',\n   'R',\n   'ME',\n   'Class II',\n   '413 Dirksen Senate Office Building Washington DC 20510',\n   '(202) 224-2523 ',\n   'www.collins.senate.gov/contact')],\n [('Coons',\n   'Christopher A. ',\n   'D',\n   'DE',\n   'Class II',\n   '127A Russell Senate Office Building Washington DC 20510',\n   '(202) 224-5042 ',\n   'www.coons.senate.gov/contact')],\n [('Corker',\n   'Bob ',\n   'R',\n   'TN',\n   'Class I',\n   '425 Dirksen Senate Office Building Washington DC 20510',\n   '(202) 224-3344 ',\n   'www.corker.senate.gov/public/index.cfm/emailme')],\n [('Cornyn',\n   'John ',\n   'R',\n   'TX',\n   'Class II',\n   '517 Hart Senate Office Building Washington DC 20510',\n   '(202) 224-2934 ',\n   'www.cornyn.senate.gov/contact')],\n [('Masto',\n   'Catherine ',\n   'D',\n   'NV',\n   'Class III',\n   '204 Russell Senate Office Building Washington DC 20510',\n   '(202) 224-3542 ',\n   'www.cortezmasto.senate.gov/contact')],\n [('Cotton',\n   'Tom ',\n   'R',\n   'AR',\n   'Class II',\n   '124 Russell Senate Office Building Washington DC 20510',\n   '(202) 224-2353 ',\n   'www.cotton.senate.gov/?p=contact')],\n [('Crapo',\n   'Mike ',\n   'R',\n   'ID',\n   'Class III',\n   '239 Dirksen Senate Office Building Washington DC 20510',\n   '(202) 224-6142 ',\n   'www.crapo.senate.gov/contact')],\n [('Cruz',\n   'Ted ',\n   'R',\n   'TX',\n   'Class I',\n   '404 Russell Senate Office Building Washington DC 20510',\n   '(202) 224-5922 ',\n   'www.cruz.senate.gov/?p=form&id=16')],\n [('Daines',\n   'Steve ',\n   'R',\n   'MT',\n   'Class II',\n   '320 Hart Senate Office Building Washington DC 20510',\n   '(202) 224-2651 ',\n   'www.daines.senate.gov/connect/email-steve')],\n [('Donnelly',\n   'Joe ',\n   'D',\n   'IN',\n   'Class I',\n   '720 Hart Senate Office Building Washington DC 20510',\n   '(202) 224-4814 ',\n   'www.donnelly.senate.gov/contact/email-joe')],\n [('Duckworth',\n   'Tammy ',\n   'D',\n   'IL',\n   'Class III',\n   '524 Hart Senate Office Building Washington DC 20510',\n   '(202) 224-2854 ',\n   'www.duckworth.senate.gov/content/contact-senator')],\n [('Durbin',\n   'Richard J. ',\n   'D',\n   'IL',\n   'Class II',\n   '711 Hart Senate Office Building Washington DC 20510',\n   '(202) 224-2152 ',\n   'www.durbin.senate.gov/contact/')],\n [('Enzi',\n   'Michael B. ',\n   'R',\n   'WY',\n   'Class II',\n   '379A Russell Senate Office Building Washington DC 20510',\n   '(202) 224-3424 ',\n   'www.enzi.senate.gov/public/index.cfm/contact?p=e-mail-sen...')],\n [('Ernst',\n   'Joni ',\n   'R',\n   'IA',\n   'Class II',\n   '111 Russell Senate Office Building Washington DC 20510',\n   '(202) 224-3254 ',\n   'www.ernst.senate.gov/public/index.cfm/contact')],\n [('Feinstein',\n   'Dianne ',\n   'D',\n   'CA',\n   'Class I',\n   '331 Hart Senate Office Building Washington DC 20510',\n   '(202) 224-3841 ',\n   'www.feinstein.senate.gov/public/index.cfm/e-mail-me')],\n [('Fischer',\n   'Deb ',\n   'R',\n   'NE',\n   'Class I',\n   '454 Russell Senate Office Building Washington DC 20510',\n   '(202) 224-6551 ',\n   'www.fischer.senate.gov/public/index.cfm/contact')],\n [('Flake',\n   'Jeff ',\n   'R',\n   'AZ',\n   'Class I',\n   '413 Russell Senate Office Building Washington DC 20510',\n   '(202) 224-4521 ',\n   'www.flake.senate.gov/public/index.cfm/contact-jeff')],\n [('Gardner',\n   'Cory ',\n   'R',\n   'CO',\n   'Class II',\n   '354 Russell Senate Office Building Washington DC 20510',\n   '(202) 224-5941 ',\n   'www.gardner.senate.gov/contact-cory/email-cory')],\n [('Gillibrand',\n   'Kirsten E. ',\n   'D',\n   'NY',\n   'Class I',\n   '478 Russell Senate Office Building Washington DC 20510',\n   '(202) 224-4451 ',\n   'www.gillibrand.senate.gov/contact/email-me')],\n [('Graham',\n   'Lindsey ',\n   'R',\n   'SC',\n   'Class II',\n   '290 Russell Senate Office Building Washington DC 20510',\n   '(202) 224-5972 ',\n   'www.lgraham.senate.gov/public/index.cfm/e-mail-senator-gr... ')],\n [('Grassley',\n   'Chuck ',\n   'R',\n   'IA',\n   'Class III',\n   '135 Hart Senate Office Building Washington DC 20510',\n   '(202) 224-3744 ',\n   'www.grassley.senate.gov/contact')],\n [('Harris',\n   'Kamala D. ',\n   'D',\n   'CA',\n   'Class III',\n   '112 Hart Senate Office Building Washington DC 20510',\n   '(202) 224-3553 ',\n   'www.harris.senate.gov/contact')],\n [('Hassan',\n   'Margaret Wood ',\n   'D',\n   'NH',\n   'Class III',\n   '330 Hart Senate Office Building Washington DC 20510',\n   '(202) 224-3324 ',\n   'www.hassan.senate.gov/content/contact-senator')],\n [('Hatch',\n   'Orrin G. ',\n   'R',\n   'UT',\n   'Class I',\n   '104 Hart Senate Office Building Washington DC 20510',\n   '(202) 224-5251 ',\n   'www.hatch.senate.gov/public/index.cfm/contact?p=Email-Orrin')],\n [('Heinrich',\n   'Martin ',\n   'D',\n   'NM',\n   'Class I',\n   '303 Hart Senate Office Building Washington DC 20510',\n   '(202) 224-5521 ',\n   'www.heinrich.senate.gov/contact')],\n [('Heitkamp',\n   'Heidi ',\n   'D',\n   'ND',\n   'Class I',\n   '516 Hart Senate Office Building Washington DC 20510',\n   '(202) 224-2043 ',\n   'www.heitkamp.senate.gov/public/index.cfm/contact')],\n [('Heller',\n   'Dean ',\n   'R',\n   'NV',\n   'Class I',\n   '324 Hart Senate Office Building Washington DC 20510',\n   '(202) 224-6244 ',\n   'www.heller.senate.gov/public/index.cfm/contact-form')],\n [('Hirono',\n   'Mazie K. ',\n   'D',\n   'HI',\n   'Class I',\n   '730 Hart Senate Office Building Washington DC 20510',\n   '(202) 224-6361 ',\n   'www.hirono.senate.gov/contact')],\n [('Hoeven',\n   'John ',\n   'R',\n   'ND',\n   'Class III',\n   '338 Russell Senate Office Building Washington DC 20510',\n   '(202) 224-2551 ',\n   'www.hoeven.senate.gov/public/index.cfm/email-the-senator')],\n [('Smith',\n   'Cindy ',\n   'R',\n   'MS',\n   'Class II',\n   'G12 Dirksen Senate Office Building Washington DC 20510',\n   '(202) 224-5054 ',\n   'www.hydesmith.senate.gov/content/contact-senator')],\n [('Inhofe',\n   'James M. ',\n   'R',\n   'OK',\n   'Class II',\n   '205 Russell Senate Office Building Washington DC 20510',\n   '(202) 224-4721 ',\n   'www.inhofe.senate.gov/contact')],\n [('Isakson',\n   'Johnny ',\n   'R',\n   'GA',\n   'Class III',\n   '131 Russell Senate Office Building Washington DC 20510',\n   '(202) 224-3643 ',\n   'www.isakson.senate.gov/public/index.cfm/email-me')],\n [('Johnson',\n   'Ron ',\n   'R',\n   'WI',\n   'Class III',\n   '328 Hart Senate Office Building Washington DC 20510',\n   '(202) 224-5323 ',\n   'www.ronjohnson.senate.gov/public/index.cfm/email-the-sena...')],\n [('Jones',\n   'Doug ',\n   'D',\n   'AL',\n   'Class II',\n   '326 Russell Senate Office Building Washington DC 20510',\n   '(202) 224-4124 ',\n   'www.jones.senate.gov/content/contact-senator')],\n [('Kaine',\n   'Tim ',\n   'D',\n   'VA',\n   'Class I',\n   '231 Russell Senate Office Building Washington DC 20510',\n   '(202) 224-4024 ',\n   'www.kaine.senate.gov/contact')],\n [('Kennedy',\n   'John ',\n   'R',\n   'LA',\n   'Class III',\n   '383 Russell Senate Office Building Washington DC 20510',\n   '(202) 224-4623 ',\n   'www.kennedy.senate.gov/public/email-me')],\n [('King',\n   'Angus S., Jr. ',\n   'I',\n   'ME',\n   'Class I',\n   '133 Hart Senate Office Building Washington DC 20510',\n   '(202) 224-5344 ',\n   'www.king.senate.gov/contact')],\n [('Klobuchar',\n   'Amy ',\n   'D',\n   'MN',\n   'Class I',\n   '302 Hart Senate Office Building Washington DC 20510',\n   '(202) 224-3244 ',\n   'www.klobuchar.senate.gov/public/index.cfm/contact')],\n [('Lankford',\n   'James ',\n   'R',\n   'OK',\n   'Class III',\n   '316 Hart Senate Office Building Washington DC 20510',\n   '(202) 224-5754 ',\n   'www.lankford.senate.gov/contact/email')],\n [('Leahy',\n   'Patrick J. ',\n   'D',\n   'VT',\n   'Class III',\n   '437 Russell Senate Office Building Washington DC 20510',\n   '(202) 224-4242 ',\n   'www.leahy.senate.gov/contact/')],\n [('Lee',\n   'Mike ',\n   'R',\n   'UT',\n   'Class III',\n   '361A Russell Senate Office Building Washington DC 20510',\n   '(202) 224-5444 ',\n   'www.lee.senate.gov/public/index.cfm/contact')],\n [('Manchin',\n   'Joe, III ',\n   'D',\n   'WV',\n   'Class I',\n   '306 Hart Senate Office Building Washington DC 20510',\n   '(202) 224-3954 ',\n   'www.manchin.senate.gov/public/index.cfm/contact-form')],\n [('Markey',\n   'Edward J. ',\n   'D',\n   'MA',\n   'Class II',\n   '255 Dirksen Senate Office Building Washington DC 20510',\n   '(202) 224-2742 ',\n   'www.markey.senate.gov/contact')],\n [('McCain',\n   'John ',\n   'R',\n   'AZ',\n   'Class III',\n   '218 Russell Senate Office Building Washington DC 20510',\n   '(202) 224-2235 ',\n   'www.mccain.senate.gov/public/index.cfm/contact-form')],\n [('McCaskill',\n   'Claire ',\n   'D',\n   'MO',\n   'Class I',\n   '503 Hart Senate Office Building Washington DC 20510',\n   '(202) 224-6154 ',\n   'www.mccaskill.senate.gov/contact')],\n [('McConnell',\n   'Mitch ',\n   'R',\n   'KY',\n   'Class II',\n   '317 Russell Senate Office Building Washington DC 20510',\n   '(202) 224-2541 ',\n   'www.mcconnell.senate.gov/public/index.cfm?p=contact')],\n [('Menendez',\n   'Robert ',\n   'D',\n   'NJ',\n   'Class I',\n   '528 Hart Senate Office Building Washington DC 20510',\n   '(202) 224-4744 ',\n   'www.menendez.senate.gov/contact')],\n [('Merkley',\n   'Jeff ',\n   'D',\n   'OR',\n   'Class II',\n   '313 Hart Senate Office Building Washington DC 20510',\n   '(202) 224-3753 ',\n   'www.merkley.senate.gov/contact/')],\n [('Moran',\n   'Jerry ',\n   'R',\n   'KS',\n   'Class III',\n   '521 Dirksen Senate Office Building Washington DC 20510',\n   '(202) 224-6521 ',\n   'www.moran.senate.gov/public/index.cfm/e-mail-jerry')],\n [('Murkowski',\n   'Lisa ',\n   'R',\n   'AK',\n   'Class III',\n   '522 Hart Senate Office Building Washington DC 20510',\n   '(202) 224-6665 ',\n   'www.murkowski.senate.gov/public/index.cfm/contact')],\n [('Murphy',\n   'Christopher ',\n   'D',\n   'CT',\n   'Class I',\n   '136 Hart Senate Office Building Washington DC 20510',\n   '(202) 224-4041 ',\n   'www.murphy.senate.gov/contact')],\n [('Murray',\n   'Patty ',\n   'D',\n   'WA',\n   'Class III',\n   '154 Russell Senate Office Building Washington DC 20510',\n   '(202) 224-2621 ',\n   'www.murray.senate.gov/public/index.cfm/contactme')],\n [('Nelson',\n   'Bill ',\n   'D',\n   'FL',\n   'Class I',\n   '716 Hart Senate Office Building Washington DC 20510',\n   '(202) 224-5274 ',\n   'www.billnelson.senate.gov/contact-bill')],\n [('Paul',\n   'Rand ',\n   'R',\n   'KY',\n   'Class III',\n   '167 Russell Senate Office Building Washington DC 20510',\n   '(202) 224-4343 ',\n   'www.paul.senate.gov/connect/email-rand ')],\n [('Perdue',\n   'David ',\n   'R',\n   'GA',\n   'Class II',\n   '455 Russell Senate Office Building Washington DC 20510',\n   '(202) 224-3521 ',\n   'www.perdue.senate.gov/connect/email')],\n [('Peters',\n   'Gary C. ',\n   'D',\n   'MI',\n   'Class II',\n   '724 Hart Senate Office Building Washington DC 20510',\n   '(202) 224-6221 ',\n   'www.peters.senate.gov/contact/email-gary')],\n [('Portman',\n   'Rob ',\n   'R',\n   'OH',\n   'Class III',\n   '448 Russell Senate Office Building Washington DC 20510',\n   '(202) 224-3353 ',\n   'www.portman.senate.gov/public/index.cfm/contact?p=contact...')],\n [('Reed',\n   'Jack ',\n   'D',\n   'RI',\n   'Class II',\n   '728 Hart Senate Office Building Washington DC 20510',\n   '(202) 224-4642 ',\n   'www.reed.senate.gov/contact/')],\n [('Risch',\n   'James E. ',\n   'R',\n   'ID',\n   'Class II',\n   '483 Russell Senate Office Building Washington DC 20510',\n   '(202) 224-2752 ',\n   'www.risch.senate.gov/public/index.cfm?p=Email')],\n [('Roberts',\n   'Pat ',\n   'R',\n   'KS',\n   'Class II',\n   '109 Hart Senate Office Building Washington DC 20510',\n   '(202) 224-4774 ',\n   'www.roberts.senate.gov/public/?p=EmailPat')],\n [('Rounds',\n   'Mike ',\n   'R',\n   'SD',\n   'Class II',\n   '502 Hart Senate Office Building Washington DC 20510',\n   '(202) 224-5842 ',\n   'www.rounds.senate.gov/contact/email-mike')],\n [('Rubio',\n   'Marco ',\n   'R',\n   'FL',\n   'Class III',\n   '284 Russell Senate Office Building Washington DC 20510',\n   '(202) 224-3041 ',\n   'www.rubio.senate.gov/public/index.cfm/contact')],\n [('Sanders',\n   'Bernard ',\n   'I',\n   'VT',\n   'Class I',\n   '332 Dirksen Senate Office Building Washington DC 20510',\n   '(202) 224-5141 ',\n   'www.sanders.senate.gov/contact/')],\n [('Sasse',\n   'Ben ',\n   'R',\n   'NE',\n   'Class II',\n   '136 Russell Senate Office Building Washington DC 20510',\n   '(202) 224-4224 ',\n   'www.sasse.senate.gov/public/index.cfm/email-ben')],\n [('Schatz',\n   'Brian ',\n   'D',\n   'HI',\n   'Class III',\n   '722 Hart Senate Office Building Washington DC 20510',\n   '(202) 224-3934 ',\n   'www.schatz.senate.gov/contact')],\n [('Schumer',\n   'Charles E. ',\n   'D',\n   'NY',\n   'Class III',\n   '322 Hart Senate Office Building Washington DC 20510',\n   '(202) 224-6542 ',\n   'www.schumer.senate.gov/contact/email-chuck')],\n [('Scott',\n   'Tim ',\n   'R',\n   'SC',\n   'Class III',\n   '717 Hart Senate Office Building Washington DC 20510',\n   '(202) 224-6121 ',\n   'www.scott.senate.gov/contact/email-me')],\n [('Shaheen',\n   'Jeanne ',\n   'D',\n   'NH',\n   'Class II',\n   '506 Hart Senate Office Building Washington DC 20510',\n   '(202) 224-2841 ',\n   'www.shaheen.senate.gov/contact/contact-jeanne')],\n [('Shelby',\n   'Richard C. ',\n   'R',\n   'AL',\n   'Class III',\n   '304 Russell Senate Office Building Washington DC 20510',\n   '(202) 224-5744 ',\n   'www.shelby.senate.gov/public/index.cfm/emailsenatorshelby')],\n [('Smith',\n   'Tina ',\n   'D',\n   'MN',\n   'Class II',\n   '309 Hart Senate Office Building Washington DC 20510',\n   '(202) 224-5641 ',\n   'www.smith.senate.gov/content/contact-senator')],\n [('Stabenow',\n   'Debbie ',\n   'D',\n   'MI',\n   'Class I',\n   '731 Hart Senate Office Building Washington DC 20510',\n   '(202) 224-4822 ',\n   'www.stabenow.senate.gov/contact')],\n [('Sullivan',\n   'Dan ',\n   'R',\n   'AK',\n   'Class II',\n   '702 Hart Senate Office Building Washington DC 20510',\n   '(202) 224-3004 ',\n   'www.sullivan.senate.gov/contact/email')],\n [('Tester',\n   'Jon ',\n   'D',\n   'MT',\n   'Class I',\n   '311 Hart Senate Office Building Washington DC 20510',\n   '(202) 224-2644 ',\n   'www.tester.senate.gov/?p=email_senator')],\n [('Thune',\n   'John ',\n   'R',\n   'SD',\n   'Class III',\n   '511 Dirksen Senate Office Building Washington DC 20510',\n   '(202) 224-2321 ',\n   'www.thune.senate.gov/public/index.cfm/contact')],\n [('Tillis',\n   'Thom ',\n   'R',\n   'NC',\n   'Class II',\n   '185 Dirksen Senate Office Building Washington DC 20510',\n   '(202) 224-6342 ',\n   'www.tillis.senate.gov/public/index.cfm/email-me')],\n [('Toomey',\n   'Patrick J. ',\n   'R',\n   'PA',\n   'Class III',\n   '248 Russell Senate Office Building Washington DC 20510',\n   '(202) 224-4254 ',\n   'www.toomey.senate.gov/?p=contact')],\n [('Udall',\n   'Tom ',\n   'D',\n   'NM',\n   'Class II',\n   '531 Hart Senate Office Building Washington DC 20510',\n   '(202) 224-6621 ',\n   'www.tomudall.senate.gov/?p=contact')],\n [('Hollen',\n   'Chris ',\n   'D',\n   'MD',\n   'Class III',\n   '110 Hart Senate Office Building Washington DC 20510',\n   '(202) 224-4654 ',\n   'www.vanhollen.senate.gov/content/contact-senator')],\n [('Warner',\n   'Mark R. ',\n   'D',\n   'VA',\n   'Class II',\n   '703 Hart Senate Office Building Washington DC 20510',\n   '(202) 224-2023 ',\n   'www.warner.senate.gov/public/index.cfm?p=Contact')],\n [('Warren',\n   'Elizabeth ',\n   'D',\n   'MA',\n   'Class I',\n   '317 Hart Senate Office Building Washington DC 20510',\n   '(202) 224-4543 ',\n   'www.warren.senate.gov/?p=email_senator')],\n [('Whitehouse',\n   'Sheldon ',\n   'D',\n   'RI',\n   'Class I',\n   '530 Hart Senate Office Building Washington DC 20510',\n   '(202) 224-2921 ',\n   'www.whitehouse.senate.gov/contact/email-sheldon')],\n [('Wicker',\n   'Roger F. ',\n   'R',\n   'MS',\n   'Class I',\n   '555 Dirksen Senate Office Building Washington DC 20510',\n   '(202) 224-6253 ',\n   'www.wicker.senate.gov/public/index.cfm/contact')],\n [('Wyden',\n   'Ron ',\n   'D',\n   'OR',\n   'Class III',\n   '221 Dirksen Senate Office Building Washington DC 20510',\n   '(202) 224-5244 ',\n   'www.wyden.senate.gov/contact/')],\n [('Young',\n   'Todd ',\n   'R',\n   'IN',\n   'Class III',\n   '400 Russell Senate Office Building Washington DC 20510',\n   '(202) 224-5623 ',\n   'www.young.senate.gov/contact')]]"
      ]
     },
     "execution_count": 14,
     "metadata": {},
     "output_type": "execute_result"
    }
   ],
   "source": [
    "data_regex = r\"(\\w+), ([^-]+)- [(](\\w) - (\\w\\w)[)] (Class I+) (.*\\d{5}) ([^C]+) Contact: (.*)$\"\n",
    "#fields = re.findall(data_regex,senator_list[44])\n",
    "everything = [re.findall(data_regex,line) for line in senator_list]\n",
    "everything\n",
    "#fields"
   ]
  },
  {
   "cell_type": "markdown",
   "metadata": {},
   "source": [
    "The questions below are on The Waste Land, go to courseworks and download `wasteland.txt` and then put in the proper path to your file on your computer. Then run the two cells below."
   ]
  },
  {
   "cell_type": "code",
   "execution_count": 15,
   "metadata": {},
   "outputs": [],
   "source": [
    "f = open('homework-04/wasteland.txt', 'r')\n",
    "wasteland = f.read()"
   ]
  },
  {
   "cell_type": "code",
   "execution_count": 16,
   "metadata": {
    "collapsed": true
   },
   "outputs": [],
   "source": [
    "poemlines = wasteland.split('\\n')\n",
    "poemlines = [line.strip() for line in poemlines]"
   ]
  },
  {
   "cell_type": "code",
   "execution_count": 17,
   "metadata": {
    "collapsed": true
   },
   "outputs": [
    {
     "data": {
      "text/plain": [
       "['Looking into the heart of light, the silence.',\n 'I see crowds of people, walking round in a ring.',\n 'Flowed up the hill and down King William Street,',\n 'The change of Philomel, by the barbarous king',\n '“What are you thinking of? What thinking? What?',\n '“I never know what you are thinking. Think.”',\n 'Musing upon the king my brother’s wreck',\n 'And on the king my father’s death before him.',\n 'Stockings, slippers, camisoles, and stays.',\n 'There is always another one walking beside you',\n 'My friend, blood shaking my heart',\n 'Thinking of the key, each confirms a prison']"
      ]
     },
     "execution_count": 17,
     "metadata": {},
     "output_type": "execute_result"
    }
   ],
   "source": [
    "#7. Lines with the WORD \"king\" in them\n",
    "my_regex = r\"king\"\n",
    "[line for line in poemlines if re.search(my_regex, line,re.IGNORECASE)]"
   ]
  },
  {
   "cell_type": "code",
   "execution_count": 18,
   "metadata": {
    "collapsed": true
   },
   "outputs": [
    {
     "data": {
      "text/plain": [
       "['Looking into the heart of light, the silence.',\n 'I see crowds of people, walking round in a ring.',\n '“What are you thinking of? What thinking? What?',\n 'There is always another one walking beside you',\n 'My friend, blood shaking my heart',\n 'Thinking of the key, each confirms a prison']"
      ]
     },
     "execution_count": 18,
     "metadata": {},
     "output_type": "execute_result"
    }
   ],
   "source": [
    "#8. Lines with the words ending in \"king\", but not the word \"king\"\n",
    "my_regex = r\"\\w+king \"\n",
    "[line for line in poemlines if re.search(my_regex, line,re.IGNORECASE)]\n"
   ]
  },
  {
   "cell_type": "code",
   "execution_count": 19,
   "metadata": {
    "collapsed": true
   },
   "outputs": [
    {
     "data": {
      "text/plain": [
       "['Bin gar keine Russin, stamm’ aus Litauen, echt deutsch.',\n 'Flung their smoke into the laquearia,',\n 'And they asked me in to dinner, to get the beauty of it hot—',\n 'III. The Fire Sermon',\n 'The time is now propitious, as he guesses,',\n 'And along the Strand, up Queen Victoria Street.',\n 'Weialala leia',\n 'Wallala leialala',\n 'Weialala leia',\n 'Wallala leialala',\n 'Dead mountain mouth of carious teeth that cannot spit']"
      ]
     },
     "execution_count": 19,
     "metadata": {},
     "output_type": "execute_result"
    }
   ],
   "source": [
    "#9. Lines with words containing 3 vowels in a row\n",
    "my_regex = r\"[aeiou]{3}\"\n",
    "[line for line in poemlines if re.search(my_regex, line,re.IGNORECASE)]"
   ]
  },
  {
   "cell_type": "code",
   "execution_count": 20,
   "metadata": {
    "collapsed": true
   },
   "outputs": [
    {
     "data": {
      "text/plain": [
       "['DA', 'DA', 'DA']"
      ]
     },
     "execution_count": 20,
     "metadata": {},
     "output_type": "execute_result"
    }
   ],
   "source": [
    "#10. Lines that are in all capitals from beginning to end\n",
    "my_regex = r\"^[A-Z]+$\"\n",
    "[line for line in poemlines if re.search(my_regex, line)]"
   ]
  },
  {
   "cell_type": "code",
   "execution_count": 24,
   "metadata": {
    "collapsed": true
   },
   "outputs": [
    {
     "data": {
      "text/plain": [
       "['The Waste Land Related Poem Content Details',\n 'BY T. S. ELIOT',\n 'FOR EZRA POUND',\n 'IL MIGLIOR FABBRO',\n 'I. The Burial of the Dead',\n 'Summer surprised us, coming over the Starnbergersee',\n 'And the dry stone no sound of water. Only',\n 'Frisch weht der Wind',\n 'II. A Game of Chess',\n '“Do',\n 'But',\n 'HURRY UP PLEASE ITS TIME',\n 'HURRY UP PLEASE ITS TIME',\n 'HURRY UP PLEASE ITS TIME',\n 'HURRY UP PLEASE ITS TIME',\n 'HURRY UP PLEASE ITS TIME',\n 'III. The Fire Sermon',\n 'O the moon shone bright on Mrs. Porter',\n 'Tereu',\n 'Unreal City',\n 'Asked me in demotic French',\n 'To luncheon at the Cannon Street Hotel',\n 'Wide',\n 'Elizabeth and Leicester',\n 'Highbury bore me. Richmond and Kew',\n 'IV. Death by Water',\n 'Gentile or Jew',\n 'V. What the Thunder Said',\n 'Jerusalem Athens Alexandria',\n 'Vienna London',\n 'Unreal',\n 'DA',\n 'DA',\n 'Revive for a moment a broken Coriolanus',\n 'DA']"
      ]
     },
     "execution_count": 24,
     "metadata": {},
     "output_type": "execute_result"
    }
   ],
   "source": [
    "#11. Lines that end with a Capitalized word.\n",
    "my_regex = r\"[A-Z]\\w+$\"\n",
    "[line for line in poemlines if re.search(my_regex, line)]"
   ]
  },
  {
   "cell_type": "code",
   "execution_count": 26,
   "metadata": {
    "collapsed": true
   },
   "outputs": [
    {
     "data": {
      "text/plain": [
       "['A crowd flowed over London Bridge, so many,',\n 'Flowed up the hill and down King William Street,',\n '“With my hair down, so. What shall we do tomorrow?',\n 'And crawled head downward down a blackened wall',\n 'And upside down in air were towers',\n 'London Bridge is falling down falling down falling down',\n 'Quando fiam uti chelidon—O swallow swallow']"
      ]
     },
     "execution_count": 26,
     "metadata": {},
     "output_type": "execute_result"
    }
   ],
   "source": [
    "#12. Lines that contain two words with the letters \"ow\" in them\n",
    "my_regex = r\"(ow).+(ow)\"\n",
    "[line for line in poemlines if re.search(my_regex, line,re.IGNORECASE)]"
   ]
  },
  {
   "cell_type": "code",
   "execution_count": 25,
   "metadata": {
    "collapsed": true
   },
   "outputs": [
    {
     "data": {
      "text/plain": [
       "['DA',\n 'Datta: what have we given?',\n 'DA',\n 'Dayadhvam: I have heard the key',\n 'DA',\n 'Damyata: The boat responded',\n 'Datta. Dayadhvam. Damyata.']"
      ]
     },
     "execution_count": 25,
     "metadata": {},
     "output_type": "execute_result"
    }
   ],
   "source": [
    "#13. Lines that begin with \"Da\"\n",
    "my_regex = r\"^Da\"\n",
    "[line for line in poemlines if re.search(my_regex, line,re.IGNORECASE)]"
   ]
  },
  {
   "cell_type": "code",
   "execution_count": 27,
   "metadata": {
    "collapsed": true
   },
   "outputs": [
    {
     "data": {
      "text/plain": [
       "['Wo weilest du?',\n '“Has it begun to sprout? Will it bloom this year?',\n '“Or has the sudden frost disturbed its bed?',\n '“What are you thinking of? What thinking? What?',\n '“With my hair down, so. What shall we do tomorrow?',\n 'What you get married for if you don’t want children?',\n 'Who is the third who walks always beside you?',\n '—But who is that on the other side of you?',\n 'Datta: what have we given?',\n 'Shall I at least set my lands in order?']"
      ]
     },
     "execution_count": 27,
     "metadata": {},
     "output_type": "execute_result"
    }
   ],
   "source": [
    "#14. Lines that end with ? (Remember ? is a special character)\n",
    "my_regex = r\"\\?$\"\n",
    "[line for line in poemlines if re.search(my_regex, line,re.IGNORECASE)]"
   ]
  },
  {
   "cell_type": "code",
   "execution_count": 28,
   "metadata": {
    "collapsed": true
   },
   "outputs": [
    {
     "data": {
      "text/plain": [
       "['“Nothing?”', 'I remember', 'Red sails', 'Nothing.”', 'And water', 'A spring']"
      ]
     },
     "execution_count": 28,
     "metadata": {},
     "output_type": "execute_result"
    }
   ],
   "source": [
    "#15. Lines that are between 8 and 10 characters long.\n",
    "my_regex = r\"^.{8,10}$\"\n",
    "[line for line in poemlines if re.search(my_regex, line,re.IGNORECASE)]"
   ]
  },
  {
   "cell_type": "code",
   "execution_count": null,
   "metadata": {
    "collapsed": true
   },
   "outputs": [],
   "source": []
  },
  {
   "cell_type": "code",
   "execution_count": null,
   "metadata": {
    "collapsed": true
   },
   "outputs": [],
   "source": []
  }
 ],
 "metadata": {
  "kernelspec": {
   "display_name": "Python 3",
   "language": "python",
   "name": "python3"
  },
  "language_info": {
   "codemirror_mode": {
    "name": "ipython",
    "version": 3
   },
   "file_extension": ".py",
   "mimetype": "text/x-python",
   "name": "python",
   "nbconvert_exporter": "python",
   "pygments_lexer": "ipython3",
   "version": "3.6.1"
  }
 },
 "nbformat": 4,
 "nbformat_minor": 2
}
