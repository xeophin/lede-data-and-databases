{
 "cells": [
  {
   "cell_type": "markdown",
   "metadata": {},
   "source": [
    "## Final steps\n",
    "1. Finalize your **properties dataframe**: name, headline, article, color, (radius)\n",
    "2. Obtain and prep your **geometry dataframe**: type, coordinates\n",
    "3. Join those two data frames and **export to geojson--specifically to geo-data.js** and put that file in the template folder,\n",
    "4. Open up the template's file **leaf_map.html** in Chrome the JavaScript console open and make sure that it works. \n",
    "5. Customize leaflet: \n",
    "\ta. set the View\n",
    "\tb. change the title\n",
    "\tc. change the background tiles\n",
    "\n",
    "You are done!\n",
    "\n",
    "**Optional extensions:** don't do these until you have gotten through the final steps.\n",
    "\n",
    "**Groups:** you can have multiple layers on your map that can be toggled with the select bar. There're two ways groups can work:\n",
    "\n",
    "1. They can show everything at first, and then only display specific areas of that map: see the leaflet tutorial ipynb for districts grouped by appellate court district.\n",
    "2. they can show completely different layers: for example, in the case at the BBC countries by critic and then countries by director\n",
    "\t\n",
    "If you want to have multiple groups, please contact me with your plan. The main thing is adding both group_id and group_name columns to your table. group_id must begin with the number 0 and go up incrementally from there: 1, 2, 3... so they can be displayed separately.\n",
    "\n",
    "**Legend:** feel free to erase the HTML/JavaScript that displays the current legend. If you want to try to build a legend in HTML feel free.\n",
    "\n",
    "**CSS Styles:** You can modify these in any way you want to change the size of your map window, the fonts, etc."
   ]
  },
  {
   "cell_type": "code",
   "execution_count": null,
   "metadata": {
    "collapsed": true
   },
   "outputs": [],
   "source": []
  }
 ],
 "metadata": {
  "kernelspec": {
   "display_name": "Python 3",
   "language": "python",
   "name": "python3"
  },
  "language_info": {
   "codemirror_mode": {
    "name": "ipython",
    "version": 3
   },
   "file_extension": ".py",
   "mimetype": "text/x-python",
   "name": "python",
   "nbconvert_exporter": "python",
   "pygments_lexer": "ipython3",
   "version": "3.6.5"
  }
 },
 "nbformat": 4,
 "nbformat_minor": 2
}
